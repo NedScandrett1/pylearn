{
 "cells": [
  {
   "cell_type": "code",
   "execution_count": 2,
   "metadata": {},
   "outputs": [
    {
     "name": "stdout",
     "output_type": "stream",
     "text": [
      "Hello World! .. This is Ned Testing\n"
     ]
    }
   ],
   "source": [
    "print('Hello World! .. This is Ned Testing')"
   ]
  },
  {
   "cell_type": "code",
   "execution_count": 1,
   "metadata": {},
   "outputs": [
    {
     "name": "stdout",
     "output_type": "stream",
     "text": [
      "/Users/Administrator/Desktop/pylearn\n"
     ]
    }
   ],
   "source": [
    "import os\n",
    "print(os.getcwd())\n"
   ]
  },
  {
   "cell_type": "markdown",
   "metadata": {},
   "source": [
    "````\n",
    "import numpy as np\n",
    "*Numpy imported*\n",
    "````\n",
    "\n"
   ]
  },
  {
   "cell_type": "markdown",
   "metadata": {},
   "source": [
    "$$\n",
    "y = \\frac{a}{b+c}\n",
    "$$"
   ]
  },
  {
   "cell_type": "code",
   "execution_count": null,
   "metadata": {},
   "outputs": [],
   "source": [
    "$$\n",
    "y = \\frac{a}{b+c}\n",
    "$$"
   ]
  },
  {
   "cell_type": "code",
   "execution_count": 150,
   "metadata": {},
   "outputs": [
    {
     "name": "stdout",
     "output_type": "stream",
     "text": [
      "I just imported matplotlib!\n"
     ]
    }
   ],
   "source": [
    "import matplotlib as plt\n",
    "print('I just imported matplotlib!')"
   ]
  },
  {
   "cell_type": "code",
   "execution_count": 18,
   "metadata": {
    "scrolled": true
   },
   "outputs": [
    {
     "ename": "AttributeError",
     "evalue": "module 'matplotlib' has no attribute 'plot'",
     "output_type": "error",
     "traceback": [
      "\u001b[0;31m---------------------------------------------------------------------------\u001b[0m",
      "\u001b[0;31mAttributeError\u001b[0m                            Traceback (most recent call last)",
      "\u001b[0;32m<ipython-input-18-07005380286d>\u001b[0m in \u001b[0;36m<module>\u001b[0;34m\u001b[0m\n\u001b[1;32m      1\u001b[0m \u001b[0;31m# %matplotlib\u001b[0m\u001b[0;34m\u001b[0m\u001b[0;34m\u001b[0m\u001b[0;34m\u001b[0m\u001b[0m\n\u001b[1;32m      2\u001b[0m \u001b[0;31m# plt.plot([1, 2, 3], [1, 4, 9])\u001b[0m\u001b[0;34m\u001b[0m\u001b[0;34m\u001b[0m\u001b[0;34m\u001b[0m\u001b[0m\n\u001b[0;32m----> 3\u001b[0;31m \u001b[0mplt\u001b[0m\u001b[0;34m.\u001b[0m\u001b[0mplot\u001b[0m\u001b[0;34m(\u001b[0m\u001b[0mt\u001b[0m\u001b[0;34m,\u001b[0m \u001b[0mt\u001b[0m\u001b[0;34m,\u001b[0m \u001b[0;34m'r--'\u001b[0m\u001b[0;34m,\u001b[0m \u001b[0mt\u001b[0m\u001b[0;34m,\u001b[0m \u001b[0mt\u001b[0m\u001b[0;34m**\u001b[0m\u001b[0;36m2\u001b[0m\u001b[0;34m,\u001b[0m \u001b[0;34m'bs'\u001b[0m\u001b[0;34m,\u001b[0m \u001b[0mt\u001b[0m\u001b[0;34m,\u001b[0m \u001b[0mt\u001b[0m\u001b[0;34m**\u001b[0m\u001b[0;36m3\u001b[0m\u001b[0;34m,\u001b[0m \u001b[0;34m'g^'\u001b[0m\u001b[0;34m)\u001b[0m\u001b[0;34m\u001b[0m\u001b[0;34m\u001b[0m\u001b[0m\n\u001b[0m\u001b[1;32m      4\u001b[0m \u001b[0mplt\u001b[0m\u001b[0;34m.\u001b[0m\u001b[0mshow\u001b[0m\u001b[0;34m(\u001b[0m\u001b[0;34m)\u001b[0m\u001b[0;34m\u001b[0m\u001b[0;34m\u001b[0m\u001b[0m\n",
      "\u001b[0;31mAttributeError\u001b[0m: module 'matplotlib' has no attribute 'plot'"
     ]
    }
   ],
   "source": [
    "# %matplotlib\n",
    "# plt.plot([1, 2, 3], [1, 4, 9])\n",
    "plt.plot(t, t, 'r--', t, t**2, 'bs', t, t**3, 'g^')\n",
    "plt.show()\n"
   ]
  },
  {
   "cell_type": "code",
   "execution_count": 6,
   "metadata": {},
   "outputs": [
    {
     "name": "stdout",
     "output_type": "stream",
     "text": [
      "Going to attempt to print 5 records\n",
      "record  0\n",
      "record  1\n",
      "record  2\n",
      "record  3\n",
      "record  4\n"
     ]
    }
   ],
   "source": [
    "print('Going to attempt to print 5 records')\n",
    "for i in range(0,5):\n",
    "    print ('record ',i)"
   ]
  },
  {
   "cell_type": "code",
   "execution_count": 19,
   "metadata": {},
   "outputs": [],
   "source": [
    "MyPi = -3.14\n",
    "def PrintAreaOfCircleWithRadius(radius):\n",
    "    area = MyPi * radius ** 2\n",
    "    return(area)\n",
    "#     print(area)"
   ]
  },
  {
   "cell_type": "code",
   "execution_count": 22,
   "metadata": {},
   "outputs": [
    {
     "data": {
      "text/plain": [
       "-12.56"
      ]
     },
     "execution_count": 22,
     "metadata": {},
     "output_type": "execute_result"
    }
   ],
   "source": [
    "PrintAreaOfCircleWithRadius(2)"
   ]
  },
  {
   "cell_type": "code",
   "execution_count": 26,
   "metadata": {},
   "outputs": [
    {
     "name": "stdout",
     "output_type": "stream",
     "text": [
      "0   -0.0\n",
      "1   -3.14\n",
      "2   -12.56\n",
      "3   -28.26\n",
      "4   -50.24\n",
      "5   -78.5\n",
      "6   -113.04\n",
      "7   -153.86\n",
      "8   -200.96\n",
      "9   -254.34\n"
     ]
    }
   ],
   "source": [
    "%timeit \n",
    "for i in range(0,10):\n",
    "    answer = PrintAreaOfCircleWithRadius(i)\n",
    "    print(i,' ',answer)"
   ]
  },
  {
   "cell_type": "code",
   "execution_count": 109,
   "metadata": {},
   "outputs": [
    {
     "name": "stdout",
     "output_type": "stream",
     "text": [
      "1.99 µs ± 243 ns per loop (mean ± std. dev. of 5 runs, 100 loops each)\n"
     ]
    }
   ],
   "source": [
    "%timeit -n 1000 -r 5 list(range(0,100))"
   ]
  },
  {
   "cell_type": "code",
   "execution_count": 143,
   "metadata": {},
   "outputs": [
    {
     "name": "stdout",
     "output_type": "stream",
     "text": [
      "210 µs ± 3.59 µs per loop (mean ± std. dev. of 5 runs, 1000 loops each)\n"
     ]
    }
   ],
   "source": [
    "%timeit -n 1000 -r 5 list(range(0,10000))"
   ]
  },
  {
   "cell_type": "code",
   "execution_count": 160,
   "metadata": {},
   "outputs": [],
   "source": [
    "import numpy as np\n",
    "# help(numpy)\n",
    "# help(random)"
   ]
  },
  {
   "cell_type": "code",
   "execution_count": 1,
   "metadata": {},
   "outputs": [
    {
     "name": "stdout",
     "output_type": "stream",
     "text": [
      "I just imported numpy\n"
     ]
    }
   ],
   "source": [
    "import numpy as np\n",
    "print('I just imported numpy')"
   ]
  },
  {
   "cell_type": "code",
   "execution_count": 159,
   "metadata": {},
   "outputs": [
    {
     "name": "stdout",
     "output_type": "stream",
     "text": [
      "1.18.1\n"
     ]
    }
   ],
   "source": [
    "print(np.__version__)"
   ]
  },
  {
   "cell_type": "code",
   "execution_count": 3,
   "metadata": {},
   "outputs": [
    {
     "data": {
      "text/plain": [
       "7"
      ]
     },
     "execution_count": 3,
     "metadata": {},
     "output_type": "execute_result"
    }
   ],
   "source": [
    "np.add(2,5)"
   ]
  },
  {
   "cell_type": "code",
   "execution_count": 166,
   "metadata": {},
   "outputs": [
    {
     "name": "stderr",
     "output_type": "stream",
     "text": [
      "IOPub data rate exceeded.\n",
      "The notebook server will temporarily stop sending output\n",
      "to the client in order to avoid crashing it.\n",
      "To change this limit, set the config variable\n",
      "`--NotebookApp.iopub_data_rate_limit`.\n",
      "\n",
      "Current values:\n",
      "NotebookApp.iopub_data_rate_limit=1000000.0 (bytes/sec)\n",
      "NotebookApp.rate_limit_window=3.0 (secs)\n",
      "\n"
     ]
    }
   ],
   "source": [
    "help(numpy)"
   ]
  },
  {
   "cell_type": "code",
   "execution_count": null,
   "metadata": {},
   "outputs": [],
   "source": [
    "np.add()"
   ]
  },
  {
   "cell_type": "code",
   "execution_count": 1,
   "metadata": {
    "scrolled": true
   },
   "outputs": [],
   "source": [
    "# This works\n",
    "# help(np.add)\n",
    "# But this fails\n",
    "# help(np)"
   ]
  },
  {
   "cell_type": "code",
   "execution_count": 170,
   "metadata": {},
   "outputs": [
    {
     "data": {
      "text/plain": [
       "['/Users/Administrator/Documents/Work/pylearn']"
      ]
     },
     "execution_count": 170,
     "metadata": {},
     "output_type": "execute_result"
    }
   ],
   "source": [
    "%system pwd"
   ]
  },
  {
   "cell_type": "code",
   "execution_count": null,
   "metadata": {},
   "outputs": [],
   "source": []
  },
  {
   "cell_type": "code",
   "execution_count": 13,
   "metadata": {},
   "outputs": [
    {
     "name": "stdout",
     "output_type": "stream",
     "text": [
      "successful\n"
     ]
    }
   ],
   "source": [
    "# import matplotlib as mpl\n",
    "import matplotlib\n",
    "print('successful')"
   ]
  },
  {
   "cell_type": "code",
   "execution_count": 2,
   "metadata": {},
   "outputs": [
    {
     "ename": "NameError",
     "evalue": "name 'matplotlib' is not defined",
     "output_type": "error",
     "traceback": [
      "\u001b[0;31m---------------------------------------------------------------------------\u001b[0m",
      "\u001b[0;31mNameError\u001b[0m                                 Traceback (most recent call last)",
      "\u001b[0;32m<ipython-input-2-906e6795ffff>\u001b[0m in \u001b[0;36m<module>\u001b[0;34m\u001b[0m\n\u001b[0;32m----> 1\u001b[0;31m \u001b[0mhelp\u001b[0m\u001b[0;34m(\u001b[0m\u001b[0mmatplotlib\u001b[0m\u001b[0;34m)\u001b[0m\u001b[0;34m\u001b[0m\u001b[0;34m\u001b[0m\u001b[0m\n\u001b[0m",
      "\u001b[0;31mNameError\u001b[0m: name 'matplotlib' is not defined"
     ]
    }
   ],
   "source": [
    "# help(matplotlib)"
   ]
  },
  {
   "cell_type": "code",
   "execution_count": 1,
   "metadata": {},
   "outputs": [
    {
     "data": {
      "image/png": "[encoded data removed]",
      "text/plain": [
       "<Figure size 432x288 with 1 Axes>"
      ]
     },
     "metadata": {
      "needs_background": "light"
     },
     "output_type": "display_data"
    },
    {
     "name": "stdout",
     "output_type": "stream",
     "text": [
      "This cell ran successfully\n"
     ]
    }
   ],
   "source": [
    "import matplotlib.pyplot as mplpp\n",
    "mplpp.plot([4,5,6,2])\n",
    "mplpp.show()\n",
    "\n",
    "print('Above is a chart. This cell ran successfully')"
   ]
  },
  {
   "cell_type": "code",
   "execution_count": 11,
   "metadata": {},
   "outputs": [
    {
     "data": {
      "text/plain": [
       "[]"
      ]
     },
     "execution_count": 11,
     "metadata": {},
     "output_type": "execute_result"
    }
   ],
   "source": [
    "%dirs"
   ]
  },
  {
   "cell_type": "code",
   "execution_count": 12,
   "metadata": {},
   "outputs": [
    {
     "data": {
      "text/plain": [
       "['/Users/Administrator/Documents/Work/pylearn']"
      ]
     },
     "execution_count": 12,
     "metadata": {},
     "output_type": "execute_result"
    }
   ],
   "source": [
    "%system pwd"
   ]
  },
  {
   "cell_type": "code",
   "execution_count": 7,
   "metadata": {
    "scrolled": true
   },
   "outputs": [
    {
     "data": {
      "text/plain": [
       "{'TERM_PROGRAM': 'Apple_Terminal',\n",
       " 'SHELL': '/bin/bash',\n",
       " 'TERM': 'xterm-color',\n",
       " 'TMPDIR': '/var/folders/mc/l_m997456yb7qq2zz2dptrq00000gn/T/',\n",
       " 'CONDA_SHLVL': '1',\n",
       " 'Apple_PubSub_Socket_Render': '/private/tmp/com.apple.launchd.cv7qie0OLx/Render',\n",
       " 'CONDA_PROMPT_MODIFIER': '(base) ',\n",
       " 'TERM_PROGRAM_VERSION': '421.1',\n",
       " 'TERM_SESSION_ID': '02AD07C2-3772-429D-9FCC-350C0455F854',\n",
       " 'USER': 'Administrator',\n",
       " 'CONDA_EXE': '/Users/Administrator/opt/anaconda3/bin/conda',\n",
       " 'SSH_AUTH_SOCK': '/private/tmp/com.apple.launchd.Rkos4Vyf9F/Listeners',\n",
       " '_CE_CONDA': '',\n",
       " 'PATH': '/Users/Administrator/opt/anaconda3/bin:/Users/Administrator/opt/anaconda3/condabin:/opt/local/bin:/opt/local/sbin:/Applications/anaconda/bin:/usr/local/bin:/usr/bin:/bin:/usr/sbin:/sbin',\n",
       " 'CONDA_PREFIX': '/Users/Administrator/opt/anaconda3',\n",
       " 'PWD': '/Users/Administrator/Documents/Work/pylearn',\n",
       " 'LANG': 'en_GB.UTF-8',\n",
       " 'XPC_FLAGS': '0x0',\n",
       " '_CE_M': '',\n",
       " 'XPC_SERVICE_NAME': '0',\n",
       " 'SHLVL': '1',\n",
       " 'HOME': '/Users/Administrator',\n",
       " 'CONDA_PYTHON_EXE': '/Users/Administrator/opt/anaconda3/bin/python',\n",
       " 'LOGNAME': 'Administrator',\n",
       " 'CONDA_DEFAULT_ENV': 'base',\n",
       " '_': '/Users/Administrator/opt/anaconda3/bin/jupyter',\n",
       " 'OLDPWD': '/Users/Administrator/.jupyter',\n",
       " 'KERNEL_LAUNCH_TIMEOUT': '40',\n",
       " 'JPY_PARENT_PID': '52784',\n",
       " 'CLICOLOR': '1',\n",
       " 'PAGER': 'cat',\n",
       " 'GIT_PAGER': 'cat',\n",
       " 'MPLBACKEND': 'module://ipykernel.pylab.backend_inline'}"
      ]
     },
     "execution_count": 7,
     "metadata": {},
     "output_type": "execute_result"
    }
   ],
   "source": [
    "%env"
   ]
  },
  {
   "cell_type": "code",
   "execution_count": 13,
   "metadata": {},
   "outputs": [
    {
     "name": "stdout",
     "output_type": "stream",
     "text": [
      "import matplotlib.pyplot as mplpp\n",
      "mplpp.plot([4,5,6,2])\n",
      "mplpp.show()\n",
      "\n",
      "print('This cell ran successfully')\n",
      "%dirs\n",
      "%system mkdir testfolder\n",
      "%system mkdir testfolder\n",
      "%system cd testfolder\n",
      "%system pwd\n",
      "%env\n",
      "%env HOME:\n",
      "%env HOME\n",
      "%history\n",
      "%dirs\n",
      "%system pwd\n",
      "%history\n"
     ]
    }
   ],
   "source": [
    "%history"
   ]
  },
  {
   "cell_type": "code",
   "execution_count": 3,
   "metadata": {
    "scrolled": true
   },
   "outputs": [
    {
     "name": "stdout",
     "output_type": "stream",
     "text": [
      "[ 0.   0.5  1.   1.5  2.   2.5  3.   3.5  4.   4.5  5.   5.5  6.   6.5\n",
      "  7.   7.5  8.   8.5  9.   9.5 10. ]\n"
     ]
    }
   ],
   "source": [
    "# Let's print some number in intervals of 0.5 (between 0 and 10)\n",
    "x = np.linspace(0,10,21)\n",
    "print(x)\n",
    "# help(np.linspace)"
   ]
  },
  {
   "cell_type": "code",
   "execution_count": 6,
   "metadata": {},
   "outputs": [],
   "source": [
    "%matplotlib notebook\n",
    "import matplotlib.pylab as plt\n",
    "import numpy as np "
   ]
  },
  {
   "cell_type": "code",
   "execution_count": 4,
   "metadata": {},
   "outputs": [
    {
     "data": {
      "application/javascript": [
       "/* Put everything inside the global mpl namespace */\n",
       "window.mpl = {};\n",
       "\n",
       "\n",
       "mpl.get_websocket_type = function() {\n",
       "    if (typeof(WebSocket) !== 'undefined') {\n",
       "        return WebSocket;\n",
       "    } else if (typeof(MozWebSocket) !== 'undefined') {\n",
       "        return MozWebSocket;\n",
       "    } else {\n",
       "        alert('Your browser does not have WebSocket support. ' +\n",
       "              'Please try Chrome, Safari or Firefox ≥ 6. ' +\n",
       "              'Firefox 4 and 5 are also supported but you ' +\n",
       "              'have to enable WebSockets in about:config.');\n",
       "    };\n",
       "}\n",
       "\n",
       "mpl.figure = function(figure_id, websocket, ondownload, parent_element) {\n",
       "    this.id = figure_id;\n",
       "\n",
       "    this.ws = websocket;\n",
       "\n",
       "    this.supports_binary = (this.ws.binaryType != undefined);\n",
       "\n",
       "    if (!this.supports_binary) {\n",
       "        var warnings = document.getElementById(\"mpl-warnings\");\n",
       "        if (warnings) {\n",
       "            warnings.style.display = 'block';\n",
       "            warnings.textContent = (\n",
       "                \"This browser does not support binary websocket messages. \" +\n",
       "                    \"Performance may be slow.\");\n",
       "        }\n",
       "    }\n",
       "\n",
       "    this.imageObj = new Image();\n",
       "\n",
       "    this.context = undefined;\n",
       "    this.message = undefined;\n",
       "    this.canvas = undefined;\n",
       "    this.rubberband_canvas = undefined;\n",
       "    this.rubberband_context = undefined;\n",
       "    this.format_dropdown = undefined;\n",
       "\n",
       "    this.image_mode = 'full';\n",
       "\n",
       "    this.root = $('<div/>');\n",
       "    this._root_extra_style(this.root)\n",
       "    this.root.attr('style', 'display: inline-block');\n",
       "\n",
       "    $(parent_element).append(this.root);\n",
       "\n",
       "    this._init_header(this);\n",
       "    this._init_canvas(this);\n",
       "    this._init_toolbar(this);\n",
       "\n",
       "    var fig = this;\n",
       "\n",
       "    this.waiting = false;\n",
       "\n",
       "    this.ws.onopen =  function () {\n",
       "            fig.send_message(\"supports_binary\", {value: fig.supports_binary});\n",
       "            fig.send_message(\"send_image_mode\", {});\n",
       "            if (mpl.ratio != 1) {\n",
       "                fig.send_message(\"set_dpi_ratio\", {'dpi_ratio': mpl.ratio});\n",
       "            }\n",
       "            fig.send_message(\"refresh\", {});\n",
       "        }\n",
       "\n",
       "    this.imageObj.onload = function() {\n",
       "            if (fig.image_mode == 'full') {\n",
       "                // Full images could contain transparency (where diff images\n",
       "                // almost always do), so we need to clear the canvas so that\n",
       "                // there is no ghosting.\n",
       "                fig.context.clearRect(0, 0, fig.canvas.width, fig.canvas.height);\n",
       "            }\n",
       "            fig.context.drawImage(fig.imageObj, 0, 0);\n",
       "        };\n",
       "\n",
       "    this.imageObj.onunload = function() {\n",
       "        fig.ws.close();\n",
       "    }\n",
       "\n",
       "    this.ws.onmessage = this._make_on_message_function(this);\n",
       "\n",
       "    this.ondownload = ondownload;\n",
       "}\n",
       "\n",
       "mpl.figure.prototype._init_header = function() {\n",
       "    var titlebar = $(\n",
       "        '<div class=\"ui-dialog-titlebar ui-widget-header ui-corner-all ' +\n",
       "        'ui-helper-clearfix\"/>');\n",
       "    var titletext = $(\n",
       "        '<div class=\"ui-dialog-title\" style=\"width: 100%; ' +\n",
       "        'text-align: center; padding: 3px;\"/>');\n",
       "    titlebar.append(titletext)\n",
       "    this.root.append(titlebar);\n",
       "    this.header = titletext[0];\n",
       "}\n",
       "\n",
       "\n",
       "\n",
       "mpl.figure.prototype._canvas_extra_style = function(canvas_div) {\n",
       "\n",
       "}\n",
       "\n",
       "\n",
       "mpl.figure.prototype._root_extra_style = function(canvas_div) {\n",
       "\n",
       "}\n",
       "\n",
       "mpl.figure.prototype._init_canvas = function() {\n",
       "    var fig = this;\n",
       "\n",
       "    var canvas_div = $('<div/>');\n",
       "\n",
       "    canvas_div.attr('style', 'position: relative; clear: both; outline: 0');\n",
       "\n",
       "    function canvas_keyboard_event(event) {\n",
       "        return fig.key_event(event, event['data']);\n",
       "    }\n",
       "\n",
       "    canvas_div.keydown('key_press', canvas_keyboard_event);\n",
       "    canvas_div.keyup('key_release', canvas_keyboard_event);\n",
       "    this.canvas_div = canvas_div\n",
       "    this._canvas_extra_style(canvas_div)\n",
       "    this.root.append(canvas_div);\n",
       "\n",
       "    var canvas = $('<canvas/>');\n",
       "    canvas.addClass('mpl-canvas');\n",
       "    canvas.attr('style', \"left: 0; top: 0; z-index: 0; outline: 0\")\n",
       "\n",
       "    this.canvas = canvas[0];\n",
       "    this.context = canvas[0].getContext(\"2d\");\n",
       "\n",
       "    var backingStore = this.context.backingStorePixelRatio ||\n",
       "\tthis.context.webkitBackingStorePixelRatio ||\n",
       "\tthis.context.mozBackingStorePixelRatio ||\n",
       "\tthis.context.msBackingStorePixelRatio ||\n",
       "\tthis.context.oBackingStorePixelRatio ||\n",
       "\tthis.context.backingStorePixelRatio || 1;\n",
       "\n",
       "    mpl.ratio = (window.devicePixelRatio || 1) / backingStore;\n",
       "\n",
       "    var rubberband = $('<canvas/>');\n",
       "    rubberband.attr('style', \"position: absolute; left: 0; top: 0; z-index: 1;\")\n",
       "\n",
       "    var pass_mouse_events = true;\n",
       "\n",
       "    canvas_div.resizable({\n",
       "        start: function(event, ui) {\n",
       "            pass_mouse_events = false;\n",
       "        },\n",
       "        resize: function(event, ui) {\n",
       "            fig.request_resize(ui.size.width, ui.size.height);\n",
       "        },\n",
       "        stop: function(event, ui) {\n",
       "            pass_mouse_events = true;\n",
       "            fig.request_resize(ui.size.width, ui.size.height);\n",
       "        },\n",
       "    });\n",
       "\n",
       "    function mouse_event_fn(event) {\n",
       "        if (pass_mouse_events)\n",
       "            return fig.mouse_event(event, event['data']);\n",
       "    }\n",
       "\n",
       "    rubberband.mousedown('button_press', mouse_event_fn);\n",
       "    rubberband.mouseup('button_release', mouse_event_fn);\n",
       "    // Throttle sequential mouse events to 1 every 20ms.\n",
       "    rubberband.mousemove('motion_notify', mouse_event_fn);\n",
       "\n",
       "    rubberband.mouseenter('figure_enter', mouse_event_fn);\n",
       "    rubberband.mouseleave('figure_leave', mouse_event_fn);\n",
       "\n",
       "    canvas_div.on(\"wheel\", function (event) {\n",
       "        event = event.originalEvent;\n",
       "        event['data'] = 'scroll'\n",
       "        if (event.deltaY < 0) {\n",
       "            event.step = 1;\n",
       "        } else {\n",
       "            event.step = -1;\n",
       "        }\n",
       "        mouse_event_fn(event);\n",
       "    });\n",
       "\n",
       "    canvas_div.append(canvas);\n",
       "    canvas_div.append(rubberband);\n",
       "\n",
       "    this.rubberband = rubberband;\n",
       "    this.rubberband_canvas = rubberband[0];\n",
       "    this.rubberband_context = rubberband[0].getContext(\"2d\");\n",
       "    this.rubberband_context.strokeStyle = \"#000000\";\n",
       "\n",
       "    this._resize_canvas = function(width, height) {\n",
       "        // Keep the size of the canvas, canvas container, and rubber band\n",
       "        // canvas in synch.\n",
       "        canvas_div.css('width', width)\n",
       "        canvas_div.css('height', height)\n",
       "\n",
       "        canvas.attr('width', width * mpl.ratio);\n",
       "        canvas.attr('height', height * mpl.ratio);\n",
       "        canvas.attr('style', 'width: ' + width + 'px; height: ' + height + 'px;');\n",
       "\n",
       "        rubberband.attr('width', width);\n",
       "        rubberband.attr('height', height);\n",
       "    }\n",
       "\n",
       "    // Set the figure to an initial 600x600px, this will subsequently be updated\n",
       "    // upon first draw.\n",
       "    this._resize_canvas(600, 600);\n",
       "\n",
       "    // Disable right mouse context menu.\n",
       "    $(this.rubberband_canvas).bind(\"contextmenu\",function(e){\n",
       "        return false;\n",
       "    });\n",
       "\n",
       "    function set_focus () {\n",
       "        canvas.focus();\n",
       "        canvas_div.focus();\n",
       "    }\n",
       "\n",
       "    window.setTimeout(set_focus, 100);\n",
       "}\n",
       "\n",
       "mpl.figure.prototype._init_toolbar = function() {\n",
       "    var fig = this;\n",
       "\n",
       "    var nav_element = $('<div/>');\n",
       "    nav_element.attr('style', 'width: 100%');\n",
       "    this.root.append(nav_element);\n",
       "\n",
       "    // Define a callback function for later on.\n",
       "    function toolbar_event(event) {\n",
       "        return fig.toolbar_button_onclick(event['data']);\n",
       "    }\n",
       "    function toolbar_mouse_event(event) {\n",
       "        return fig.toolbar_button_onmouseover(event['data']);\n",
       "    }\n",
       "\n",
       "    for(var toolbar_ind in mpl.toolbar_items) {\n",
       "        var name = mpl.toolbar_items[toolbar_ind][0];\n",
       "        var tooltip = mpl.toolbar_items[toolbar_ind][1];\n",
       "        var image = mpl.toolbar_items[toolbar_ind][2];\n",
       "        var method_name = mpl.toolbar_items[toolbar_ind][3];\n",
       "\n",
       "        if (!name) {\n",
       "            // put a spacer in here.\n",
       "            continue;\n",
       "        }\n",
       "        var button = $('<button/>');\n",
       "        button.addClass('ui-button ui-widget ui-state-default ui-corner-all ' +\n",
       "                        'ui-button-icon-only');\n",
       "        button.attr('role', 'button');\n",
       "        button.attr('aria-disabled', 'false');\n",
       "        button.click(method_name, toolbar_event);\n",
       "        button.mouseover(tooltip, toolbar_mouse_event);\n",
       "\n",
       "        var icon_img = $('<span/>');\n",
       "        icon_img.addClass('ui-button-icon-primary ui-icon');\n",
       "        icon_img.addClass(image);\n",
       "        icon_img.addClass('ui-corner-all');\n",
       "\n",
       "        var tooltip_span = $('<span/>');\n",
       "        tooltip_span.addClass('ui-button-text');\n",
       "        tooltip_span.html(tooltip);\n",
       "\n",
       "        button.append(icon_img);\n",
       "        button.append(tooltip_span);\n",
       "\n",
       "        nav_element.append(button);\n",
       "    }\n",
       "\n",
       "    var fmt_picker_span = $('<span/>');\n",
       "\n",
       "    var fmt_picker = $('<select/>');\n",
       "    fmt_picker.addClass('mpl-toolbar-option ui-widget ui-widget-content');\n",
       "    fmt_picker_span.append(fmt_picker);\n",
       "    nav_element.append(fmt_picker_span);\n",
       "    this.format_dropdown = fmt_picker[0];\n",
       "\n",
       "    for (var ind in mpl.extensions) {\n",
       "        var fmt = mpl.extensions[ind];\n",
       "        var option = $(\n",
       "            '<option/>', {selected: fmt === mpl.default_extension}).html(fmt);\n",
       "        fmt_picker.append(option);\n",
       "    }\n",
       "\n",
       "    // Add hover states to the ui-buttons\n",
       "    $( \".ui-button\" ).hover(\n",
       "        function() { $(this).addClass(\"ui-state-hover\");},\n",
       "        function() { $(this).removeClass(\"ui-state-hover\");}\n",
       "    );\n",
       "\n",
       "    var status_bar = $('<span class=\"mpl-message\"/>');\n",
       "    nav_element.append(status_bar);\n",
       "    this.message = status_bar[0];\n",
       "}\n",
       "\n",
       "mpl.figure.prototype.request_resize = function(x_pixels, y_pixels) {\n",
       "    // Request matplotlib to resize the figure. Matplotlib will then trigger a resize in the client,\n",
       "    // which will in turn request a refresh of the image.\n",
       "    this.send_message('resize', {'width': x_pixels, 'height': y_pixels});\n",
       "}\n",
       "\n",
       "mpl.figure.prototype.send_message = function(type, properties) {\n",
       "    properties['type'] = type;\n",
       "    properties['figure_id'] = this.id;\n",
       "    this.ws.send(JSON.stringify(properties));\n",
       "}\n",
       "\n",
       "mpl.figure.prototype.send_draw_message = function() {\n",
       "    if (!this.waiting) {\n",
       "        this.waiting = true;\n",
       "        this.ws.send(JSON.stringify({type: \"draw\", figure_id: this.id}));\n",
       "    }\n",
       "}\n",
       "\n",
       "\n",
       "mpl.figure.prototype.handle_save = function(fig, msg) {\n",
       "    var format_dropdown = fig.format_dropdown;\n",
       "    var format = format_dropdown.options[format_dropdown.selectedIndex].value;\n",
       "    fig.ondownload(fig, format);\n",
       "}\n",
       "\n",
       "\n",
       "mpl.figure.prototype.handle_resize = function(fig, msg) {\n",
       "    var size = msg['size'];\n",
       "    if (size[0] != fig.canvas.width || size[1] != fig.canvas.height) {\n",
       "        fig._resize_canvas(size[0], size[1]);\n",
       "        fig.send_message(\"refresh\", {});\n",
       "    };\n",
       "}\n",
       "\n",
       "mpl.figure.prototype.handle_rubberband = function(fig, msg) {\n",
       "    var x0 = msg['x0'] / mpl.ratio;\n",
       "    var y0 = (fig.canvas.height - msg['y0']) / mpl.ratio;\n",
       "    var x1 = msg['x1'] / mpl.ratio;\n",
       "    var y1 = (fig.canvas.height - msg['y1']) / mpl.ratio;\n",
       "    x0 = Math.floor(x0) + 0.5;\n",
       "    y0 = Math.floor(y0) + 0.5;\n",
       "    x1 = Math.floor(x1) + 0.5;\n",
       "    y1 = Math.floor(y1) + 0.5;\n",
       "    var min_x = Math.min(x0, x1);\n",
       "    var min_y = Math.min(y0, y1);\n",
       "    var width = Math.abs(x1 - x0);\n",
       "    var height = Math.abs(y1 - y0);\n",
       "\n",
       "    fig.rubberband_context.clearRect(\n",
       "        0, 0, fig.canvas.width / mpl.ratio, fig.canvas.height / mpl.ratio);\n",
       "\n",
       "    fig.rubberband_context.strokeRect(min_x, min_y, width, height);\n",
       "}\n",
       "\n",
       "mpl.figure.prototype.handle_figure_label = function(fig, msg) {\n",
       "    // Updates the figure title.\n",
       "    fig.header.textContent = msg['label'];\n",
       "}\n",
       "\n",
       "mpl.figure.prototype.handle_cursor = function(fig, msg) {\n",
       "    var cursor = msg['cursor'];\n",
       "    switch(cursor)\n",
       "    {\n",
       "    case 0:\n",
       "        cursor = 'pointer';\n",
       "        break;\n",
       "    case 1:\n",
       "        cursor = 'default';\n",
       "        break;\n",
       "    case 2:\n",
       "        cursor = 'crosshair';\n",
       "        break;\n",
       "    case 3:\n",
       "        cursor = 'move';\n",
       "        break;\n",
       "    }\n",
       "    fig.rubberband_canvas.style.cursor = cursor;\n",
       "}\n",
       "\n",
       "mpl.figure.prototype.handle_message = function(fig, msg) {\n",
       "    fig.message.textContent = msg['message'];\n",
       "}\n",
       "\n",
       "mpl.figure.prototype.handle_draw = function(fig, msg) {\n",
       "    // Request the server to send over a new figure.\n",
       "    fig.send_draw_message();\n",
       "}\n",
       "\n",
       "mpl.figure.prototype.handle_image_mode = function(fig, msg) {\n",
       "    fig.image_mode = msg['mode'];\n",
       "}\n",
       "\n",
       "mpl.figure.prototype.updated_canvas_event = function() {\n",
       "    // Called whenever the canvas gets updated.\n",
       "    this.send_message(\"ack\", {});\n",
       "}\n",
       "\n",
       "// A function to construct a web socket function for onmessage handling.\n",
       "// Called in the figure constructor.\n",
       "mpl.figure.prototype._make_on_message_function = function(fig) {\n",
       "    return function socket_on_message(evt) {\n",
       "        if (evt.data instanceof Blob) {\n",
       "            /* FIXME: We get \"Resource interpreted as Image but\n",
       "             * transferred with MIME type text/plain:\" errors on\n",
       "             * Chrome.  But how to set the MIME type?  It doesn't seem\n",
       "             * to be part of the websocket stream */\n",
       "            evt.data.type = \"image/png\";\n",
       "\n",
       "            /* Free the memory for the previous frames */\n",
       "            if (fig.imageObj.src) {\n",
       "                (window.URL || window.webkitURL).revokeObjectURL(\n",
       "                    fig.imageObj.src);\n",
       "            }\n",
       "\n",
       "            fig.imageObj.src = (window.URL || window.webkitURL).createObjectURL(\n",
       "                evt.data);\n",
       "            fig.updated_canvas_event();\n",
       "            fig.waiting = false;\n",
       "            return;\n",
       "        }\n",
       "        else if (typeof evt.data === 'string' && evt.data.slice(0, 21) == \"data:image/png;base64\") {\n",
       "            fig.imageObj.src = evt.data;\n",
       "            fig.updated_canvas_event();\n",
       "            fig.waiting = false;\n",
       "            return;\n",
       "        }\n",
       "\n",
       "        var msg = JSON.parse(evt.data);\n",
       "        var msg_type = msg['type'];\n",
       "\n",
       "        // Call the  \"handle_{type}\" callback, which takes\n",
       "        // the figure and JSON message as its only arguments.\n",
       "        try {\n",
       "            var callback = fig[\"handle_\" + msg_type];\n",
       "        } catch (e) {\n",
       "            console.log(\"No handler for the '\" + msg_type + \"' message type: \", msg);\n",
       "            return;\n",
       "        }\n",
       "\n",
       "        if (callback) {\n",
       "            try {\n",
       "                // console.log(\"Handling '\" + msg_type + \"' message: \", msg);\n",
       "                callback(fig, msg);\n",
       "            } catch (e) {\n",
       "                console.log(\"Exception inside the 'handler_\" + msg_type + \"' callback:\", e, e.stack, msg);\n",
       "            }\n",
       "        }\n",
       "    };\n",
       "}\n",
       "\n",
       "// from http://stackoverflow.com/questions/1114465/getting-mouse-location-in-canvas\n",
       "mpl.findpos = function(e) {\n",
       "    //this section is from http://www.quirksmode.org/js/events_properties.html\n",
       "    var targ;\n",
       "    if (!e)\n",
       "        e = window.event;\n",
       "    if (e.target)\n",
       "        targ = e.target;\n",
       "    else if (e.srcElement)\n",
       "        targ = e.srcElement;\n",
       "    if (targ.nodeType == 3) // defeat Safari bug\n",
       "        targ = targ.parentNode;\n",
       "\n",
       "    // jQuery normalizes the pageX and pageY\n",
       "    // pageX,Y are the mouse positions relative to the document\n",
       "    // offset() returns the position of the element relative to the document\n",
       "    var x = e.pageX - $(targ).offset().left;\n",
       "    var y = e.pageY - $(targ).offset().top;\n",
       "\n",
       "    return {\"x\": x, \"y\": y};\n",
       "};\n",
       "\n",
       "/*\n",
       " * return a copy of an object with only non-object keys\n",
       " * we need this to avoid circular references\n",
       " * http://stackoverflow.com/a/24161582/3208463\n",
       " */\n",
       "function simpleKeys (original) {\n",
       "  return Object.keys(original).reduce(function (obj, key) {\n",
       "    if (typeof original[key] !== 'object')\n",
       "        obj[key] = original[key]\n",
       "    return obj;\n",
       "  }, {});\n",
       "}\n",
       "\n",
       "mpl.figure.prototype.mouse_event = function(event, name) {\n",
       "    var canvas_pos = mpl.findpos(event)\n",
       "\n",
       "    if (name === 'button_press')\n",
       "    {\n",
       "        this.canvas.focus();\n",
       "        this.canvas_div.focus();\n",
       "    }\n",
       "\n",
       "    var x = canvas_pos.x * mpl.ratio;\n",
       "    var y = canvas_pos.y * mpl.ratio;\n",
       "\n",
       "    this.send_message(name, {x: x, y: y, button: event.button,\n",
       "                             step: event.step,\n",
       "                             guiEvent: simpleKeys(event)});\n",
       "\n",
       "    /* This prevents the web browser from automatically changing to\n",
       "     * the text insertion cursor when the button is pressed.  We want\n",
       "     * to control all of the cursor setting manually through the\n",
       "     * 'cursor' event from matplotlib */\n",
       "    event.preventDefault();\n",
       "    return false;\n",
       "}\n",
       "\n",
       "mpl.figure.prototype._key_event_extra = function(event, name) {\n",
       "    // Handle any extra behaviour associated with a key event\n",
       "}\n",
       "\n",
       "mpl.figure.prototype.key_event = function(event, name) {\n",
       "\n",
       "    // Prevent repeat events\n",
       "    if (name == 'key_press')\n",
       "    {\n",
       "        if (event.which === this._key)\n",
       "            return;\n",
       "        else\n",
       "            this._key = event.which;\n",
       "    }\n",
       "    if (name == 'key_release')\n",
       "        this._key = null;\n",
       "\n",
       "    var value = '';\n",
       "    if (event.ctrlKey && event.which != 17)\n",
       "        value += \"ctrl+\";\n",
       "    if (event.altKey && event.which != 18)\n",
       "        value += \"alt+\";\n",
       "    if (event.shiftKey && event.which != 16)\n",
       "        value += \"shift+\";\n",
       "\n",
       "    value += 'k';\n",
       "    value += event.which.toString();\n",
       "\n",
       "    this._key_event_extra(event, name);\n",
       "\n",
       "    this.send_message(name, {key: value,\n",
       "                             guiEvent: simpleKeys(event)});\n",
       "    return false;\n",
       "}\n",
       "\n",
       "mpl.figure.prototype.toolbar_button_onclick = function(name) {\n",
       "    if (name == 'download') {\n",
       "        this.handle_save(this, null);\n",
       "    } else {\n",
       "        this.send_message(\"toolbar_button\", {name: name});\n",
       "    }\n",
       "};\n",
       "\n",
       "mpl.figure.prototype.toolbar_button_onmouseover = function(tooltip) {\n",
       "    this.message.textContent = tooltip;\n",
       "};\n",
       "mpl.toolbar_items = [[\"Home\", \"Reset original view\", \"fa fa-home icon-home\", \"home\"], [\"Back\", \"Back to previous view\", \"fa fa-arrow-left icon-arrow-left\", \"back\"], [\"Forward\", \"Forward to next view\", \"fa fa-arrow-right icon-arrow-right\", \"forward\"], [\"\", \"\", \"\", \"\"], [\"Pan\", \"Pan axes with left mouse, zoom with right\", \"fa fa-arrows icon-move\", \"pan\"], [\"Zoom\", \"Zoom to rectangle\", \"fa fa-square-o icon-check-empty\", \"zoom\"], [\"\", \"\", \"\", \"\"], [\"Download\", \"Download plot\", \"fa fa-floppy-o icon-save\", \"download\"]];\n",
       "\n",
       "mpl.extensions = [\"eps\", \"jpeg\", \"pdf\", \"png\", \"ps\", \"raw\", \"svg\", \"tif\"];\n",
       "\n",
       "mpl.default_extension = \"png\";var comm_websocket_adapter = function(comm) {\n",
       "    // Create a \"websocket\"-like object which calls the given IPython comm\n",
       "    // object with the appropriate methods. Currently this is a non binary\n",
       "    // socket, so there is still some room for performance tuning.\n",
       "    var ws = {};\n",
       "\n",
       "    ws.close = function() {\n",
       "        comm.close()\n",
       "    };\n",
       "    ws.send = function(m) {\n",
       "        //console.log('sending', m);\n",
       "        comm.send(m);\n",
       "    };\n",
       "    // Register the callback with on_msg.\n",
       "    comm.on_msg(function(msg) {\n",
       "        //console.log('receiving', msg['content']['data'], msg);\n",
       "        // Pass the mpl event to the overridden (by mpl) onmessage function.\n",
       "        ws.onmessage(msg['content']['data'])\n",
       "    });\n",
       "    return ws;\n",
       "}\n",
       "\n",
       "mpl.mpl_figure_comm = function(comm, msg) {\n",
       "    // This is the function which gets called when the mpl process\n",
       "    // starts-up an IPython Comm through the \"matplotlib\" channel.\n",
       "\n",
       "    var id = msg.content.data.id;\n",
       "    // Get hold of the div created by the display call when the Comm\n",
       "    // socket was opened in Python.\n",
       "    var element = $(\"#\" + id);\n",
       "    var ws_proxy = comm_websocket_adapter(comm)\n",
       "\n",
       "    function ondownload(figure, format) {\n",
       "        window.open(figure.imageObj.src);\n",
       "    }\n",
       "\n",
       "    var fig = new mpl.figure(id, ws_proxy,\n",
       "                           ondownload,\n",
       "                           element.get(0));\n",
       "\n",
       "    // Call onopen now - mpl needs it, as it is assuming we've passed it a real\n",
       "    // web socket which is closed, not our websocket->open comm proxy.\n",
       "    ws_proxy.onopen();\n",
       "\n",
       "    fig.parent_element = element.get(0);\n",
       "    fig.cell_info = mpl.find_output_cell(\"<div id='\" + id + \"'></div>\");\n",
       "    if (!fig.cell_info) {\n",
       "        console.error(\"Failed to find cell for figure\", id, fig);\n",
       "        return;\n",
       "    }\n",
       "\n",
       "    var output_index = fig.cell_info[2]\n",
       "    var cell = fig.cell_info[0];\n",
       "\n",
       "};\n",
       "\n",
       "mpl.figure.prototype.handle_close = function(fig, msg) {\n",
       "    var width = fig.canvas.width/mpl.ratio\n",
       "    fig.root.unbind('remove')\n",
       "\n",
       "    // Update the output cell to use the data from the current canvas.\n",
       "    fig.push_to_output();\n",
       "    var dataURL = fig.canvas.toDataURL();\n",
       "    // Re-enable the keyboard manager in IPython - without this line, in FF,\n",
       "    // the notebook keyboard shortcuts fail.\n",
       "    IPython.keyboard_manager.enable()\n",
       "    $(fig.parent_element).html('<img src=\"' + dataURL + '\" width=\"' + width + '\">');\n",
       "    fig.close_ws(fig, msg);\n",
       "}\n",
       "\n",
       "mpl.figure.prototype.close_ws = function(fig, msg){\n",
       "    fig.send_message('closing', msg);\n",
       "    // fig.ws.close()\n",
       "}\n",
       "\n",
       "mpl.figure.prototype.push_to_output = function(remove_interactive) {\n",
       "    // Turn the data on the canvas into data in the output cell.\n",
       "    var width = this.canvas.width/mpl.ratio\n",
       "    var dataURL = this.canvas.toDataURL();\n",
       "    this.cell_info[1]['text/html'] = '<img src=\"' + dataURL + '\" width=\"' + width + '\">';\n",
       "}\n",
       "\n",
       "mpl.figure.prototype.updated_canvas_event = function() {\n",
       "    // Tell IPython that the notebook contents must change.\n",
       "    IPython.notebook.set_dirty(true);\n",
       "    this.send_message(\"ack\", {});\n",
       "    var fig = this;\n",
       "    // Wait a second, then push the new image to the DOM so\n",
       "    // that it is saved nicely (might be nice to debounce this).\n",
       "    setTimeout(function () { fig.push_to_output() }, 1000);\n",
       "}\n",
       "\n",
       "mpl.figure.prototype._init_toolbar = function() {\n",
       "    var fig = this;\n",
       "\n",
       "    var nav_element = $('<div/>');\n",
       "    nav_element.attr('style', 'width: 100%');\n",
       "    this.root.append(nav_element);\n",
       "\n",
       "    // Define a callback function for later on.\n",
       "    function toolbar_event(event) {\n",
       "        return fig.toolbar_button_onclick(event['data']);\n",
       "    }\n",
       "    function toolbar_mouse_event(event) {\n",
       "        return fig.toolbar_button_onmouseover(event['data']);\n",
       "    }\n",
       "\n",
       "    for(var toolbar_ind in mpl.toolbar_items){\n",
       "        var name = mpl.toolbar_items[toolbar_ind][0];\n",
       "        var tooltip = mpl.toolbar_items[toolbar_ind][1];\n",
       "        var image = mpl.toolbar_items[toolbar_ind][2];\n",
       "        var method_name = mpl.toolbar_items[toolbar_ind][3];\n",
       "\n",
       "        if (!name) { continue; };\n",
       "\n",
       "        var button = $('<button class=\"btn btn-default\" href=\"#\" title=\"' + name + '\"><i class=\"fa ' + image + ' fa-lg\"></i></button>');\n",
       "        button.click(method_name, toolbar_event);\n",
       "        button.mouseover(tooltip, toolbar_mouse_event);\n",
       "        nav_element.append(button);\n",
       "    }\n",
       "\n",
       "    // Add the status bar.\n",
       "    var status_bar = $('<span class=\"mpl-message\" style=\"text-align:right; float: right;\"/>');\n",
       "    nav_element.append(status_bar);\n",
       "    this.message = status_bar[0];\n",
       "\n",
       "    // Add the close button to the window.\n",
       "    var buttongrp = $('<div class=\"btn-group inline pull-right\"></div>');\n",
       "    var button = $('<button class=\"btn btn-mini btn-primary\" href=\"#\" title=\"Stop Interaction\"><i class=\"fa fa-power-off icon-remove icon-large\"></i></button>');\n",
       "    button.click(function (evt) { fig.handle_close(fig, {}); } );\n",
       "    button.mouseover('Stop Interaction', toolbar_mouse_event);\n",
       "    buttongrp.append(button);\n",
       "    var titlebar = this.root.find($('.ui-dialog-titlebar'));\n",
       "    titlebar.prepend(buttongrp);\n",
       "}\n",
       "\n",
       "mpl.figure.prototype._root_extra_style = function(el){\n",
       "    var fig = this\n",
       "    el.on(\"remove\", function(){\n",
       "\tfig.close_ws(fig, {});\n",
       "    });\n",
       "}\n",
       "\n",
       "mpl.figure.prototype._canvas_extra_style = function(el){\n",
       "    // this is important to make the div 'focusable\n",
       "    el.attr('tabindex', 0)\n",
       "    // reach out to IPython and tell the keyboard manager to turn it's self\n",
       "    // off when our div gets focus\n",
       "\n",
       "    // location in version 3\n",
       "    if (IPython.notebook.keyboard_manager) {\n",
       "        IPython.notebook.keyboard_manager.register_events(el);\n",
       "    }\n",
       "    else {\n",
       "        // location in version 2\n",
       "        IPython.keyboard_manager.register_events(el);\n",
       "    }\n",
       "\n",
       "}\n",
       "\n",
       "mpl.figure.prototype._key_event_extra = function(event, name) {\n",
       "    var manager = IPython.notebook.keyboard_manager;\n",
       "    if (!manager)\n",
       "        manager = IPython.keyboard_manager;\n",
       "\n",
       "    // Check for shift+enter\n",
       "    if (event.shiftKey && event.which == 13) {\n",
       "        this.canvas_div.blur();\n",
       "        // select the cell after this one\n",
       "        var index = IPython.notebook.find_cell_index(this.cell_info[0]);\n",
       "        IPython.notebook.select(index + 1);\n",
       "    }\n",
       "}\n",
       "\n",
       "mpl.figure.prototype.handle_save = function(fig, msg) {\n",
       "    fig.ondownload(fig, null);\n",
       "}\n",
       "\n",
       "\n",
       "mpl.find_output_cell = function(html_output) {\n",
       "    // Return the cell and output element which can be found *uniquely* in the notebook.\n",
       "    // Note - this is a bit hacky, but it is done because the \"notebook_saving.Notebook\"\n",
       "    // IPython event is triggered only after the cells have been serialised, which for\n",
       "    // our purposes (turning an active figure into a static one), is too late.\n",
       "    var cells = IPython.notebook.get_cells();\n",
       "    var ncells = cells.length;\n",
       "    for (var i=0; i<ncells; i++) {\n",
       "        var cell = cells[i];\n",
       "        if (cell.cell_type === 'code'){\n",
       "            for (var j=0; j<cell.output_area.outputs.length; j++) {\n",
       "                var data = cell.output_area.outputs[j];\n",
       "                if (data.data) {\n",
       "                    // IPython >= 3 moved mimebundle to data attribute of output\n",
       "                    data = data.data;\n",
       "                }\n",
       "                if (data['text/html'] == html_output) {\n",
       "                    return [cell, data, j];\n",
       "                }\n",
       "            }\n",
       "        }\n",
       "    }\n",
       "}\n",
       "\n",
       "// Register the function which deals with the matplotlib target/channel.\n",
       "// The kernel may be null if the page has been refreshed.\n",
       "if (IPython.notebook.kernel != null) {\n",
       "    IPython.notebook.kernel.comm_manager.register_target('matplotlib', mpl.mpl_figure_comm);\n",
       "}\n"
      ],
      "text/plain": [
       "<IPython.core.display.Javascript object>"
      ]
     },
     "metadata": {},
     "output_type": "display_data"
    },
    {
     "data": {
      "text/html": [
       "<img src=\"data:image/png;base64,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\" width=\"640\">"
      ],
      "text/plain": [
       "<IPython.core.display.HTML object>"
      ]
     },
     "metadata": {},
     "output_type": "display_data"
    }
   ],
   "source": [
    "my_x = np.linspace(0,2*(2*np.pi),100)\n",
    "my_y = np.sin(my_x)\n",
    "line, = plt.plot(my_x,my_y,'--',linewidth = 4)"
   ]
  },
  {
   "cell_type": "code",
   "execution_count": 3,
   "metadata": {},
   "outputs": [
    {
     "name": "stdout",
     "output_type": "stream",
     "text": [
      "Automatic pdb calling has been turned ON\n"
     ]
    }
   ],
   "source": [
    "%pdb"
   ]
  },
  {
   "cell_type": "code",
   "execution_count": null,
   "metadata": {},
   "outputs": [],
   "source": [
    "import numpy as np\n",
    "numbers = 'hello'\n",
    "# print(np.add(1,2))\n",
    "print(np.add(1,2,numbers))"
   ]
  }
 ],
 "metadata": {
  "kernelspec": {
   "display_name": "Python 3",
   "language": "python",
   "name": "python3"
  },
  "language_info": {
   "codemirror_mode": {
    "name": "ipython",
    "version": 3
   },
   "file_extension": ".py",
   "mimetype": "text/x-python",
   "name": "python",
   "nbconvert_exporter": "python",
   "pygments_lexer": "ipython3",
   "version": "3.7.6"
  }
 },
 "nbformat": 4,
 "nbformat_minor": 4
}
