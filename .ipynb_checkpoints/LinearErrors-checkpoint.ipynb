{
 "cells": [
  {
   "cell_type": "code",
   "execution_count": 5,
   "metadata": {},
   "outputs": [],
   "source": [
    "import numpy as np\n",
    "import matplotlib.pyplot as plt"
   ]
  },
  {
   "cell_type": "code",
   "execution_count": 31,
   "metadata": {},
   "outputs": [],
   "source": [
    "# (2, -2), (5, 6), (-4, -4), (-7, 1), (8, 14)\n",
    "\n",
    "my_x = (2,5,-4,-7,8)\n",
    "my_y = (-2,6,-4,1,14)\n",
    "\n",
    "# print(my_x)\n",
    "\n",
    "line_x = (np.min(my_x),np.max(my_x))\n",
    "# line_y = to be determined"
   ]
  },
  {
   "cell_type": "code",
   "execution_count": 35,
   "metadata": {},
   "outputs": [
    {
     "name": "stdout",
     "output_type": "stream",
     "text": [
      "test is  [-6.4 11.6]\n"
     ]
    }
   ],
   "source": [
    "def lineformula(x):\n",
    "    return 1.2*x + 2\n",
    "\n",
    "vf = np.vectorize(lineformula)\n",
    "\n",
    "line_y = vf(line_x)\n",
    "\n",
    "# test = lineformula(1)\n",
    "# test = lineformula(my_x)\n",
    "print('test is ',line_y)\n",
    "    "
   ]
  },
  {
   "cell_type": "code",
   "execution_count": 36,
   "metadata": {},
   "outputs": [
    {
     "name": "stdout",
     "output_type": "stream",
     "text": [
      "(-7, 8)\n"
     ]
    },
    {
     "data": {
      "image/png": "[encoded data removed]",
      "text/plain": [
       "<Figure size 432x288 with 1 Axes>"
      ]
     },
     "metadata": {
      "needs_background": "light"
     },
     "output_type": "display_data"
    }
   ],
   "source": [
    "# Let's examine the line in comparison to the points we are given\n",
    "\n",
    "# line_y \n",
    "print(line_x)\n",
    "\n",
    "# help(plt.plot)\n",
    "\n",
    "plt.plot(my_x,my_y,'ro')\n",
    "plt.plot(line_x,line_y)\n",
    "plt.show()\n",
    "\n",
    "# Looks like a pretty good fit"
   ]
  },
  {
   "cell_type": "code",
   "execution_count": 69,
   "metadata": {},
   "outputs": [
    {
     "name": "stdout",
     "output_type": "stream",
     "text": [
      "len(my_x) is  5\n",
      "3 to 5 is  2\n",
      "5 to 3 is  2\n"
     ]
    }
   ],
   "source": [
    "# Now let's examine the mean absolute error\n",
    "\n",
    "## testing\n",
    "\n",
    "print('len(my_x) is ',len(my_x))\n",
    "print('3 to 5 is '   ,mae(3,5))\n",
    "print('5 to 3 is '   ,mae(5,3))\n",
    "\n",
    "\n",
    "def mae(a1,a2):\n",
    "    return abs(a2-a1)\n",
    "vec_mae = np.vectorize(mae)\n",
    "\n",
    "def mse(a1,a2):\n",
    "    return (a2-a1)**2\n",
    "\n",
    "#     return np.sum((a2-a1)**2)\n",
    "vec_mse = np.vectorize(mse)\n",
    "\n"
   ]
  },
  {
   "cell_type": "code",
   "execution_count": 70,
   "metadata": {},
   "outputs": [
    {
     "name": "stdout",
     "output_type": "stream",
     "text": [
      "[6.4 2.  1.2 7.4 2.4]\n",
      "[40.96  4.    1.44 54.76  5.76]\n"
     ]
    }
   ],
   "source": [
    "print(vec_mae(my_y,vf(my_x)))\n",
    "print(vec_mse(my_y,vf(my_x)))"
   ]
  },
  {
   "cell_type": "code",
   "execution_count": 66,
   "metadata": {},
   "outputs": [
    {
     "data": {
      "text/plain": [
       "array([6.4, 2. , 1.2, 7.4, 2.4])"
      ]
     },
     "execution_count": 66,
     "metadata": {},
     "output_type": "execute_result"
    }
   ],
   "source": [
    "# print('MSE is ',sum(vec_mse(my_y,vf(my_x)))/(2*len(my_x)))\n",
    "vec_mse(my_y,vf(my_x))"
   ]
  },
  {
   "cell_type": "code",
   "execution_count": 71,
   "metadata": {},
   "outputs": [
    {
     "name": "stdout",
     "output_type": "stream",
     "text": [
      "MAE is  3.88\n",
      "MSE is  10.692000000000002\n"
     ]
    }
   ],
   "source": [
    "# Final results\n",
    "print('MAE is ',sum(vec_mae(my_y,vf(my_x)))/(1*len(my_x)))\n",
    "print('MSE is ',sum(vec_mse(my_y,vf(my_x)))/(2*len(my_x)))"
   ]
  }
 ],
 "metadata": {
  "kernelspec": {
   "display_name": "Python 3",
   "language": "python",
   "name": "python3"
  },
  "language_info": {
   "codemirror_mode": {
    "name": "ipython",
    "version": 3
   },
   "file_extension": ".py",
   "mimetype": "text/x-python",
   "name": "python",
   "nbconvert_exporter": "python",
   "pygments_lexer": "ipython3",
   "version": "3.7.6"
  }
 },
 "nbformat": 4,
 "nbformat_minor": 4
}
