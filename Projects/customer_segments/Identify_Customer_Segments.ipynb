{
 "cells": [
  {
   "cell_type": "markdown",
   "metadata": {},
   "source": [
    "# Project: Identify Customer Segments\n",
    "\n",
    "In this project, you will apply unsupervised learning techniques to identify segments of the population that form the core customer base for a mail-order sales company in Germany. These segments can then be used to direct marketing campaigns towards audiences that will have the highest expected rate of returns. The data that you will use has been provided by our partners at Bertelsmann Arvato Analytics, and represents a real-life data science task.\n",
    "\n",
    "This notebook will help you complete this task by providing a framework within which you will perform your analysis steps. In each step of the project, you will see some text describing the subtask that you will perform, followed by one or more code cells for you to complete your work. **Feel free to add additional code and markdown cells as you go along so that you can explore everything in precise chunks.** The code cells provided in the base template will outline only the major tasks, and will usually not be enough to cover all of the minor tasks that comprise it.\n",
    "\n",
    "It should be noted that while there will be precise guidelines on how you should handle certain tasks in the project, there will also be places where an exact specification is not provided. **There will be times in the project where you will need to make and justify your own decisions on how to treat the data.** These are places where there may not be only one way to handle the data. In real-life tasks, there may be many valid ways to approach an analysis task. One of the most important things you can do is clearly document your approach so that other scientists can understand the decisions you've made.\n",
    "\n",
    "At the end of most sections, there will be a Markdown cell labeled **Discussion**. In these cells, you will report your findings for the completed section, as well as document the decisions that you made in your approach to each subtask. **Your project will be evaluated not just on the code used to complete the tasks outlined, but also your communication about your observations and conclusions at each stage.**"
   ]
  },
  {
   "cell_type": "code",
   "execution_count": 1,
   "metadata": {},
   "outputs": [],
   "source": [
    "# import libraries here; add more as necessary\n",
    "import numpy as np\n",
    "import pandas as pd\n",
    "import matplotlib.pyplot as plt\n",
    "import matplotlib.gridspec as gridspec\n",
    "import seaborn as sns\n",
    "from sklearn.preprocessing import StandardScaler\n",
    "from sklearn.decomposition import PCA\n",
    "from sklearn.cluster import KMeans\n",
    "\n",
    "# magic word for producing visualizations in notebook\n",
    "%matplotlib inline\n"
   ]
  },
  {
   "cell_type": "markdown",
   "metadata": {},
   "source": [
    "### Step 0: Load the Data\n",
    "\n",
    "There are four files associated with this project (not including this one):\n",
    "\n",
    "- `Udacity_AZDIAS_Subset.csv`: Demographics data for the general population of Germany; 891211 persons (rows) x 85 features (columns).\n",
    "- `Udacity_CUSTOMERS_Subset.csv`: Demographics data for customers of a mail-order company; 191652 persons (rows) x 85 features (columns).\n",
    "- `Data_Dictionary.md`: Detailed information file about the features in the provided datasets.\n",
    "- `AZDIAS_Feature_Summary.csv`: Summary of feature attributes for demographics data; 85 features (rows) x 4 columns\n",
    "\n",
    "Each row of the demographics files represents a single person, but also includes information outside of individuals, including information about their household, building, and neighborhood. You will use this information to cluster the general population into groups with similar demographic properties. Then, you will see how the people in the customers dataset fit into those created clusters. The hope here is that certain clusters are over-represented in the customers data, as compared to the general population; those over-represented clusters will be assumed to be part of the core userbase. This information can then be used for further applications, such as targeting for a marketing campaign.\n",
    "\n",
    "To start off with, load in the demographics data for the general population into a pandas DataFrame, and do the same for the feature attributes summary. Note for all of the `.csv` data files in this project: they're semicolon (`;`) delimited, so you'll need an additional argument in your [`read_csv()`](https://pandas.pydata.org/pandas-docs/stable/generated/pandas.read_csv.html) call to read in the data properly. Also, considering the size of the main dataset, it may take some time for it to load completely.\n",
    "\n",
    "Once the dataset is loaded, it's recommended that you take a little bit of time just browsing the general structure of the dataset and feature summary file. You'll be getting deep into the innards of the cleaning in the first major step of the project, so gaining some general familiarity can help you get your bearings."
   ]
  },
  {
   "cell_type": "code",
   "execution_count": 2,
   "metadata": {},
   "outputs": [],
   "source": [
    "dir = '/Users/Administrator/Documents/Work/pylearn/Projects/customer_segments/'"
   ]
  },
  {
   "cell_type": "code",
   "execution_count": 3,
   "metadata": {},
   "outputs": [
    {
     "name": "stdout",
     "output_type": "stream",
     "text": [
      "CPU times: user 7.11 s, sys: 1.11 s, total: 8.23 s\n",
      "Wall time: 8.31 s\n"
     ]
    }
   ],
   "source": [
    "%%time\n",
    "# Load in general demographics data.\n",
    "azdias = pd.read_csv(dir + 'Udacity_AZDIAS_Subset.csv',delimiter = ';')\n",
    "\n",
    "# Load in the feature summary file.\n",
    "feat_info = pd.read_csv(dir + 'AZDIAS_Feature_Summary.csv',delimiter = ';')"
   ]
  },
  {
   "cell_type": "code",
   "execution_count": 4,
   "metadata": {},
   "outputs": [
    {
     "name": "stdout",
     "output_type": "stream",
     "text": [
      "'Udacity_AZDIAS_Subset.csv' contains:\n",
      "rows : 891221\n",
      "cols : 85\n",
      "First 5 rows given by:\n"
     ]
    },
    {
     "data": {
      "text/html": [
       "<div>\n",
       "<style scoped>\n",
       "    .dataframe tbody tr th:only-of-type {\n",
       "        vertical-align: middle;\n",
       "    }\n",
       "\n",
       "    .dataframe tbody tr th {\n",
       "        vertical-align: top;\n",
       "    }\n",
       "\n",
       "    .dataframe thead th {\n",
       "        text-align: right;\n",
       "    }\n",
       "</style>\n",
       "<table border=\"1\" class=\"dataframe\">\n",
       "  <thead>\n",
       "    <tr style=\"text-align: right;\">\n",
       "      <th></th>\n",
       "      <th>AGER_TYP</th>\n",
       "      <th>ALTERSKATEGORIE_GROB</th>\n",
       "      <th>ANREDE_KZ</th>\n",
       "      <th>CJT_GESAMTTYP</th>\n",
       "      <th>FINANZ_MINIMALIST</th>\n",
       "      <th>FINANZ_SPARER</th>\n",
       "      <th>FINANZ_VORSORGER</th>\n",
       "      <th>FINANZ_ANLEGER</th>\n",
       "      <th>FINANZ_UNAUFFAELLIGER</th>\n",
       "      <th>FINANZ_HAUSBAUER</th>\n",
       "      <th>...</th>\n",
       "      <th>PLZ8_ANTG1</th>\n",
       "      <th>PLZ8_ANTG2</th>\n",
       "      <th>PLZ8_ANTG3</th>\n",
       "      <th>PLZ8_ANTG4</th>\n",
       "      <th>PLZ8_BAUMAX</th>\n",
       "      <th>PLZ8_HHZ</th>\n",
       "      <th>PLZ8_GBZ</th>\n",
       "      <th>ARBEIT</th>\n",
       "      <th>ORTSGR_KLS9</th>\n",
       "      <th>RELAT_AB</th>\n",
       "    </tr>\n",
       "  </thead>\n",
       "  <tbody>\n",
       "    <tr>\n",
       "      <th>0</th>\n",
       "      <td>-1</td>\n",
       "      <td>2</td>\n",
       "      <td>1</td>\n",
       "      <td>2.0</td>\n",
       "      <td>3</td>\n",
       "      <td>4</td>\n",
       "      <td>3</td>\n",
       "      <td>5</td>\n",
       "      <td>5</td>\n",
       "      <td>3</td>\n",
       "      <td>...</td>\n",
       "      <td>NaN</td>\n",
       "      <td>NaN</td>\n",
       "      <td>NaN</td>\n",
       "      <td>NaN</td>\n",
       "      <td>NaN</td>\n",
       "      <td>NaN</td>\n",
       "      <td>NaN</td>\n",
       "      <td>NaN</td>\n",
       "      <td>NaN</td>\n",
       "      <td>NaN</td>\n",
       "    </tr>\n",
       "    <tr>\n",
       "      <th>1</th>\n",
       "      <td>-1</td>\n",
       "      <td>1</td>\n",
       "      <td>2</td>\n",
       "      <td>5.0</td>\n",
       "      <td>1</td>\n",
       "      <td>5</td>\n",
       "      <td>2</td>\n",
       "      <td>5</td>\n",
       "      <td>4</td>\n",
       "      <td>5</td>\n",
       "      <td>...</td>\n",
       "      <td>2.0</td>\n",
       "      <td>3.0</td>\n",
       "      <td>2.0</td>\n",
       "      <td>1.0</td>\n",
       "      <td>1.0</td>\n",
       "      <td>5.0</td>\n",
       "      <td>4.0</td>\n",
       "      <td>3.0</td>\n",
       "      <td>5.0</td>\n",
       "      <td>4.0</td>\n",
       "    </tr>\n",
       "    <tr>\n",
       "      <th>2</th>\n",
       "      <td>-1</td>\n",
       "      <td>3</td>\n",
       "      <td>2</td>\n",
       "      <td>3.0</td>\n",
       "      <td>1</td>\n",
       "      <td>4</td>\n",
       "      <td>1</td>\n",
       "      <td>2</td>\n",
       "      <td>3</td>\n",
       "      <td>5</td>\n",
       "      <td>...</td>\n",
       "      <td>3.0</td>\n",
       "      <td>3.0</td>\n",
       "      <td>1.0</td>\n",
       "      <td>0.0</td>\n",
       "      <td>1.0</td>\n",
       "      <td>4.0</td>\n",
       "      <td>4.0</td>\n",
       "      <td>3.0</td>\n",
       "      <td>5.0</td>\n",
       "      <td>2.0</td>\n",
       "    </tr>\n",
       "    <tr>\n",
       "      <th>3</th>\n",
       "      <td>2</td>\n",
       "      <td>4</td>\n",
       "      <td>2</td>\n",
       "      <td>2.0</td>\n",
       "      <td>4</td>\n",
       "      <td>2</td>\n",
       "      <td>5</td>\n",
       "      <td>2</td>\n",
       "      <td>1</td>\n",
       "      <td>2</td>\n",
       "      <td>...</td>\n",
       "      <td>2.0</td>\n",
       "      <td>2.0</td>\n",
       "      <td>2.0</td>\n",
       "      <td>0.0</td>\n",
       "      <td>1.0</td>\n",
       "      <td>3.0</td>\n",
       "      <td>4.0</td>\n",
       "      <td>2.0</td>\n",
       "      <td>3.0</td>\n",
       "      <td>3.0</td>\n",
       "    </tr>\n",
       "    <tr>\n",
       "      <th>4</th>\n",
       "      <td>-1</td>\n",
       "      <td>3</td>\n",
       "      <td>1</td>\n",
       "      <td>5.0</td>\n",
       "      <td>4</td>\n",
       "      <td>3</td>\n",
       "      <td>4</td>\n",
       "      <td>1</td>\n",
       "      <td>3</td>\n",
       "      <td>2</td>\n",
       "      <td>...</td>\n",
       "      <td>2.0</td>\n",
       "      <td>4.0</td>\n",
       "      <td>2.0</td>\n",
       "      <td>1.0</td>\n",
       "      <td>2.0</td>\n",
       "      <td>3.0</td>\n",
       "      <td>3.0</td>\n",
       "      <td>4.0</td>\n",
       "      <td>6.0</td>\n",
       "      <td>5.0</td>\n",
       "    </tr>\n",
       "  </tbody>\n",
       "</table>\n",
       "<p>5 rows × 85 columns</p>\n",
       "</div>"
      ],
      "text/plain": [
       "   AGER_TYP  ALTERSKATEGORIE_GROB  ANREDE_KZ  CJT_GESAMTTYP  \\\n",
       "0        -1                     2          1            2.0   \n",
       "1        -1                     1          2            5.0   \n",
       "2        -1                     3          2            3.0   \n",
       "3         2                     4          2            2.0   \n",
       "4        -1                     3          1            5.0   \n",
       "\n",
       "   FINANZ_MINIMALIST  FINANZ_SPARER  FINANZ_VORSORGER  FINANZ_ANLEGER  \\\n",
       "0                  3              4                 3               5   \n",
       "1                  1              5                 2               5   \n",
       "2                  1              4                 1               2   \n",
       "3                  4              2                 5               2   \n",
       "4                  4              3                 4               1   \n",
       "\n",
       "   FINANZ_UNAUFFAELLIGER  FINANZ_HAUSBAUER  ...  PLZ8_ANTG1  PLZ8_ANTG2  \\\n",
       "0                      5                 3  ...         NaN         NaN   \n",
       "1                      4                 5  ...         2.0         3.0   \n",
       "2                      3                 5  ...         3.0         3.0   \n",
       "3                      1                 2  ...         2.0         2.0   \n",
       "4                      3                 2  ...         2.0         4.0   \n",
       "\n",
       "   PLZ8_ANTG3  PLZ8_ANTG4  PLZ8_BAUMAX  PLZ8_HHZ  PLZ8_GBZ  ARBEIT  \\\n",
       "0         NaN         NaN          NaN       NaN       NaN     NaN   \n",
       "1         2.0         1.0          1.0       5.0       4.0     3.0   \n",
       "2         1.0         0.0          1.0       4.0       4.0     3.0   \n",
       "3         2.0         0.0          1.0       3.0       4.0     2.0   \n",
       "4         2.0         1.0          2.0       3.0       3.0     4.0   \n",
       "\n",
       "   ORTSGR_KLS9  RELAT_AB  \n",
       "0          NaN       NaN  \n",
       "1          5.0       4.0  \n",
       "2          5.0       2.0  \n",
       "3          3.0       3.0  \n",
       "4          6.0       5.0  \n",
       "\n",
       "[5 rows x 85 columns]"
      ]
     },
     "execution_count": 4,
     "metadata": {},
     "output_type": "execute_result"
    }
   ],
   "source": [
    "# Check the structure of the data after it's loaded (e.g. print the number of rows and columns, print the first few rows).\n",
    "print('\\'Udacity_AZDIAS_Subset.csv\\' contains:')\n",
    "print('rows : '+ str(azdias.shape[0]))\n",
    "print('cols : '+ str(azdias.shape[1]))\n",
    "print('First 5 rows given by:')\n",
    "azdias.head(5)"
   ]
  },
  {
   "cell_type": "markdown",
   "metadata": {},
   "source": [
    "Let's also summarise the feature summary:"
   ]
  },
  {
   "cell_type": "code",
   "execution_count": 5,
   "metadata": {},
   "outputs": [
    {
     "name": "stdout",
     "output_type": "stream",
     "text": [
      "'AZDIAS_Feature_Summary.csv' contains:\n",
      "rows : 85\n",
      "cols : 4\n",
      "First 5 rows given by:\n"
     ]
    },
    {
     "data": {
      "text/html": [
       "<div>\n",
       "<style scoped>\n",
       "    .dataframe tbody tr th:only-of-type {\n",
       "        vertical-align: middle;\n",
       "    }\n",
       "\n",
       "    .dataframe tbody tr th {\n",
       "        vertical-align: top;\n",
       "    }\n",
       "\n",
       "    .dataframe thead th {\n",
       "        text-align: right;\n",
       "    }\n",
       "</style>\n",
       "<table border=\"1\" class=\"dataframe\">\n",
       "  <thead>\n",
       "    <tr style=\"text-align: right;\">\n",
       "      <th></th>\n",
       "      <th>attribute</th>\n",
       "      <th>information_level</th>\n",
       "      <th>type</th>\n",
       "      <th>missing_or_unknown</th>\n",
       "    </tr>\n",
       "  </thead>\n",
       "  <tbody>\n",
       "    <tr>\n",
       "      <th>0</th>\n",
       "      <td>AGER_TYP</td>\n",
       "      <td>person</td>\n",
       "      <td>categorical</td>\n",
       "      <td>[-1,0]</td>\n",
       "    </tr>\n",
       "    <tr>\n",
       "      <th>1</th>\n",
       "      <td>ALTERSKATEGORIE_GROB</td>\n",
       "      <td>person</td>\n",
       "      <td>ordinal</td>\n",
       "      <td>[-1,0,9]</td>\n",
       "    </tr>\n",
       "    <tr>\n",
       "      <th>2</th>\n",
       "      <td>ANREDE_KZ</td>\n",
       "      <td>person</td>\n",
       "      <td>categorical</td>\n",
       "      <td>[-1,0]</td>\n",
       "    </tr>\n",
       "    <tr>\n",
       "      <th>3</th>\n",
       "      <td>CJT_GESAMTTYP</td>\n",
       "      <td>person</td>\n",
       "      <td>categorical</td>\n",
       "      <td>[0]</td>\n",
       "    </tr>\n",
       "    <tr>\n",
       "      <th>4</th>\n",
       "      <td>FINANZ_MINIMALIST</td>\n",
       "      <td>person</td>\n",
       "      <td>ordinal</td>\n",
       "      <td>[-1]</td>\n",
       "    </tr>\n",
       "  </tbody>\n",
       "</table>\n",
       "</div>"
      ],
      "text/plain": [
       "              attribute information_level         type missing_or_unknown\n",
       "0              AGER_TYP            person  categorical             [-1,0]\n",
       "1  ALTERSKATEGORIE_GROB            person      ordinal           [-1,0,9]\n",
       "2             ANREDE_KZ            person  categorical             [-1,0]\n",
       "3         CJT_GESAMTTYP            person  categorical                [0]\n",
       "4     FINANZ_MINIMALIST            person      ordinal               [-1]"
      ]
     },
     "execution_count": 5,
     "metadata": {},
     "output_type": "execute_result"
    }
   ],
   "source": [
    "print('\\'AZDIAS_Feature_Summary.csv\\' contains:')\n",
    "print('rows : '+ str(feat_info.shape[0]))\n",
    "print('cols : '+ str(feat_info.shape[1]))\n",
    "print('First 5 rows given by:')\n",
    "feat_info.head(5)"
   ]
  },
  {
   "cell_type": "markdown",
   "metadata": {},
   "source": [
    "## Step 1: Preprocessing\n",
    "\n",
    "### Step 1.1: Assess Missing Data\n",
    "\n",
    "The feature summary file contains a summary of properties for each demographics data column. You will use this file to help you make cleaning decisions during this stage of the project. First of all, you should assess the demographics data in terms of missing data. Pay attention to the following points as you perform your analysis, and take notes on what you observe. Make sure that you fill in the **Discussion** cell with your findings and decisions at the end of each step that has one!\n",
    "\n",
    "#### Step 1.1.1: Convert Missing Value Codes to NaNs\n",
    "The fourth column of the feature attributes summary (loaded in above as `feat_info`) documents the codes from the data dictionary that indicate missing or unknown data. While the file encodes this as a list (e.g. `[-1,0]`), this will get read in as a string object. You'll need to do a little bit of parsing to make use of it to identify and clean the data. Convert data that matches a 'missing' or 'unknown' value code into a numpy NaN value. You might want to see how much data takes on a 'missing' or 'unknown' code, and how much data is naturally missing, as a point of interest.\n",
    "\n",
    "**As one more reminder, you are encouraged to add additional cells to break up your analysis into manageable chunks.**"
   ]
  },
  {
   "cell_type": "code",
   "execution_count": 159,
   "metadata": {},
   "outputs": [],
   "source": [
    "# Identify missing or unknown data values and convert them to NaNs."
   ]
  },
  {
   "cell_type": "code",
   "execution_count": 6,
   "metadata": {},
   "outputs": [],
   "source": [
    "### Check original value set for example column (which happens to have tricky na-missing imputation)\n",
    "check = {}\n",
    "check['CAMEO_INTL_2015_before'] = azdias.CAMEO_INTL_2015.unique()"
   ]
  },
  {
   "cell_type": "code",
   "execution_count": 7,
   "metadata": {},
   "outputs": [],
   "source": [
    "# Define function to convert strings into numbers where possible\n",
    "# This step is needed to parse string of 'missing_or_unknown'\n",
    "def convert(in_):\n",
    "    try: out = int(in_)\n",
    "    except: out = in_\n",
    "    return out"
   ]
  },
  {
   "cell_type": "code",
   "execution_count": 8,
   "metadata": {},
   "outputs": [],
   "source": [
    "def missing_value_encoding(df = azdias, verbose = False):\n",
    "    for i,col in enumerate(df.columns):\n",
    "        if verbose: print(str(i).zfill(2) + ': Encoding NAs for column : ' + col)\n",
    "\n",
    "        col_na_list = [convert(x) for x in feat_info[feat_info['attribute'] == col]['missing_or_unknown']\\\n",
    "                                               .str.split(',|\\[|\\]')\\\n",
    "                                               .tolist()[0] if x]\n",
    "\n",
    "        before = df[col].head(5)\n",
    "        df.loc[df[col].isin(col_na_list),df.columns == col] = np.NAN\n",
    "        after  = df[col].head(5)\n",
    "\n",
    "        if verbose: print('Before and after NA encoding:')\n",
    "        if verbose: print(pd.DataFrame(data = {'before':before,'after':after}))\n",
    "            \n",
    "    return df"
   ]
  },
  {
   "cell_type": "code",
   "execution_count": 9,
   "metadata": {},
   "outputs": [],
   "source": [
    "az0 = missing_value_encoding(df = azdias, verbose = False)"
   ]
  },
  {
   "cell_type": "code",
   "execution_count": 10,
   "metadata": {},
   "outputs": [],
   "source": [
    "check['CAMEO_INTL_2015_after'] = az0.CAMEO_INTL_2015.unique()"
   ]
  },
  {
   "cell_type": "code",
   "execution_count": 11,
   "metadata": {},
   "outputs": [
    {
     "name": "stdout",
     "output_type": "stream",
     "text": [
      "[nan '51' '24' '12' '43' '54' '22' '14' '13' '15' '33' '41' '34' '55' '25'\n",
      " '23' '31' '52' '35' '45' '44' '32' 'XX']\n",
      "[nan '51' '24' '12' '43' '54' '22' '14' '13' '15' '33' '41' '34' '55' '25'\n",
      " '23' '31' '52' '35' '45' '44' '32']\n",
      "^^Here we see 'XX' is not present after missing value encoding\n"
     ]
    }
   ],
   "source": [
    "### Examine differences before and after missing value encoding\n",
    "print(check['CAMEO_INTL_2015_before'])\n",
    "print(check['CAMEO_INTL_2015_after'])\n",
    "print('^^Here we see \\'XX\\' is not present after missing value encoding')"
   ]
  },
  {
   "cell_type": "code",
   "execution_count": null,
   "metadata": {},
   "outputs": [],
   "source": []
  },
  {
   "cell_type": "markdown",
   "metadata": {},
   "source": [
    "#### Step 1.1.2: Assess Missing Data in Each Column\n",
    "\n",
    "How much missing data is present in each column? There are a few columns that are outliers in terms of the proportion of values that are missing. You will want to use matplotlib's [`hist()`](https://matplotlib.org/api/_as_gen/matplotlib.pyplot.hist.html) function to visualize the distribution of missing value counts to find these columns. Identify and document these columns. While some of these columns might have justifications for keeping or re-encoding the data, for this project you should just remove them from the dataframe. (Feel free to make remarks about these outlier columns in the discussion, however!)\n",
    "\n",
    "For the remaining features, are there any patterns in which columns have, or share, missing data?"
   ]
  },
  {
   "cell_type": "code",
   "execution_count": 12,
   "metadata": {},
   "outputs": [
    {
     "name": "stdout",
     "output_type": "stream",
     "text": [
      "CPU times: user 441 ms, sys: 57.1 ms, total: 498 ms\n",
      "Wall time: 779 ms\n"
     ]
    }
   ],
   "source": [
    "%%time\n",
    "nan_check = pd.DataFrame(data= {'variable':az0.columns,\n",
    "                                'nan_frac':az0.isnull().sum(axis =0).reset_index(drop=True)/len(azdias)})"
   ]
  },
  {
   "cell_type": "code",
   "execution_count": 13,
   "metadata": {},
   "outputs": [
    {
     "data": {
      "image/png": "[encoded data removed]",
      "text/plain": [
       "<Figure size 360x1080 with 1 Axes>"
      ]
     },
     "metadata": {
      "needs_background": "light"
     },
     "output_type": "display_data"
    }
   ],
   "source": [
    "plt.figure(figsize=(5,15))\n",
    "plt.barh(nan_check.variable,nan_check.nan_frac)\n",
    "plt.gca().invert_yaxis()\n",
    "plt.title('Variable missingness:\\nFraction of each column that is missing');"
   ]
  },
  {
   "cell_type": "code",
   "execution_count": 14,
   "metadata": {
    "scrolled": true
   },
   "outputs": [
    {
     "name": "stdout",
     "output_type": "stream",
     "text": [
      "Here we see that six variables have more than 30% missing values. \n",
      "We will drop these rows into main clustering routine. \n",
      "The variables are:\n",
      "['AGER_TYP', 'GEBURTSJAHR', 'TITEL_KZ', 'ALTER_HH', 'KK_KUNDENTYP', 'KBA05_BAUMAX']\n"
     ]
    }
   ],
   "source": [
    "print('Here we see that six variables have more than 30% missing values. \\n\\\n",
    "We will drop these rows into main clustering routine. \\nThe variables are:')\n",
    "outlier_variables = list(nan_check[nan_check['nan_frac'] > 0.3]['variable'].values)\n",
    "print(outlier_variables)"
   ]
  },
  {
   "cell_type": "code",
   "execution_count": 15,
   "metadata": {},
   "outputs": [],
   "source": [
    "variables_with_missing = list(nan_check[nan_check['nan_frac'] > 0]['variable'])"
   ]
  },
  {
   "cell_type": "code",
   "execution_count": 16,
   "metadata": {},
   "outputs": [
    {
     "name": "stdout",
     "output_type": "stream",
     "text": [
      "CPU times: user 8.95 s, sys: 918 ms, total: 9.87 s\n",
      "Wall time: 9.93 s\n"
     ]
    }
   ],
   "source": [
    "%%time\n",
    "azdias_nan_corr = az0.filter(items = variables_with_missing).isnull().corr()"
   ]
  },
  {
   "cell_type": "code",
   "execution_count": 17,
   "metadata": {},
   "outputs": [
    {
     "name": "stdout",
     "output_type": "stream",
     "text": [
      "CPU times: user 639 ms, sys: 319 ms, total: 958 ms\n",
      "Wall time: 958 ms\n"
     ]
    },
    {
     "data": {
      "text/plain": [
       "<matplotlib.colorbar.Colorbar at 0x7fe2074f3c90>"
      ]
     },
     "execution_count": 17,
     "metadata": {},
     "output_type": "execute_result"
    },
    {
     "data": {
      "image/png": "[encoded data removed]",
      "text/plain": [
       "<Figure size 720x720 with 2 Axes>"
      ]
     },
     "metadata": {
      "needs_background": "light"
     },
     "output_type": "display_data"
    }
   ],
   "source": [
    "%%time\n",
    "fig, ax = plt.subplots(figsize = (10,10));\n",
    "c_plot = ax.matshow(azdias_nan_corr);\n",
    "plt.xticks(range(0,len(azdias_nan_corr)), az0.filter(items = variables_with_missing).columns,rotation = 90)\n",
    "plt.yticks(range(0,len(azdias_nan_corr)), az0.filter(items = variables_with_missing).columns)\n",
    "plt.title('Correlation of NaNs (only colums with NaNs)',size = 16);\n",
    "fig.colorbar(c_plot,fraction=0.046);"
   ]
  },
  {
   "cell_type": "markdown",
   "metadata": {},
   "source": [
    "Here we see a number of groups with perfectly correlated missing levels, about two thirds of the variables with missing levels exhibit high correlation with each other (e.g. > 90% correlated)"
   ]
  },
  {
   "cell_type": "code",
   "execution_count": 172,
   "metadata": {},
   "outputs": [],
   "source": [
    "# Perform an assessment of how much missing data there is in each column of the\n",
    "# dataset.\n",
    "\n"
   ]
  },
  {
   "cell_type": "code",
   "execution_count": 173,
   "metadata": {},
   "outputs": [],
   "source": [
    "# Investigate patterns in the amount of missing data in each column.\n",
    "\n"
   ]
  },
  {
   "cell_type": "code",
   "execution_count": 174,
   "metadata": {},
   "outputs": [],
   "source": [
    "# Remove the outlier columns from the dataset. (You'll perform other data\n",
    "# engineering tasks such as re-encoding and imputation later.)\n",
    "\n"
   ]
  },
  {
   "cell_type": "markdown",
   "metadata": {},
   "source": [
    "#### Discussion 1.1.2: Assess Missing Data in Each Column\n",
    "\n",
    " - Here we see a number of groups with perfectly correlated missing levels, about two thirds of the variables with missing levels exhibit high correlation with each other (e.g. > 90% correlated).  \n",
    "\n",
    " - Six outlier variables (['AGER_TYP', 'GEBURTSJAHR', 'TITEL_KZ', 'ALTER_HH', 'KK_KUNDENTYP', 'KBA05_BAUMAX']) identified as having more than 30% missingness. These will be dropped by the function 'filter_rows_and_cols_with_lots_of_nas()'.  \n",
    "\n",
    " - Apart from the six outlier variables, most variables have fewer than 10% NaNs.  "
   ]
  },
  {
   "cell_type": "markdown",
   "metadata": {},
   "source": [
    "#### Step 1.1.3: Assess Missing Data in Each Row\n",
    "\n",
    "Now, you'll perform a similar assessment for the rows of the dataset. How much data is missing in each row? As with the columns, you should see some groups of points that have a very different numbers of missing values. Divide the data into two subsets: one for data points that are above some threshold for missing values, and a second subset for points below that threshold.\n",
    "\n",
    "In order to know what to do with the outlier rows, we should see if the distribution of data values on columns that are not missing data (or are missing very little data) are similar or different between the two groups. Select at least five of these columns and compare the distribution of values.\n",
    "- You can use seaborn's [`countplot()`](https://seaborn.pydata.org/generated/seaborn.countplot.html) function to create a bar chart of code frequencies and matplotlib's [`subplot()`](https://matplotlib.org/api/_as_gen/matplotlib.pyplot.subplot.html) function to put bar charts for the two subplots side by side.\n",
    "- To reduce repeated code, you might want to write a function that can perform this comparison, taking as one of its arguments a column to be compared.\n",
    "\n",
    "Depending on what you observe in your comparison, this will have implications on how you approach your conclusions later in the analysis. If the distributions of non-missing features look similar between the data with many missing values and the data with few or no missing values, then we could argue that simply dropping those points from the analysis won't present a major issue. On the other hand, if the data with many missing values looks very different from the data with few or no missing values, then we should make a note on those data as special. We'll revisit these data later on. **Either way, you should continue your analysis for now using just the subset of the data with few or no missing values.**"
   ]
  },
  {
   "cell_type": "code",
   "execution_count": 18,
   "metadata": {},
   "outputs": [],
   "source": [
    "row_missingness = pd.DataFrame(data = {'nan_frac' : np.array(az0.copy().isnull()\\\n",
    "                                           .sum(axis =1)\\\n",
    "                                           /az0.shape[1])\n",
    "                                      })"
   ]
  },
  {
   "cell_type": "code",
   "execution_count": 19,
   "metadata": {},
   "outputs": [
    {
     "data": {
      "image/png": "[encoded data removed]",
      "text/plain": [
       "<Figure size 576x360 with 1 Axes>"
      ]
     },
     "metadata": {
      "needs_background": "light"
     },
     "output_type": "display_data"
    }
   ],
   "source": [
    "plt.figure(figsize = (8,5))\n",
    "plt.hist(row_missingness)\n",
    "plt.xlabel('Fraction of how many values are missing for a row')\n",
    "plt.ylabel('Number of rows')\n",
    "plt.title('Histogram of missingess in each row', size = 14);"
   ]
  },
  {
   "cell_type": "code",
   "execution_count": 22,
   "metadata": {},
   "outputs": [],
   "source": [
    "def filter_rows_and_cols_with_lots_of_nas(df,row_threshold):\n",
    "    \n",
    "    df_ = df.copy()\n",
    "    \n",
    "    df_ = df_.drop(outlier_variables,axis = 1)\n",
    "    \n",
    "    row_missingness = pd.DataFrame(data = {'nan_frac' : np.array(df_.isnull().sum(axis =1)/df_.shape[1])})\n",
    "    \n",
    "    row_missingness.loc[row_missingness['nan_frac'] >  row_threshold,'outlier'] = 1\n",
    "    row_missingness.loc[row_missingness['nan_frac'] <= row_threshold,'outlier'] = 0\n",
    "    df_outliers = df_[row_missingness['outlier'] == 1]\n",
    "    df_regulars = df_[row_missingness['outlier'] == 0]\n",
    "    \n",
    "    return df_outliers, df_regulars"
   ]
  },
  {
   "cell_type": "code",
   "execution_count": null,
   "metadata": {},
   "outputs": [],
   "source": []
  },
  {
   "cell_type": "code",
   "execution_count": 24,
   "metadata": {},
   "outputs": [],
   "source": [
    "### Divide into two sets\n",
    "az1_outliers, az1_regulars = filter_rows_and_cols_with_lots_of_nas(df=az0, row_threshold = 0.3)"
   ]
  },
  {
   "cell_type": "code",
   "execution_count": 25,
   "metadata": {},
   "outputs": [
    {
     "name": "stdout",
     "output_type": "stream",
     "text": [
      "Original number of rows:   891221\n",
      "Number of outlier rows:    93384 (i.e. 10.5%)\n",
      "Row count below threshold: 797837 (i.e. 89.5%)\n"
     ]
    }
   ],
   "source": [
    "print('Original number of rows:   '+str(len(az0)))\n",
    "print('Number of outlier rows:    '+str(len(az1_outliers))+' (i.e. '+ str(round(len(az1_outliers)/len(az0)*100,1)) +'%)')\n",
    "print('Row count below threshold: '+str(len(az1_regulars))+' (i.e. '+ str(round(len(az1_regulars)/len(az0)*100,1)) +'%)')"
   ]
  },
  {
   "cell_type": "code",
   "execution_count": 26,
   "metadata": {},
   "outputs": [],
   "source": [
    "def select_non_na_col_sample(df,ncols):\n",
    "    df_out = df.drop(columns= df.loc[:,df.columns.isin(variables_with_missing)].columns)\\\n",
    "               .sample(n=ncols,axis='columns',random_state = 123)\n",
    "    return df_out"
   ]
  },
  {
   "cell_type": "code",
   "execution_count": 27,
   "metadata": {},
   "outputs": [],
   "source": [
    "az1_outliers_5_samp = select_non_na_col_sample(az1_outliers,5)\n",
    "az1_regulars_5_samp = select_non_na_col_sample(az1_regulars,5)"
   ]
  },
  {
   "cell_type": "code",
   "execution_count": 28,
   "metadata": {
    "scrolled": false
   },
   "outputs": [
    {
     "data": {
      "image/png": "[encoded data removed]",
      "text/plain": [
       "<Figure size 720x1008 with 17 Axes>"
      ]
     },
     "metadata": {
      "needs_background": "light"
     },
     "output_type": "display_data"
    }
   ],
   "source": [
    "plt.figure(figsize=(10,14))\n",
    "gs = gridspec.GridSpec(5+1,2+1,height_ratios = [0.01, 1,1,1,1,1])\n",
    "plt.suptitle('Five histograms, by \\'Regular\\' and \\'Outlier\\' Subsets:', size = 22)\n",
    "\n",
    "axs = {}\n",
    "\n",
    "axs[0,1] = plt.subplot(gs[0,1])\n",
    "axs[0,1].set_axis_off()\n",
    "axs[0,1].text(0.1, 0, 'Regular rows',size = 18)\n",
    "\n",
    "axs[0,2] = plt.subplot(gs[0,2])\n",
    "axs[0,2].set_axis_off()\n",
    "axs[0,2].text(0.1, 0, 'Outlier rows',size = 18)\n",
    "\n",
    "for i, var in enumerate(az1_outliers_5_samp.columns.values):\n",
    "    \n",
    "    axs[i+1,0] = plt.subplot(gs[i+1,0])\n",
    "    axs[i+1,0].set_axis_off()\n",
    "    axs[i+1,0].text(0, 0.5, var,size = 11)\n",
    "    \n",
    "    axs[i+1,1] = plt.subplot(gs[i+1,1])\n",
    "    plt.hist(az1_regulars_5_samp[var])\n",
    "    \n",
    "    axs[i+1,2] = plt.subplot(gs[i+1,2])\n",
    "    plt.hist(az1_outliers_5_samp[var])\n",
    "\n"
   ]
  },
  {
   "cell_type": "markdown",
   "metadata": {},
   "source": [
    "#### Discussion 1.1.3: Assess Missing Data in Each Row\n",
    "\n",
    "Here we see distributions for five randomly selected colums that don\\'t have null values. They show very different shapes if the row has missing values.  \n",
    "i.e the values in columns without missing values for a particular row are highly correlated to whether they have missing values elsewhere. This indicates missingness is not random, and may be an important feature/differentiator.  \n",
    "--> In summary, rows with missing values have very different distributions even in columns that are non-missing."
   ]
  },
  {
   "cell_type": "markdown",
   "metadata": {},
   "source": [
    "### Step 1.2: Select and Re-Encode Features\n",
    "\n",
    "Checking for missing data isn't the only way in which you can prepare a dataset for analysis. Since the unsupervised learning techniques to be used will only work on data that is encoded numerically, you need to make a few encoding changes or additional assumptions to be able to make progress. In addition, while almost all of the values in the dataset are encoded using numbers, not all of them represent numeric values. Check the third column of the feature summary (`feat_info`) for a summary of types of measurement.\n",
    "- For numeric and interval data, these features can be kept without changes.\n",
    "- Most of the variables in the dataset are ordinal in nature. While ordinal values may technically be non-linear in spacing, make the simplifying assumption that the ordinal variables can be treated as being interval in nature (that is, kept without any changes).\n",
    "- Special handling may be necessary for the remaining two variable types: categorical, and 'mixed'.\n",
    "\n",
    "In the first two parts of this sub-step, you will perform an investigation of the categorical and mixed-type features and make a decision on each of them, whether you will keep, drop, or re-encode each. Then, in the last part, you will create a new data frame with only the selected and engineered columns.\n",
    "\n",
    "Data wrangling is often the trickiest part of the data analysis process, and there's a lot of it to be done here. But stick with it: once you're done with this step, you'll be ready to get to the machine learning parts of the project!"
   ]
  },
  {
   "cell_type": "code",
   "execution_count": 33,
   "metadata": {},
   "outputs": [
    {
     "name": "stdout",
     "output_type": "stream",
     "text": [
      "['categorical' 'ordinal' 'numeric' 'mixed' 'interval']\n"
     ]
    }
   ],
   "source": [
    "print(feat_info.type.unique())"
   ]
  },
  {
   "cell_type": "code",
   "execution_count": 34,
   "metadata": {},
   "outputs": [],
   "source": [
    "vars_categ = feat_info[feat_info['type'] == 'categorical'].attribute\n",
    "vars_ordin = feat_info[feat_info['type'] == 'ordinal'].attribute\n",
    "vars_numer = feat_info[feat_info['type'] == 'numeric'].attribute\n",
    "vars_mixed = feat_info[feat_info['type'] == 'mixed'].attribute\n",
    "vars_inter = feat_info[feat_info['type'] == 'interval'].attribute"
   ]
  },
  {
   "cell_type": "code",
   "execution_count": 36,
   "metadata": {
    "scrolled": true
   },
   "outputs": [
    {
     "data": {
      "text/plain": [
       "type\n",
       "categorical    21\n",
       "interval        1\n",
       "mixed           7\n",
       "numeric         7\n",
       "ordinal        49\n",
       "dtype: int64"
      ]
     },
     "execution_count": 36,
     "metadata": {},
     "output_type": "execute_result"
    }
   ],
   "source": [
    "### Print number of features by each variable type\n",
    "feat_info.groupby('type').size()"
   ]
  },
  {
   "cell_type": "markdown",
   "metadata": {},
   "source": [
    "#### Step 1.2.1: Re-Encode Categorical Features\n",
    "\n",
    "For categorical data, you would ordinarily need to encode the levels as dummy variables. Depending on the number of categories, perform one of the following:\n",
    "- For binary (two-level) categoricals that take numeric values, you can keep them without needing to do anything.\n",
    "- There is one binary variable that takes on non-numeric values. For this one, you need to re-encode the values as numbers or create a dummy variable.\n",
    "- For multi-level categoricals (three or more values), you can choose to encode the values using multiple dummy variables (e.g. via [OneHotEncoder](http://scikit-learn.org/stable/modules/generated/sklearn.preprocessing.OneHotEncoder.html)), or (to keep things straightforward) just drop them from the analysis. As always, document your choices in the Discussion section."
   ]
  },
  {
   "cell_type": "code",
   "execution_count": 38,
   "metadata": {},
   "outputs": [],
   "source": [
    "### Infer treatment needed for each variable"
   ]
  },
  {
   "cell_type": "code",
   "execution_count": 39,
   "metadata": {},
   "outputs": [],
   "source": [
    "def summarise_catagoric_treatment_needed(df, verbose = False):\n",
    "    \n",
    "    df_ = df.copy()\n",
    "    \n",
    "    dict_ = {}\n",
    "\n",
    "    ### Create dictionary\n",
    "    for var in df_.loc[:,df_.columns.isin(feat_info[feat_info['type'] == 'categorical'].attribute)].columns:\n",
    "        # Binary categoric\n",
    "        if len(df_[var].dropna().unique()) == 2:\n",
    "            if type(np.array(df_[var].dropna())[0]) == str:\n",
    "                cat_type = 'binary_str'\n",
    "            else:\n",
    "                cat_type = 'binary_num'\n",
    "        # Multi-level categoric\n",
    "        if len(df_[var].dropna().unique()) > 2:\n",
    "            cat_type = 'multi'\n",
    "\n",
    "        dict_[var] = cat_type\n",
    "        \n",
    "    ### Convert to dataframe    \n",
    "    vars_categ_types = pd.DataFrame.from_dict(dict_,orient='index').reset_index()\\\n",
    "                     .rename(columns = {'index':'var',0:'type'})\n",
    "    vars_categ_types['need to re-encode'] = False\n",
    "    vars_categ_types.loc[vars_categ_types['type'].isin(['binary_str','multi']),vars_categ_types.columns == 'need to re-encode'] = True\n",
    "    if verbose: print(vars_categ_types)\n",
    "        \n",
    "    return vars_categ_types"
   ]
  },
  {
   "cell_type": "code",
   "execution_count": 40,
   "metadata": {
    "scrolled": false
   },
   "outputs": [],
   "source": [
    "vars_categ_types = summarise_catagoric_treatment_needed(df = az1_regulars, verbose = False)"
   ]
  },
  {
   "cell_type": "code",
   "execution_count": 41,
   "metadata": {},
   "outputs": [],
   "source": [
    "### For binary variables encoded as strings\n",
    "def re_encode_binary_str(df,vars_categ_types):\n",
    "    \n",
    "    df_ = df.copy()\n",
    "\n",
    "    for var in np.array(vars_categ_types[vars_categ_types['type'] == 'binary_str']['var']):\n",
    "\n",
    "        level_to_encode = np.array(df_[var].dropna())[0]\n",
    "        var_label_encod_name = var + '_is_' + level_to_encode\n",
    "\n",
    "        df_[var_label_encod_name] = df_[var].apply(lambda x: 1 if x == level_to_encode else 0)\n",
    "        df_ = df_.drop(var,axis = 1)\n",
    "\n",
    "        return df_"
   ]
  },
  {
   "cell_type": "code",
   "execution_count": 42,
   "metadata": {},
   "outputs": [],
   "source": [
    "### For multi-level variables (Pandas 'get_dummies' is simpler than sklearn.preprocessing.onehotencoding)\n",
    "def re_encode_multi(df,vars_categ_types):\n",
    "    \n",
    "    df_ = df.copy()\n",
    "    \n",
    "    for var in np.array(vars_categ_types[vars_categ_types['type'] == 'multi']['var']):\n",
    "    \n",
    "        df_ = pd.concat([df_.drop(var,axis = 1),\n",
    "                         pd.get_dummies(df_[var],\n",
    "                                        prefix=var,\n",
    "                                        prefix_sep=\"_\",\n",
    "                                        drop_first=True,\n",
    "                                        dummy_na = True)],\n",
    "                         axis = 1)\n",
    "    return df_"
   ]
  },
  {
   "cell_type": "code",
   "execution_count": 43,
   "metadata": {},
   "outputs": [],
   "source": [
    "az2 = re_encode_binary_str(az1_regulars,vars_categ_types)\n",
    "az2 = re_encode_multi(az2,vars_categ_types)"
   ]
  },
  {
   "cell_type": "code",
   "execution_count": 44,
   "metadata": {},
   "outputs": [
    {
     "name": "stdout",
     "output_type": "stream",
     "text": [
      "Number of columns BEFORE re-encoding: 79\n",
      "Number of columns AFTER  re-encoding: 194\n"
     ]
    }
   ],
   "source": [
    "print('Number of columns BEFORE re-encoding: '+str(len(az1_regulars.columns)))\n",
    "print('Number of columns AFTER  re-encoding: '+str(len(az2.columns)))"
   ]
  },
  {
   "cell_type": "code",
   "execution_count": 45,
   "metadata": {},
   "outputs": [],
   "source": [
    "### Record how many colums are used to represent the variable after one-hot encoding\n",
    "def record_number_of_level_after_reencoding_categorics(df_sum, df):\n",
    "    df_sum['Num_Cols_After_re-encoding'] = 'Not re-encoded'\n",
    "    for var in np.array(df_sum[df_sum['need to re-encode'] == True]['var']):\n",
    "        count_after = len(df.filter(like=var).columns)\n",
    "        df_sum.loc[df_sum['var'] == var, df_sum.columns == 'Num_Cols_After_re-encoding'] = count_after\n",
    "    return df_sum"
   ]
  },
  {
   "cell_type": "code",
   "execution_count": 46,
   "metadata": {
    "scrolled": true
   },
   "outputs": [],
   "source": [
    "vars_categ_types = record_number_of_level_after_reencoding_categorics(vars_categ_types,az2)"
   ]
  },
  {
   "cell_type": "code",
   "execution_count": 47,
   "metadata": {},
   "outputs": [],
   "source": [
    "var_list_catg_binary_num = list(vars_categ_types[vars_categ_types['type'] == 'binary_num']['var'])\n",
    "var_list_catg_binary_str = list(vars_categ_types[vars_categ_types['type'] == 'binary_str']['var'])\n",
    "var_list_catg_multi      = list(vars_categ_types[vars_categ_types['type'] == 'multi']['var'])"
   ]
  },
  {
   "cell_type": "code",
   "execution_count": 48,
   "metadata": {},
   "outputs": [
    {
     "name": "stdout",
     "output_type": "stream",
     "text": [
      "There were 4 binary numeric categoric variables that did not need to be re-encoded.\n",
      "These are: ANREDE_KZ, GREEN_AVANTGARDE, SOHO_KZ, VERS_TYP\n",
      "\n",
      "There was 1 binary string categoric variable that was re-encoded.\n",
      "This was: OST_WEST_KZ\n",
      "\n",
      "There were 13 multi-level categoric variables that was re-encoded.\n",
      "These are: CJT_GESAMTTYP, FINANZTYP, GFK_URLAUBERTYP, LP_FAMILIE_FEIN, LP_FAMILIE_GROB, LP_STATUS_FEIN, LP_STATUS_GROB, NATIONALITAET_KZ, SHOPPER_TYP, ZABEOTYP, GEBAEUDETYP, CAMEO_DEUG_2015, CAMEO_DEU_2015\n"
     ]
    }
   ],
   "source": [
    "print('There were ' + str(len(var_list_catg_binary_num)) + \\\n",
    "      ' binary numeric categoric variables that did not need to be re-encoded.')\n",
    "print('These are: '+ \", \".join(var_list_catg_binary_num)+'\\n')\n",
    "\n",
    "print('There was ' + str(len(var_list_catg_binary_str)) + \\\n",
    "      ' binary string categoric variable that was re-encoded.')\n",
    "print('This was: '+ \" \".join(var_list_catg_binary_str)+'\\n')\n",
    "    \n",
    "print('There were ' + str(len(var_list_catg_multi)) + \\\n",
    "      ' multi-level categoric variables that was re-encoded.')\n",
    "print('These are: '+ \", \".join(var_list_catg_multi))\n",
    "    \n",
    "# Categoric re-encoding of variables with n levels were re-encoded to n-1 variables.\n",
    "    \n"
   ]
  },
  {
   "cell_type": "markdown",
   "metadata": {},
   "source": [
    "The table below shows that column expansion for each variable from categoric variable re-encoding:"
   ]
  },
  {
   "cell_type": "code",
   "execution_count": 49,
   "metadata": {
    "scrolled": false
   },
   "outputs": [
    {
     "data": {
      "text/html": [
       "<div>\n",
       "<style scoped>\n",
       "    .dataframe tbody tr th:only-of-type {\n",
       "        vertical-align: middle;\n",
       "    }\n",
       "\n",
       "    .dataframe tbody tr th {\n",
       "        vertical-align: top;\n",
       "    }\n",
       "\n",
       "    .dataframe thead th {\n",
       "        text-align: right;\n",
       "    }\n",
       "</style>\n",
       "<table border=\"1\" class=\"dataframe\">\n",
       "  <thead>\n",
       "    <tr style=\"text-align: right;\">\n",
       "      <th></th>\n",
       "      <th>var</th>\n",
       "      <th>type</th>\n",
       "      <th>need to re-encode</th>\n",
       "      <th>Num_Cols_After_re-encoding</th>\n",
       "    </tr>\n",
       "  </thead>\n",
       "  <tbody>\n",
       "    <tr>\n",
       "      <th>0</th>\n",
       "      <td>ANREDE_KZ</td>\n",
       "      <td>binary_num</td>\n",
       "      <td>False</td>\n",
       "      <td>Not re-encoded</td>\n",
       "    </tr>\n",
       "    <tr>\n",
       "      <th>1</th>\n",
       "      <td>CJT_GESAMTTYP</td>\n",
       "      <td>multi</td>\n",
       "      <td>True</td>\n",
       "      <td>6</td>\n",
       "    </tr>\n",
       "    <tr>\n",
       "      <th>2</th>\n",
       "      <td>FINANZTYP</td>\n",
       "      <td>multi</td>\n",
       "      <td>True</td>\n",
       "      <td>6</td>\n",
       "    </tr>\n",
       "    <tr>\n",
       "      <th>3</th>\n",
       "      <td>GFK_URLAUBERTYP</td>\n",
       "      <td>multi</td>\n",
       "      <td>True</td>\n",
       "      <td>12</td>\n",
       "    </tr>\n",
       "    <tr>\n",
       "      <th>4</th>\n",
       "      <td>GREEN_AVANTGARDE</td>\n",
       "      <td>binary_num</td>\n",
       "      <td>False</td>\n",
       "      <td>Not re-encoded</td>\n",
       "    </tr>\n",
       "    <tr>\n",
       "      <th>5</th>\n",
       "      <td>LP_FAMILIE_FEIN</td>\n",
       "      <td>multi</td>\n",
       "      <td>True</td>\n",
       "      <td>11</td>\n",
       "    </tr>\n",
       "    <tr>\n",
       "      <th>6</th>\n",
       "      <td>LP_FAMILIE_GROB</td>\n",
       "      <td>multi</td>\n",
       "      <td>True</td>\n",
       "      <td>5</td>\n",
       "    </tr>\n",
       "    <tr>\n",
       "      <th>7</th>\n",
       "      <td>LP_STATUS_FEIN</td>\n",
       "      <td>multi</td>\n",
       "      <td>True</td>\n",
       "      <td>10</td>\n",
       "    </tr>\n",
       "    <tr>\n",
       "      <th>8</th>\n",
       "      <td>LP_STATUS_GROB</td>\n",
       "      <td>multi</td>\n",
       "      <td>True</td>\n",
       "      <td>5</td>\n",
       "    </tr>\n",
       "    <tr>\n",
       "      <th>9</th>\n",
       "      <td>NATIONALITAET_KZ</td>\n",
       "      <td>multi</td>\n",
       "      <td>True</td>\n",
       "      <td>3</td>\n",
       "    </tr>\n",
       "    <tr>\n",
       "      <th>10</th>\n",
       "      <td>SHOPPER_TYP</td>\n",
       "      <td>multi</td>\n",
       "      <td>True</td>\n",
       "      <td>4</td>\n",
       "    </tr>\n",
       "    <tr>\n",
       "      <th>11</th>\n",
       "      <td>SOHO_KZ</td>\n",
       "      <td>binary_num</td>\n",
       "      <td>False</td>\n",
       "      <td>Not re-encoded</td>\n",
       "    </tr>\n",
       "    <tr>\n",
       "      <th>12</th>\n",
       "      <td>VERS_TYP</td>\n",
       "      <td>binary_num</td>\n",
       "      <td>False</td>\n",
       "      <td>Not re-encoded</td>\n",
       "    </tr>\n",
       "    <tr>\n",
       "      <th>13</th>\n",
       "      <td>ZABEOTYP</td>\n",
       "      <td>multi</td>\n",
       "      <td>True</td>\n",
       "      <td>6</td>\n",
       "    </tr>\n",
       "    <tr>\n",
       "      <th>14</th>\n",
       "      <td>GEBAEUDETYP</td>\n",
       "      <td>multi</td>\n",
       "      <td>True</td>\n",
       "      <td>8</td>\n",
       "    </tr>\n",
       "    <tr>\n",
       "      <th>15</th>\n",
       "      <td>OST_WEST_KZ</td>\n",
       "      <td>binary_str</td>\n",
       "      <td>True</td>\n",
       "      <td>1</td>\n",
       "    </tr>\n",
       "    <tr>\n",
       "      <th>16</th>\n",
       "      <td>CAMEO_DEUG_2015</td>\n",
       "      <td>multi</td>\n",
       "      <td>True</td>\n",
       "      <td>9</td>\n",
       "    </tr>\n",
       "    <tr>\n",
       "      <th>17</th>\n",
       "      <td>CAMEO_DEU_2015</td>\n",
       "      <td>multi</td>\n",
       "      <td>True</td>\n",
       "      <td>44</td>\n",
       "    </tr>\n",
       "  </tbody>\n",
       "</table>\n",
       "</div>"
      ],
      "text/plain": [
       "                 var        type  need to re-encode Num_Cols_After_re-encoding\n",
       "0          ANREDE_KZ  binary_num              False             Not re-encoded\n",
       "1      CJT_GESAMTTYP       multi               True                          6\n",
       "2          FINANZTYP       multi               True                          6\n",
       "3    GFK_URLAUBERTYP       multi               True                         12\n",
       "4   GREEN_AVANTGARDE  binary_num              False             Not re-encoded\n",
       "5    LP_FAMILIE_FEIN       multi               True                         11\n",
       "6    LP_FAMILIE_GROB       multi               True                          5\n",
       "7     LP_STATUS_FEIN       multi               True                         10\n",
       "8     LP_STATUS_GROB       multi               True                          5\n",
       "9   NATIONALITAET_KZ       multi               True                          3\n",
       "10       SHOPPER_TYP       multi               True                          4\n",
       "11           SOHO_KZ  binary_num              False             Not re-encoded\n",
       "12          VERS_TYP  binary_num              False             Not re-encoded\n",
       "13          ZABEOTYP       multi               True                          6\n",
       "14       GEBAEUDETYP       multi               True                          8\n",
       "15       OST_WEST_KZ  binary_str               True                          1\n",
       "16   CAMEO_DEUG_2015       multi               True                          9\n",
       "17    CAMEO_DEU_2015       multi               True                         44"
      ]
     },
     "execution_count": 49,
     "metadata": {},
     "output_type": "execute_result"
    }
   ],
   "source": [
    "vars_categ_types"
   ]
  },
  {
   "cell_type": "markdown",
   "metadata": {},
   "source": [
    "#### Discussion 1.2.1: Re-Encode Categorical Features\n",
    "\n",
    " - From table above we see 14 variables were re-encoded and four categoric variables were not re-encoded.\n",
    " - Colum 'Num_Cols_After_re-encoding' shows how many columns result after categoric one-hot-encoding.  \n",
    " - Re-encoding led to increase from 79 to 194 columns.\n",
    " - All variables were kept."
   ]
  },
  {
   "cell_type": "markdown",
   "metadata": {},
   "source": [
    "#### Step 1.2.2: Engineer Mixed-Type Features\n",
    "\n",
    "There are a handful of features that are marked as \"mixed\" in the feature summary that require special treatment in order to be included in the analysis. There are two in particular that deserve attention; the handling of the rest are up to your own choices:\n",
    "- \"PRAEGENDE_JUGENDJAHRE\" combines information on three dimensions: generation by decade, movement (mainstream vs. avantgarde), and nation (east vs. west). While there aren't enough levels to disentangle east from west, you should create two new variables to capture the other two dimensions: an interval-type variable for decade, and a binary variable for movement.\n",
    "- \"CAMEO_INTL_2015\" combines information on two axes: wealth and life stage. Break up the two-digit codes by their 'tens'-place and 'ones'-place digits into two new ordinal variables (which, for the purposes of this project, is equivalent to just treating them as their raw numeric values).\n",
    "- If you decide to keep or engineer new features around the other mixed-type features, make sure you note your steps in the Discussion section.\n",
    "\n",
    "Be sure to check `Data_Dictionary.md` for the details needed to finish these tasks."
   ]
  },
  {
   "cell_type": "markdown",
   "metadata": {},
   "source": [
    "**Process PRAEGENDE_JUGENDJAHRE variable:**"
   ]
  },
  {
   "cell_type": "markdown",
   "metadata": {},
   "source": [
    "Original dictionary:"
   ]
  },
  {
   "cell_type": "code",
   "execution_count": 50,
   "metadata": {},
   "outputs": [],
   "source": [
    "### 1.18. PRAEGENDE_JUGENDJAHRE\n",
    "# Dominating movement of person's youth (avantgarde vs. mainstream; east vs. west)\n",
    "# - -1: unknown\n",
    "# -  0: unknown\n",
    "# -  1: 40s - war years (Mainstream, E+W)\n",
    "# -  2: 40s - reconstruction years (Avantgarde, E+W)\n",
    "# -  3: 50s - economic miracle (Mainstream, E+W)\n",
    "# -  4: 50s - milk bar / Individualisation (Avantgarde, E+W)\n",
    "# -  5: 60s - economic miracle (Mainstream, E+W)\n",
    "# -  6: 60s - generation 68 / student protestors (Avantgarde, W)\n",
    "# -  7: 60s - opponents to the building of the Wall (Avantgarde, E)\n",
    "# -  8: 70s - family orientation (Mainstream, E+W)\n",
    "# -  9: 70s - peace movement (Avantgarde, E+W)\n",
    "# - 10: 80s - Generation Golf (Mainstream, W)\n",
    "# - 11: 80s - ecological awareness (Avantgarde, W)\n",
    "# - 12: 80s - FDJ / communist party youth organisation (Mainstream, E)\n",
    "# - 13: 80s - Swords into ploughshares (Avantgarde, E)\n",
    "# - 14: 90s - digital media kids (Mainstream, E+W)\n",
    "# - 15: 90s - ecological awareness (Avantgarde, E+W)"
   ]
  },
  {
   "cell_type": "code",
   "execution_count": 51,
   "metadata": {},
   "outputs": [],
   "source": [
    "def clean_PRAEGENDE_JUGENDJAHRE(df):\n",
    "    \n",
    "    df_ = df.copy()\n",
    "    \n",
    "    ### Extract mainstream (vs Non-AvanteGarde) variable\n",
    "    Mainstream_list = [1,3,5,8,10,12,14]\n",
    "    df_['PRAEGENDE_JUGENDJAHRE_Mainstream'] = 0\n",
    "    df_.loc[pd.isnull(df_['PRAEGENDE_JUGENDJAHRE']),df_.columns == 'PRAEGENDE_JUGENDJAHRE_Mainstream'] = None\n",
    "    df_.loc[df['PRAEGENDE_JUGENDJAHRE'].isin(Mainstream_list),df_.columns == 'PRAEGENDE_JUGENDJAHRE_Mainstream'] = 1\n",
    "\n",
    "    ### Extract decade variable\n",
    "    Year_list = pd.DataFrame(data = {'PRAEGENDE_JUGENDJAHRE'        : [1,2,3,4,5,6,7,8,9,10,11,12,13,14,15],\n",
    "                                     'PRAEGENDE_JUGENDJAHRE_decade' : [40,40,50,50,60,60,60,70,70,80,80,80,80,90,90]})\n",
    "    df_ = pd.merge(df,Year_list,how = 'left', on = 'PRAEGENDE_JUGENDJAHRE')\n",
    "\n",
    "    ### Drop original variable, and thus east-west information (not separable)\n",
    "    df_ = df_.drop('PRAEGENDE_JUGENDJAHRE', axis = 1)\n",
    "    \n",
    "    return df_"
   ]
  },
  {
   "cell_type": "code",
   "execution_count": 52,
   "metadata": {},
   "outputs": [],
   "source": [
    "az3 = clean_PRAEGENDE_JUGENDJAHRE(az2)"
   ]
  },
  {
   "cell_type": "code",
   "execution_count": null,
   "metadata": {},
   "outputs": [],
   "source": []
  },
  {
   "cell_type": "markdown",
   "metadata": {},
   "source": [
    "**Process CAMEO_INTL_2015 variable:**"
   ]
  },
  {
   "cell_type": "markdown",
   "metadata": {},
   "source": [
    "Original dictionary:"
   ]
  },
  {
   "cell_type": "code",
   "execution_count": 53,
   "metadata": {},
   "outputs": [],
   "source": [
    "### 4.3. CAMEO_INTL_2015\n",
    "# German CAMEO: Wealth / Life Stage Typology, mapped to international code\n",
    "# - -1: unknown\n",
    "# - 11: Wealthy Households - Pre-Family Couples & Singles\n",
    "# - 12: Wealthy Households - Young Couples With Children\n",
    "# - 13: Wealthy Households - Families With School Age Children\n",
    "# - 14: Wealthy Households - Older Families &  Mature Couples\n",
    "# - 15: Wealthy Households - Elders In Retirement\n",
    "# - 21: Prosperous Households - Pre-Family Couples & Singles\n",
    "# - 22: Prosperous Households - Young Couples With Children\n",
    "# - 23: Prosperous Households - Families With School Age Children\n",
    "# - 24: Prosperous Households - Older Families & Mature Couples\n",
    "# - 25: Prosperous Households - Elders In Retirement\n",
    "# - 31: Comfortable Households - Pre-Family Couples & Singles\n",
    "# - 32: Comfortable Households - Young Couples With Children\n",
    "# - 33: Comfortable Households - Families With School Age Children\n",
    "# - 34: Comfortable Households - Older Families & Mature Couples\n",
    "# - 35: Comfortable Households - Elders In Retirement\n",
    "# - 41: Less Affluent Households - Pre-Family Couples & Singles\n",
    "# - 42: Less Affluent Households - Young Couples With Children\n",
    "# - 43: Less Affluent Households - Families With School Age Children\n",
    "# - 44: Less Affluent Households - Older Families & Mature Couples\n",
    "# - 45: Less Affluent Households - Elders In Retirement\n",
    "# - 51: Poorer Households - Pre-Family Couples & Singles\n",
    "# - 52: Poorer Households - Young Couples With Children\n",
    "# - 53: Poorer Households - Families With School Age Children\n",
    "# - 54: Poorer Households - Older Families & Mature Couples\n",
    "# - 55: Poorer Households - Elders In Retirement\n",
    "# - XX: unknown"
   ]
  },
  {
   "cell_type": "code",
   "execution_count": 54,
   "metadata": {},
   "outputs": [],
   "source": [
    "### Separate Wealth/LifeStyle indicators and convert to float type (whilst also preserving NaN levels)\n",
    "def clean_CAMEO_INTL_2015(df):\n",
    "    \n",
    "    df_ = df.copy()\n",
    "    \n",
    "    df_['CAMEO_INTL_2015_Wealth']     = df_['CAMEO_INTL_2015'].str[0:1].astype('float')\n",
    "    df_['CAMEO_INTL_2015_Life_Stage'] = df_['CAMEO_INTL_2015'].str[1:2].astype('float')\n",
    "    df_ = df_.drop('CAMEO_INTL_2015', axis = 1)\n",
    "    \n",
    "    return df_"
   ]
  },
  {
   "cell_type": "code",
   "execution_count": 55,
   "metadata": {},
   "outputs": [],
   "source": [
    "az3 = clean_CAMEO_INTL_2015(az3)"
   ]
  },
  {
   "cell_type": "code",
   "execution_count": null,
   "metadata": {},
   "outputs": [],
   "source": []
  },
  {
   "cell_type": "markdown",
   "metadata": {},
   "source": [
    "#### Discussion 1.2.2: Engineer Mixed-Type Features\n",
    "\n",
    " - PRAEGENDE_JUGENDJAHRE was encoded to two new variables whilst preserving NaN levels for subsequent imputation, the original variable is dropped.  \n",
    " - CAMEO_INTL_2015 was encoded to two new variables, the original is dropped and NaN is also preserved (again for subsequent imputtion)."
   ]
  },
  {
   "cell_type": "markdown",
   "metadata": {},
   "source": [
    "#### Step 1.2.3: Complete Feature Selection\n",
    "\n",
    "In order to finish this step up, you need to make sure that your data frame now only has the columns that you want to keep. To summarize, the dataframe should consist of the following:\n",
    "- All numeric, interval, and ordinal type columns from the original dataset.\n",
    "- Binary categorical features (all numerically-encoded).\n",
    "- Engineered features from other multi-level categorical features and mixed features.\n",
    "\n",
    "Make sure that for any new columns that you have engineered, that you've excluded the original columns from the final dataset. Otherwise, their values will interfere with the analysis later on the project. For example, you should not keep \"PRAEGENDE_JUGENDJAHRE\", since its values won't be useful for the algorithm: only the values derived from it in the engineered features you created should be retained. As a reminder, your data should only be from **the subset with few or no missing values**."
   ]
  },
  {
   "cell_type": "code",
   "execution_count": 56,
   "metadata": {},
   "outputs": [],
   "source": [
    "dtypes = az3.dtypes.reset_index().rename(columns={'index':'var', 0:'dtype'})"
   ]
  },
  {
   "cell_type": "code",
   "execution_count": 57,
   "metadata": {},
   "outputs": [
    {
     "data": {
      "text/plain": [
       "dtype\n",
       "uint8      128\n",
       "int64        1\n",
       "float64     66\n",
       "dtype: int64"
      ]
     },
     "execution_count": 57,
     "metadata": {},
     "output_type": "execute_result"
    }
   ],
   "source": [
    "dtypes.groupby(['dtype']).size()"
   ]
  },
  {
   "cell_type": "markdown",
   "metadata": {},
   "source": [
    "### Step 1.3: Create a Cleaning Function\n",
    "\n",
    "Even though you've finished cleaning up the general population demographics data, it's important to look ahead to the future and realize that you'll need to perform the same cleaning steps on the customer demographics data. In this substep, complete the function below to execute the main feature selection, encoding, and re-engineering steps you performed above. Then, when it comes to looking at the customer data in Step 3, you can just run this function on that DataFrame to get the trimmed dataset in a single step."
   ]
  },
  {
   "cell_type": "code",
   "execution_count": 63,
   "metadata": {},
   "outputs": [],
   "source": [
    "def clean_data(df_input = azdias):\n",
    "    \"\"\"\n",
    "    Perform feature trimming, re-encoding, and engineering for demographics\n",
    "    data\n",
    "    \n",
    "    INPUT: Demographics DataFrame\n",
    "    OUTPUT: Trimmed and cleaned demographics DataFrame\n",
    "    \"\"\"\n",
    "    \n",
    "    print('Step1: Encoding missing values as NaN')\n",
    "    az0 = missing_value_encoding(df = df_input, verbose = False)\n",
    "    \n",
    "    print('Step2: Removing rows when more than 30% of their values are NaN')\n",
    "    az1_outliers, az1_regulars = filter_rows_and_cols_with_lots_of_nas(df=az0, row_threshold = 0.3)\n",
    "    \n",
    "    print('Step3: Summarising treatment of categoric variables that is needed')\n",
    "    vars_categ_types = summarise_catagoric_treatment_needed(df = az1_regulars, verbose = False)\n",
    "    \n",
    "    print('Step4: Re-encoding categoric variables')\n",
    "    az2 = re_encode_binary_str(az1_regulars,vars_categ_types)\n",
    "    az2 = re_encode_multi(az2,vars_categ_types)\n",
    "    \n",
    "    print('Step5: Engineering mixed-type variables')\n",
    "    az3 = clean_PRAEGENDE_JUGENDJAHRE(az2)\n",
    "    az3 = clean_CAMEO_INTL_2015(az3)    \n",
    "    \n",
    "    return az3"
   ]
  },
  {
   "cell_type": "code",
   "execution_count": 64,
   "metadata": {},
   "outputs": [
    {
     "name": "stdout",
     "output_type": "stream",
     "text": [
      "Step1: Encoding missing values as NaN\n",
      "Step2: Removing rows when more than 30% of their values are NaN\n",
      "Step3: Summarising treatment of categoric variables that is needed\n",
      "Step4: Re-encoding categoric variables\n",
      "Step5: Engineering mixed-type variables\n",
      "CPU times: user 18.2 s, sys: 13 s, total: 31.2 s\n",
      "Wall time: 31.7 s\n"
     ]
    }
   ],
   "source": [
    "%%time \n",
    "df_azdi_1 = clean_data(df_input = azdias)"
   ]
  },
  {
   "cell_type": "markdown",
   "metadata": {},
   "source": [
    "## Step 2: Feature Transformation\n",
    "\n",
    "### Step 2.1: Apply Feature Scaling\n",
    "\n",
    "Before we apply dimensionality reduction techniques to the data, we need to perform feature scaling so that the principal component vectors are not influenced by the natural differences in scale for features. Starting from this part of the project, you'll want to keep an eye on the [API reference page for sklearn](http://scikit-learn.org/stable/modules/classes.html) to help you navigate to all of the classes and functions that you'll need. In this substep, you'll need to check the following:\n",
    "\n",
    "- sklearn requires that data not have missing values in order for its estimators to work properly. So, before applying the scaler to your data, make sure that you've cleaned the DataFrame of the remaining missing values. This can be as simple as just removing all data points with missing data, or applying an [Imputer](https://scikit-learn.org/0.16/modules/generated/sklearn.preprocessing.Imputer.html) to replace all missing values. You might also try a more complicated procedure where you temporarily remove missing values in order to compute the scaling parameters before re-introducing those missing values and applying imputation. Think about how much missing data you have and what possible effects each approach might have on your analysis, and justify your decision in the discussion section below.\n",
    "- For the actual scaling function, a [StandardScaler](http://scikit-learn.org/stable/modules/generated/sklearn.preprocessing.StandardScaler.html) instance is suggested, scaling each feature to mean 0 and standard deviation 1.\n",
    "- For these classes, you can make use of the `.fit_transform()` method to both fit a procedure to the data as well as apply the transformation to the data at the same time. Don't forget to keep the fit sklearn objects handy, since you'll be applying them to the customer demographics data towards the end of the project."
   ]
  },
  {
   "cell_type": "code",
   "execution_count": 65,
   "metadata": {},
   "outputs": [],
   "source": [
    "### Function replaces NaNs with mean values, and flags records that have been imputed \n",
    "### ..so NaN imputation itself becomes a feature\n",
    "\n",
    "def nan_flagging_and_mean_encoding(df_):\n",
    "    df = df_.copy()\n",
    "    \n",
    "    print('Number of columns before: '+ str(len(df.columns)))\n",
    "    \n",
    "    for var in df.columns:\n",
    "        df[var+'_NAN_flag'] = 0\n",
    "        df.loc[pd.isnull(df[var]),df.columns == var+'_NAN_flag'] = 1\n",
    "        df.loc[pd.isnull(df[var]),df.columns == var            ] = df[var].mean()\n",
    "        if sum(df[var+'_NAN_flag']) == 0:\n",
    "            df = df.drop(var+'_NAN_flag',axis = 1)\n",
    "            \n",
    "    print('Number of columns after:  '+ str(len(df.columns)))\n",
    "    \n",
    "    return df"
   ]
  },
  {
   "cell_type": "code",
   "execution_count": 66,
   "metadata": {},
   "outputs": [
    {
     "name": "stdout",
     "output_type": "stream",
     "text": [
      "Number of columns before: 195\n",
      "Number of columns after:  232\n",
      "CPU times: user 2min 50s, sys: 2min 27s, total: 5min 18s\n",
      "Wall time: 5min 19s\n"
     ]
    }
   ],
   "source": [
    "%%time\n",
    "df_azdi_2 = nan_flagging_and_mean_encoding(df_azdi_1)"
   ]
  },
  {
   "cell_type": "code",
   "execution_count": 67,
   "metadata": {},
   "outputs": [
    {
     "name": "stdout",
     "output_type": "stream",
     "text": [
      "Number of rows BEFORE dropping NaNs: 797837\n",
      "Number of rows AFTER  dropping NaNs: 797837\n",
      "After NAs have been imputed, there are no NaNs left to drop.\n"
     ]
    }
   ],
   "source": [
    "print('Number of rows BEFORE dropping NaNs: '+str(df_azdi_2.shape[0]))\n",
    "print('Number of rows AFTER  dropping NaNs: '+str(df_azdi_2.dropna().shape[0]))\n",
    "print('After NAs have been imputed, there are no NaNs left to drop.')"
   ]
  },
  {
   "cell_type": "code",
   "execution_count": null,
   "metadata": {},
   "outputs": [],
   "source": []
  },
  {
   "cell_type": "code",
   "execution_count": 68,
   "metadata": {},
   "outputs": [],
   "source": [
    "### Standard scaling"
   ]
  },
  {
   "cell_type": "code",
   "execution_count": 69,
   "metadata": {},
   "outputs": [],
   "source": [
    "ss = StandardScaler()"
   ]
  },
  {
   "cell_type": "code",
   "execution_count": 70,
   "metadata": {},
   "outputs": [],
   "source": [
    "ss.fit(np.array(df_azdi_2));"
   ]
  },
  {
   "cell_type": "code",
   "execution_count": 71,
   "metadata": {},
   "outputs": [],
   "source": [
    "df_azdi_3 = pd.DataFrame(ss.transform(np.array(df_azdi_2.dropna())), columns=df_azdi_2.columns)"
   ]
  },
  {
   "cell_type": "code",
   "execution_count": 72,
   "metadata": {},
   "outputs": [],
   "source": [
    "### Check example variable distribution before and after scaling"
   ]
  },
  {
   "cell_type": "code",
   "execution_count": 120,
   "metadata": {},
   "outputs": [
    {
     "data": {
      "image/png": "[encoded data removed]",
      "text/plain": [
       "<Figure size 720x252 with 2 Axes>"
      ]
     },
     "metadata": {
      "needs_background": "light"
     },
     "output_type": "display_data"
    }
   ],
   "source": [
    "fig = plt.figure(figsize = [10,3.5])\n",
    "gs = gridspec.GridSpec(nrows = 1, ncols = 2)\n",
    "\n",
    "ax1 = plt.subplot(gs[0,0])\n",
    "plt.hist(df_azdi_2[df_azdi_2.columns[0]])\n",
    "plt.title('Check: BEFORE scaling')\n",
    "\n",
    "ax2 = plt.subplot(gs[0,1])\n",
    "plt.hist(df_azdi_3[df_azdi_3.columns[0]])\n",
    "plt.title('Check: AFTER scaling');"
   ]
  },
  {
   "cell_type": "code",
   "execution_count": null,
   "metadata": {},
   "outputs": [],
   "source": []
  },
  {
   "cell_type": "markdown",
   "metadata": {},
   "source": [
    "### Discussion 2.1: Apply Feature Scaling\n",
    "\n",
    "NaNs were mean-encoded prior to standard scaling such that after standardisation, NaNs would take a value of 0. At the same time NaN mean encoding was captured as an additional feature, thus taking number of variables from 195 to 232.\n",
    "\n",
    "The side-by-side plots show x-axis distribution of (randomly selected) variable has shifted to have mean ~0 and sstandard deviation ~1."
   ]
  },
  {
   "cell_type": "markdown",
   "metadata": {},
   "source": [
    "### Step 2.2: Perform Dimensionality Reduction\n",
    "\n",
    "On your scaled data, you are now ready to apply dimensionality reduction techniques.\n",
    "\n",
    "- Use sklearn's [PCA](http://scikit-learn.org/stable/modules/generated/sklearn.decomposition.PCA.html) class to apply principal component analysis on the data, thus finding the vectors of maximal variance in the data. To start, you should not set any parameters (so all components are computed) or set a number of components that is at least half the number of features (so there's enough features to see the general trend in variability).\n",
    "- Check out the ratio of variance explained by each principal component as well as the cumulative variance explained. Try plotting the cumulative or sequential values using matplotlib's [`plot()`](https://matplotlib.org/api/_as_gen/matplotlib.pyplot.plot.html) function. Based on what you find, select a value for the number of transformed features you'll retain for the clustering part of the project.\n",
    "- Once you've made a choice for the number of components to keep, make sure you re-fit a PCA instance to perform the decided-on transformation."
   ]
  },
  {
   "cell_type": "code",
   "execution_count": 75,
   "metadata": {},
   "outputs": [],
   "source": [
    "### Set high number initially\n",
    "n_comp = 50"
   ]
  },
  {
   "cell_type": "code",
   "execution_count": 76,
   "metadata": {},
   "outputs": [],
   "source": [
    "pca = PCA(n_components=n_comp, random_state=1)"
   ]
  },
  {
   "cell_type": "code",
   "execution_count": 77,
   "metadata": {},
   "outputs": [],
   "source": [
    "pca = pca.fit(df_azdi_3)"
   ]
  },
  {
   "cell_type": "code",
   "execution_count": 78,
   "metadata": {},
   "outputs": [],
   "source": [
    "df_exp_var = pd.DataFrame(data = {\n",
    "    'pca_num'            : [i for i in range(0,n_comp)],\n",
    "    'pca_exp_var'        : pca.explained_variance_ratio_,\n",
    "    'pca_exp_var_cumsum' : np.cumsum(pca.explained_variance_ratio_)\n",
    "    })"
   ]
  },
  {
   "cell_type": "code",
   "execution_count": 81,
   "metadata": {},
   "outputs": [
    {
     "name": "stdout",
     "output_type": "stream",
     "text": [
      "50.0% of variance is explained by the first 30.0 principle components.\n"
     ]
    },
    {
     "data": {
      "image/png": "[encoded data removed]",
      "text/plain": [
       "<Figure size 432x288 with 1 Axes>"
      ]
     },
     "metadata": {
      "needs_background": "light"
     },
     "output_type": "display_data"
    }
   ],
   "source": [
    "### Describe selected thrshold\n",
    "cum_sum_thresh  = 0.53\n",
    "pca_thesh_count = df_exp_var[df_exp_var['pca_exp_var_cumsum']>cum_sum_thresh].iloc[0][0]\n",
    "print(str(round(cum_sum_thresh*100,-1))+'% of variance is explained by the first '\\\n",
    "      +str(pca_thesh_count)+' principle components.')\n",
    "\n",
    "### Plot\n",
    "plt.bar(x = df_exp_var.pca_num, height = df_exp_var.pca_exp_var_cumsum)\n",
    "plt.plot([0, 30],[0.53, 0.53] , 'k-', lw=2,color = 'red')\n",
    "plt.plot([30, 30],[0, 0.53] , 'k-', lw=2,color = 'red')\n",
    "plt.xlabel('number of principle components')\n",
    "plt.ylabel('Cumulative variance explained')\n",
    "plt.title('Cumulative variance explained', size = 16);"
   ]
  },
  {
   "cell_type": "code",
   "execution_count": 238,
   "metadata": {},
   "outputs": [],
   "source": [
    "### Create dataframe of n-selected principle components"
   ]
  },
  {
   "cell_type": "code",
   "execution_count": 83,
   "metadata": {},
   "outputs": [
    {
     "name": "stdout",
     "output_type": "stream",
     "text": [
      "CPU times: user 47.5 s, sys: 8.88 s, total: 56.4 s\n",
      "Wall time: 21.1 s\n"
     ]
    }
   ],
   "source": [
    "%%time\n",
    "pca_30 = PCA(n_components=30,random_state=1)\n",
    "pca_30 = pca_30.fit(df_azdi_3)\n",
    "df_demog_30  = pd.DataFrame(pca_30.transform(df_azdi_3),\n",
    "                            columns=['pca_'+str(i).zfill(2) for i in range(0,30)])"
   ]
  },
  {
   "cell_type": "code",
   "execution_count": 84,
   "metadata": {},
   "outputs": [
    {
     "data": {
      "text/plain": [
       "(797837, 30)"
      ]
     },
     "execution_count": 84,
     "metadata": {},
     "output_type": "execute_result"
    }
   ],
   "source": [
    "df_demog_30.shape"
   ]
  },
  {
   "cell_type": "code",
   "execution_count": 85,
   "metadata": {},
   "outputs": [
    {
     "data": {
      "text/html": [
       "<div>\n",
       "<style scoped>\n",
       "    .dataframe tbody tr th:only-of-type {\n",
       "        vertical-align: middle;\n",
       "    }\n",
       "\n",
       "    .dataframe tbody tr th {\n",
       "        vertical-align: top;\n",
       "    }\n",
       "\n",
       "    .dataframe thead th {\n",
       "        text-align: right;\n",
       "    }\n",
       "</style>\n",
       "<table border=\"1\" class=\"dataframe\">\n",
       "  <thead>\n",
       "    <tr style=\"text-align: right;\">\n",
       "      <th></th>\n",
       "      <th>pca_00</th>\n",
       "      <th>pca_01</th>\n",
       "      <th>pca_02</th>\n",
       "      <th>pca_03</th>\n",
       "      <th>pca_04</th>\n",
       "      <th>pca_05</th>\n",
       "      <th>pca_06</th>\n",
       "      <th>pca_07</th>\n",
       "      <th>pca_08</th>\n",
       "      <th>pca_09</th>\n",
       "      <th>...</th>\n",
       "      <th>pca_20</th>\n",
       "      <th>pca_21</th>\n",
       "      <th>pca_22</th>\n",
       "      <th>pca_23</th>\n",
       "      <th>pca_24</th>\n",
       "      <th>pca_25</th>\n",
       "      <th>pca_26</th>\n",
       "      <th>pca_27</th>\n",
       "      <th>pca_28</th>\n",
       "      <th>pca_29</th>\n",
       "    </tr>\n",
       "  </thead>\n",
       "  <tbody>\n",
       "    <tr>\n",
       "      <th>0</th>\n",
       "      <td>-4.071677</td>\n",
       "      <td>2.905881</td>\n",
       "      <td>-2.823007</td>\n",
       "      <td>0.063586</td>\n",
       "      <td>-2.878249</td>\n",
       "      <td>1.589621</td>\n",
       "      <td>-0.597279</td>\n",
       "      <td>0.376604</td>\n",
       "      <td>-0.071572</td>\n",
       "      <td>-0.327573</td>\n",
       "      <td>...</td>\n",
       "      <td>-1.010176</td>\n",
       "      <td>0.060488</td>\n",
       "      <td>-2.597516</td>\n",
       "      <td>2.744260</td>\n",
       "      <td>4.911094</td>\n",
       "      <td>0.926851</td>\n",
       "      <td>2.201081</td>\n",
       "      <td>-1.531462</td>\n",
       "      <td>-0.435694</td>\n",
       "      <td>-0.829605</td>\n",
       "    </tr>\n",
       "    <tr>\n",
       "      <th>1</th>\n",
       "      <td>-0.056826</td>\n",
       "      <td>-0.479243</td>\n",
       "      <td>-0.939499</td>\n",
       "      <td>0.267778</td>\n",
       "      <td>-2.957422</td>\n",
       "      <td>1.233729</td>\n",
       "      <td>-0.787021</td>\n",
       "      <td>0.906338</td>\n",
       "      <td>-3.604698</td>\n",
       "      <td>-0.199392</td>\n",
       "      <td>...</td>\n",
       "      <td>3.390296</td>\n",
       "      <td>0.068760</td>\n",
       "      <td>1.002562</td>\n",
       "      <td>-1.279315</td>\n",
       "      <td>-0.893541</td>\n",
       "      <td>1.312955</td>\n",
       "      <td>-0.248782</td>\n",
       "      <td>1.137257</td>\n",
       "      <td>-0.444835</td>\n",
       "      <td>-0.683037</td>\n",
       "    </tr>\n",
       "    <tr>\n",
       "      <th>2</th>\n",
       "      <td>4.325644</td>\n",
       "      <td>-2.047350</td>\n",
       "      <td>1.115483</td>\n",
       "      <td>5.554663</td>\n",
       "      <td>-0.005725</td>\n",
       "      <td>-3.125440</td>\n",
       "      <td>-1.275146</td>\n",
       "      <td>-1.981934</td>\n",
       "      <td>-1.204555</td>\n",
       "      <td>1.982889</td>\n",
       "      <td>...</td>\n",
       "      <td>-3.415673</td>\n",
       "      <td>-1.134348</td>\n",
       "      <td>-1.850473</td>\n",
       "      <td>-4.375904</td>\n",
       "      <td>-0.487337</td>\n",
       "      <td>1.020868</td>\n",
       "      <td>1.621415</td>\n",
       "      <td>1.954567</td>\n",
       "      <td>-1.366677</td>\n",
       "      <td>0.075916</td>\n",
       "    </tr>\n",
       "    <tr>\n",
       "      <th>3</th>\n",
       "      <td>-0.397175</td>\n",
       "      <td>-1.174319</td>\n",
       "      <td>-0.728425</td>\n",
       "      <td>-1.833125</td>\n",
       "      <td>2.937312</td>\n",
       "      <td>0.842565</td>\n",
       "      <td>2.313685</td>\n",
       "      <td>0.660034</td>\n",
       "      <td>2.382786</td>\n",
       "      <td>-0.668128</td>\n",
       "      <td>...</td>\n",
       "      <td>0.283206</td>\n",
       "      <td>-1.105403</td>\n",
       "      <td>-0.580106</td>\n",
       "      <td>-0.787329</td>\n",
       "      <td>-0.638691</td>\n",
       "      <td>0.826409</td>\n",
       "      <td>-1.525206</td>\n",
       "      <td>1.928075</td>\n",
       "      <td>-0.918221</td>\n",
       "      <td>-1.937094</td>\n",
       "    </tr>\n",
       "    <tr>\n",
       "      <th>4</th>\n",
       "      <td>0.133814</td>\n",
       "      <td>-0.515835</td>\n",
       "      <td>-1.495196</td>\n",
       "      <td>0.278603</td>\n",
       "      <td>-1.303695</td>\n",
       "      <td>-1.451839</td>\n",
       "      <td>-3.536129</td>\n",
       "      <td>0.713659</td>\n",
       "      <td>-0.782467</td>\n",
       "      <td>-1.128402</td>\n",
       "      <td>...</td>\n",
       "      <td>-1.070014</td>\n",
       "      <td>0.828802</td>\n",
       "      <td>-1.134975</td>\n",
       "      <td>1.278549</td>\n",
       "      <td>-0.794555</td>\n",
       "      <td>0.324157</td>\n",
       "      <td>0.136310</td>\n",
       "      <td>1.269487</td>\n",
       "      <td>1.124632</td>\n",
       "      <td>1.387144</td>\n",
       "    </tr>\n",
       "  </tbody>\n",
       "</table>\n",
       "<p>5 rows × 30 columns</p>\n",
       "</div>"
      ],
      "text/plain": [
       "     pca_00    pca_01    pca_02    pca_03    pca_04    pca_05    pca_06  \\\n",
       "0 -4.071677  2.905881 -2.823007  0.063586 -2.878249  1.589621 -0.597279   \n",
       "1 -0.056826 -0.479243 -0.939499  0.267778 -2.957422  1.233729 -0.787021   \n",
       "2  4.325644 -2.047350  1.115483  5.554663 -0.005725 -3.125440 -1.275146   \n",
       "3 -0.397175 -1.174319 -0.728425 -1.833125  2.937312  0.842565  2.313685   \n",
       "4  0.133814 -0.515835 -1.495196  0.278603 -1.303695 -1.451839 -3.536129   \n",
       "\n",
       "     pca_07    pca_08    pca_09  ...    pca_20    pca_21    pca_22    pca_23  \\\n",
       "0  0.376604 -0.071572 -0.327573  ... -1.010176  0.060488 -2.597516  2.744260   \n",
       "1  0.906338 -3.604698 -0.199392  ...  3.390296  0.068760  1.002562 -1.279315   \n",
       "2 -1.981934 -1.204555  1.982889  ... -3.415673 -1.134348 -1.850473 -4.375904   \n",
       "3  0.660034  2.382786 -0.668128  ...  0.283206 -1.105403 -0.580106 -0.787329   \n",
       "4  0.713659 -0.782467 -1.128402  ... -1.070014  0.828802 -1.134975  1.278549   \n",
       "\n",
       "     pca_24    pca_25    pca_26    pca_27    pca_28    pca_29  \n",
       "0  4.911094  0.926851  2.201081 -1.531462 -0.435694 -0.829605  \n",
       "1 -0.893541  1.312955 -0.248782  1.137257 -0.444835 -0.683037  \n",
       "2 -0.487337  1.020868  1.621415  1.954567 -1.366677  0.075916  \n",
       "3 -0.638691  0.826409 -1.525206  1.928075 -0.918221 -1.937094  \n",
       "4 -0.794555  0.324157  0.136310  1.269487  1.124632  1.387144  \n",
       "\n",
       "[5 rows x 30 columns]"
      ]
     },
     "execution_count": 85,
     "metadata": {},
     "output_type": "execute_result"
    }
   ],
   "source": [
    "### Preview the transformed data\n",
    "df_demog_30.head(5)"
   ]
  },
  {
   "cell_type": "code",
   "execution_count": null,
   "metadata": {},
   "outputs": [],
   "source": []
  },
  {
   "cell_type": "markdown",
   "metadata": {},
   "source": [
    "### Discussion 2.2: Perform Dimensionality Reduction\n",
    "\n",
    " - Here we can see that 30 variables are able to explain 53% of total variance.  \n",
    " - Subsequent analysis will focus on using only the first 30 PCAs (e.g. in clustering)."
   ]
  },
  {
   "cell_type": "markdown",
   "metadata": {},
   "source": [
    "### Step 2.3: Interpret Principal Components\n",
    "\n",
    "Now that we have our transformed principal components, it's a nice idea to check out the weight of each variable on the first few components to see if they can be interpreted in some fashion.\n",
    "\n",
    "As a reminder, each principal component is a unit vector that points in the direction of highest variance (after accounting for the variance captured by earlier principal components). The further a weight is from zero, the more the principal component is in the direction of the corresponding feature. If two features have large weights of the same sign (both positive or both negative), then increases in one tend expect to be associated with increases in the other. To contrast, features with different signs can be expected to show a negative correlation: increases in one variable should result in a decrease in the other.\n",
    "\n",
    "- To investigate the features, you should map each weight to their corresponding feature name, then sort the features according to weight. The most interesting features for each principal component, then, will be those at the beginning and end of the sorted list. Use the data dictionary document to help you understand these most prominent features, their relationships, and what a positive or negative value on the principal component might indicate.\n",
    "- You should investigate and interpret feature associations from the first three principal components in this substep. To help facilitate this, you should write a function that you can call at any time to print the sorted list of feature weights, for the *i*-th principal component. This might come in handy in the next step of the project, when you interpret the tendencies of the discovered clusters."
   ]
  },
  {
   "cell_type": "code",
   "execution_count": 86,
   "metadata": {},
   "outputs": [],
   "source": [
    "def print_pca_var_weights(pca_to_use,pca_no,cols):\n",
    "    dp1 = pd.DataFrame(data = pca_to_use.components_,columns=cols)\n",
    "    dp1 = dp1.transpose()\n",
    "    dp1.columns = [\"pca_\"+str(i).zfill(2) for i in dp1.columns]\n",
    "    dp2 = dp1.loc[:,dp1.columns == pca_no].rename(columns = {pca_no:'weight'})\n",
    "    dp2['weight_abs_sort_desc'] = np.abs(dp2['weight'])\n",
    "    dp2 = dp2.sort_values('weight_abs_sort_desc',ascending = False)\\\n",
    "             .reset_index()\\\n",
    "             .rename(columns = {'index':'variable'})\\\n",
    "             .reset_index()\\\n",
    "             .drop('weight_abs_sort_desc',axis = 1)\n",
    "    dp2.insert(1,'var_imp_rank', dp2['index']+1)\n",
    "    dp2 = dp2.iloc[0:10].drop('index',axis = 1)\n",
    "    \n",
    "    \n",
    "    # set columns\n",
    "    index_ = pd.MultiIndex.from_tuples(list([[\"\",\"var_imp_rank\"],[pca_no,'variable'],[pca_no,'weight']]))\n",
    "    dp2 = pd.DataFrame(data = np.array(dp2),columns =index_)\n",
    "    \n",
    "    return dp2"
   ]
  },
  {
   "cell_type": "code",
   "execution_count": 87,
   "metadata": {},
   "outputs": [],
   "source": [
    "### Calculate the pca summaries\n",
    "\n",
    "pca_sum_1 = print_pca_var_weights(pca_to_use = pca_30,pca_no = 'pca_01',cols = df_azdi_3.columns)\n",
    "pca_sum_2 = print_pca_var_weights(pca_to_use = pca_30,pca_no = 'pca_02',cols = df_azdi_3.columns)\n",
    "pca_sum_3 = print_pca_var_weights(pca_to_use = pca_30,pca_no = 'pca_03',cols = df_azdi_3.columns)\n",
    "pca_sum_4 = print_pca_var_weights(pca_to_use = pca_30,pca_no = 'pca_04',cols = df_azdi_3.columns)\n",
    "pca_sum_5 = print_pca_var_weights(pca_to_use = pca_30,pca_no = 'pca_05',cols = df_azdi_3.columns)"
   ]
  },
  {
   "cell_type": "code",
   "execution_count": null,
   "metadata": {},
   "outputs": [],
   "source": [
    "### Print each pca summary one after another"
   ]
  },
  {
   "cell_type": "code",
   "execution_count": 88,
   "metadata": {},
   "outputs": [
    {
     "data": {
      "text/html": [
       "<div>\n",
       "<style scoped>\n",
       "    .dataframe tbody tr th:only-of-type {\n",
       "        vertical-align: middle;\n",
       "    }\n",
       "\n",
       "    .dataframe tbody tr th {\n",
       "        vertical-align: top;\n",
       "    }\n",
       "\n",
       "    .dataframe thead tr th {\n",
       "        text-align: left;\n",
       "    }\n",
       "</style>\n",
       "<table border=\"1\" class=\"dataframe\">\n",
       "  <thead>\n",
       "    <tr>\n",
       "      <th></th>\n",
       "      <th></th>\n",
       "      <th colspan=\"2\" halign=\"left\">pca_01</th>\n",
       "    </tr>\n",
       "    <tr>\n",
       "      <th></th>\n",
       "      <th>var_imp_rank</th>\n",
       "      <th>variable</th>\n",
       "      <th>weight</th>\n",
       "    </tr>\n",
       "  </thead>\n",
       "  <tbody>\n",
       "    <tr>\n",
       "      <th>0</th>\n",
       "      <td>1</td>\n",
       "      <td>PRAEGENDE_JUGENDJAHRE_decade</td>\n",
       "      <td>0.189546</td>\n",
       "    </tr>\n",
       "    <tr>\n",
       "      <th>1</th>\n",
       "      <td>2</td>\n",
       "      <td>FINANZ_SPARER</td>\n",
       "      <td>0.18592</td>\n",
       "    </tr>\n",
       "    <tr>\n",
       "      <th>2</th>\n",
       "      <td>3</td>\n",
       "      <td>FINANZ_UNAUFFAELLIGER</td>\n",
       "      <td>0.185158</td>\n",
       "    </tr>\n",
       "    <tr>\n",
       "      <th>3</th>\n",
       "      <td>4</td>\n",
       "      <td>ALTERSKATEGORIE_GROB</td>\n",
       "      <td>-0.181139</td>\n",
       "    </tr>\n",
       "    <tr>\n",
       "      <th>4</th>\n",
       "      <td>5</td>\n",
       "      <td>FINANZ_VORSORGER</td>\n",
       "      <td>-0.179452</td>\n",
       "    </tr>\n",
       "    <tr>\n",
       "      <th>5</th>\n",
       "      <td>6</td>\n",
       "      <td>MOBI_REGIO_NAN_flag</td>\n",
       "      <td>0.169912</td>\n",
       "    </tr>\n",
       "    <tr>\n",
       "      <th>6</th>\n",
       "      <td>7</td>\n",
       "      <td>KBA05_ANTG1_NAN_flag</td>\n",
       "      <td>0.169912</td>\n",
       "    </tr>\n",
       "    <tr>\n",
       "      <th>7</th>\n",
       "      <td>8</td>\n",
       "      <td>KBA05_GBZ_NAN_flag</td>\n",
       "      <td>0.169912</td>\n",
       "    </tr>\n",
       "    <tr>\n",
       "      <th>8</th>\n",
       "      <td>9</td>\n",
       "      <td>KBA05_ANTG4_NAN_flag</td>\n",
       "      <td>0.169912</td>\n",
       "    </tr>\n",
       "    <tr>\n",
       "      <th>9</th>\n",
       "      <td>10</td>\n",
       "      <td>KBA05_ANTG3_NAN_flag</td>\n",
       "      <td>0.169912</td>\n",
       "    </tr>\n",
       "  </tbody>\n",
       "</table>\n",
       "</div>"
      ],
      "text/plain": [
       "                                      pca_01          \n",
       "  var_imp_rank                      variable    weight\n",
       "0            1  PRAEGENDE_JUGENDJAHRE_decade  0.189546\n",
       "1            2                 FINANZ_SPARER   0.18592\n",
       "2            3         FINANZ_UNAUFFAELLIGER  0.185158\n",
       "3            4          ALTERSKATEGORIE_GROB -0.181139\n",
       "4            5              FINANZ_VORSORGER -0.179452\n",
       "5            6           MOBI_REGIO_NAN_flag  0.169912\n",
       "6            7          KBA05_ANTG1_NAN_flag  0.169912\n",
       "7            8            KBA05_GBZ_NAN_flag  0.169912\n",
       "8            9          KBA05_ANTG4_NAN_flag  0.169912\n",
       "9           10          KBA05_ANTG3_NAN_flag  0.169912"
      ]
     },
     "execution_count": 88,
     "metadata": {},
     "output_type": "execute_result"
    }
   ],
   "source": [
    "pca_sum_1"
   ]
  },
  {
   "cell_type": "code",
   "execution_count": 89,
   "metadata": {},
   "outputs": [
    {
     "data": {
      "text/html": [
       "<div>\n",
       "<style scoped>\n",
       "    .dataframe tbody tr th:only-of-type {\n",
       "        vertical-align: middle;\n",
       "    }\n",
       "\n",
       "    .dataframe tbody tr th {\n",
       "        vertical-align: top;\n",
       "    }\n",
       "\n",
       "    .dataframe thead tr th {\n",
       "        text-align: left;\n",
       "    }\n",
       "</style>\n",
       "<table border=\"1\" class=\"dataframe\">\n",
       "  <thead>\n",
       "    <tr>\n",
       "      <th></th>\n",
       "      <th></th>\n",
       "      <th colspan=\"2\" halign=\"left\">pca_02</th>\n",
       "    </tr>\n",
       "    <tr>\n",
       "      <th></th>\n",
       "      <th>var_imp_rank</th>\n",
       "      <th>variable</th>\n",
       "      <th>weight</th>\n",
       "    </tr>\n",
       "  </thead>\n",
       "  <tbody>\n",
       "    <tr>\n",
       "      <th>0</th>\n",
       "      <td>1</td>\n",
       "      <td>PLZ8_ANTG4_NAN_flag</td>\n",
       "      <td>0.189836</td>\n",
       "    </tr>\n",
       "    <tr>\n",
       "      <th>1</th>\n",
       "      <td>2</td>\n",
       "      <td>PLZ8_GBZ_NAN_flag</td>\n",
       "      <td>0.189836</td>\n",
       "    </tr>\n",
       "    <tr>\n",
       "      <th>2</th>\n",
       "      <td>3</td>\n",
       "      <td>PLZ8_ANTG2_NAN_flag</td>\n",
       "      <td>0.189836</td>\n",
       "    </tr>\n",
       "    <tr>\n",
       "      <th>3</th>\n",
       "      <td>4</td>\n",
       "      <td>PLZ8_ANTG3_NAN_flag</td>\n",
       "      <td>0.189836</td>\n",
       "    </tr>\n",
       "    <tr>\n",
       "      <th>4</th>\n",
       "      <td>5</td>\n",
       "      <td>PLZ8_ANTG1_NAN_flag</td>\n",
       "      <td>0.189836</td>\n",
       "    </tr>\n",
       "    <tr>\n",
       "      <th>5</th>\n",
       "      <td>6</td>\n",
       "      <td>PLZ8_BAUMAX_NAN_flag</td>\n",
       "      <td>0.189836</td>\n",
       "    </tr>\n",
       "    <tr>\n",
       "      <th>6</th>\n",
       "      <td>7</td>\n",
       "      <td>PLZ8_HHZ_NAN_flag</td>\n",
       "      <td>0.189836</td>\n",
       "    </tr>\n",
       "    <tr>\n",
       "      <th>7</th>\n",
       "      <td>8</td>\n",
       "      <td>ALTERSKATEGORIE_GROB</td>\n",
       "      <td>0.164883</td>\n",
       "    </tr>\n",
       "    <tr>\n",
       "      <th>8</th>\n",
       "      <td>9</td>\n",
       "      <td>PRAEGENDE_JUGENDJAHRE_decade</td>\n",
       "      <td>-0.160637</td>\n",
       "    </tr>\n",
       "    <tr>\n",
       "      <th>9</th>\n",
       "      <td>10</td>\n",
       "      <td>SEMIO_REL</td>\n",
       "      <td>-0.157971</td>\n",
       "    </tr>\n",
       "  </tbody>\n",
       "</table>\n",
       "</div>"
      ],
      "text/plain": [
       "                                      pca_02          \n",
       "  var_imp_rank                      variable    weight\n",
       "0            1           PLZ8_ANTG4_NAN_flag  0.189836\n",
       "1            2             PLZ8_GBZ_NAN_flag  0.189836\n",
       "2            3           PLZ8_ANTG2_NAN_flag  0.189836\n",
       "3            4           PLZ8_ANTG3_NAN_flag  0.189836\n",
       "4            5           PLZ8_ANTG1_NAN_flag  0.189836\n",
       "5            6          PLZ8_BAUMAX_NAN_flag  0.189836\n",
       "6            7             PLZ8_HHZ_NAN_flag  0.189836\n",
       "7            8          ALTERSKATEGORIE_GROB  0.164883\n",
       "8            9  PRAEGENDE_JUGENDJAHRE_decade -0.160637\n",
       "9           10                     SEMIO_REL -0.157971"
      ]
     },
     "execution_count": 89,
     "metadata": {},
     "output_type": "execute_result"
    }
   ],
   "source": [
    "pca_sum_2"
   ]
  },
  {
   "cell_type": "code",
   "execution_count": 90,
   "metadata": {},
   "outputs": [
    {
     "data": {
      "text/html": [
       "<div>\n",
       "<style scoped>\n",
       "    .dataframe tbody tr th:only-of-type {\n",
       "        vertical-align: middle;\n",
       "    }\n",
       "\n",
       "    .dataframe tbody tr th {\n",
       "        vertical-align: top;\n",
       "    }\n",
       "\n",
       "    .dataframe thead tr th {\n",
       "        text-align: left;\n",
       "    }\n",
       "</style>\n",
       "<table border=\"1\" class=\"dataframe\">\n",
       "  <thead>\n",
       "    <tr>\n",
       "      <th></th>\n",
       "      <th></th>\n",
       "      <th colspan=\"2\" halign=\"left\">pca_03</th>\n",
       "    </tr>\n",
       "    <tr>\n",
       "      <th></th>\n",
       "      <th>var_imp_rank</th>\n",
       "      <th>variable</th>\n",
       "      <th>weight</th>\n",
       "    </tr>\n",
       "  </thead>\n",
       "  <tbody>\n",
       "    <tr>\n",
       "      <th>0</th>\n",
       "      <td>1</td>\n",
       "      <td>GFK_URLAUBERTYP_nan</td>\n",
       "      <td>0.298115</td>\n",
       "    </tr>\n",
       "    <tr>\n",
       "      <th>1</th>\n",
       "      <td>2</td>\n",
       "      <td>CJT_GESAMTTYP_nan</td>\n",
       "      <td>0.298115</td>\n",
       "    </tr>\n",
       "    <tr>\n",
       "      <th>2</th>\n",
       "      <td>3</td>\n",
       "      <td>RETOURTYP_BK_S_NAN_flag</td>\n",
       "      <td>0.298115</td>\n",
       "    </tr>\n",
       "    <tr>\n",
       "      <th>3</th>\n",
       "      <td>4</td>\n",
       "      <td>LP_STATUS_FEIN_nan</td>\n",
       "      <td>0.298115</td>\n",
       "    </tr>\n",
       "    <tr>\n",
       "      <th>4</th>\n",
       "      <td>5</td>\n",
       "      <td>LP_STATUS_GROB_nan</td>\n",
       "      <td>0.298115</td>\n",
       "    </tr>\n",
       "    <tr>\n",
       "      <th>5</th>\n",
       "      <td>6</td>\n",
       "      <td>ONLINE_AFFINITAET_NAN_flag</td>\n",
       "      <td>0.298115</td>\n",
       "    </tr>\n",
       "    <tr>\n",
       "      <th>6</th>\n",
       "      <td>7</td>\n",
       "      <td>LP_LEBENSPHASE_FEIN_NAN_flag</td>\n",
       "      <td>0.269084</td>\n",
       "    </tr>\n",
       "    <tr>\n",
       "      <th>7</th>\n",
       "      <td>8</td>\n",
       "      <td>LP_LEBENSPHASE_GROB_NAN_flag</td>\n",
       "      <td>0.267462</td>\n",
       "    </tr>\n",
       "    <tr>\n",
       "      <th>8</th>\n",
       "      <td>9</td>\n",
       "      <td>LP_FAMILIE_GROB_nan</td>\n",
       "      <td>0.243692</td>\n",
       "    </tr>\n",
       "    <tr>\n",
       "      <th>9</th>\n",
       "      <td>10</td>\n",
       "      <td>LP_FAMILIE_FEIN_nan</td>\n",
       "      <td>0.243692</td>\n",
       "    </tr>\n",
       "  </tbody>\n",
       "</table>\n",
       "</div>"
      ],
      "text/plain": [
       "                                      pca_03          \n",
       "  var_imp_rank                      variable    weight\n",
       "0            1           GFK_URLAUBERTYP_nan  0.298115\n",
       "1            2             CJT_GESAMTTYP_nan  0.298115\n",
       "2            3       RETOURTYP_BK_S_NAN_flag  0.298115\n",
       "3            4            LP_STATUS_FEIN_nan  0.298115\n",
       "4            5            LP_STATUS_GROB_nan  0.298115\n",
       "5            6    ONLINE_AFFINITAET_NAN_flag  0.298115\n",
       "6            7  LP_LEBENSPHASE_FEIN_NAN_flag  0.269084\n",
       "7            8  LP_LEBENSPHASE_GROB_NAN_flag  0.267462\n",
       "8            9           LP_FAMILIE_GROB_nan  0.243692\n",
       "9           10           LP_FAMILIE_FEIN_nan  0.243692"
      ]
     },
     "execution_count": 90,
     "metadata": {},
     "output_type": "execute_result"
    }
   ],
   "source": [
    "pca_sum_3"
   ]
  },
  {
   "cell_type": "markdown",
   "metadata": {},
   "source": [
    "### Discussion 2.3: Interpret Principal Components\n",
    "\n",
    " - First principle component focuses on age and financial status.  \n",
    " - Second principle component focuses on missingness of the measure of how many families live in single household. \n",
    " - Third principle component focuses on work and social interests.\n"
   ]
  },
  {
   "cell_type": "markdown",
   "metadata": {},
   "source": [
    "## Step 3: Clustering\n",
    "\n",
    "### Step 3.1: Apply Clustering to General Population\n",
    "\n",
    "You've assessed and cleaned the demographics data, then scaled and transformed them. Now, it's time to see how the data clusters in the principal components space. In this substep, you will apply k-means clustering to the dataset and use the average within-cluster distances from each point to their assigned cluster's centroid to decide on a number of clusters to keep.\n",
    "\n",
    "- Use sklearn's [KMeans](http://scikit-learn.org/stable/modules/generated/sklearn.cluster.KMeans.html#sklearn.cluster.KMeans) class to perform k-means clustering on the PCA-transformed data.\n",
    "- Then, compute the average difference from each point to its assigned cluster's center. **Hint**: The KMeans object's `.score()` method might be useful here, but note that in sklearn, scores tend to be defined so that larger is better. Try applying it to a small, toy dataset, or use an internet search to help your understanding.\n",
    "- Perform the above two steps for a number of different cluster counts. You can then see how the average distance decreases with an increasing number of clusters. However, each additional cluster provides a smaller net benefit. Use this fact to select a final number of clusters in which to group the data. **Warning**: because of the large size of the dataset, it can take a long time for the algorithm to resolve. The more clusters to fit, the longer the algorithm will take. You should test for cluster counts through at least 10 clusters to get the full picture, but you shouldn't need to test for a number of clusters above about 30.\n",
    "- Once you've selected a final number of clusters to use, re-fit a KMeans instance to perform the clustering operation. Make sure that you also obtain the cluster assignments for the general demographics data, since you'll be using them in the final Step 3.3."
   ]
  },
  {
   "cell_type": "code",
   "execution_count": 91,
   "metadata": {},
   "outputs": [],
   "source": [
    "### Delete old datasets to save RAM\n",
    "# del az0, az1_outliers, az1_regulars, az2, az3"
   ]
  },
  {
   "cell_type": "code",
   "execution_count": null,
   "metadata": {},
   "outputs": [],
   "source": [
    "### Test number of clusters to use"
   ]
  },
  {
   "cell_type": "code",
   "execution_count": 93,
   "metadata": {},
   "outputs": [],
   "source": [
    "def plot_elbow(data):\n",
    "    verbose = True\n",
    "\n",
    "    k_max = 15\n",
    "    avg_diff = np.zeros(k_max)\n",
    "\n",
    "    for k in range(1, k_max+1):\n",
    "        if verbose: print(\"k = \"+ str(k))\n",
    "\n",
    "        kmeans_ = KMeans(n_clusters = k)\n",
    "        model_  = kmeans_.fit(data)\n",
    "        labels_ = model_.predict(data)\n",
    "\n",
    "        center_array_ = [list(model_.cluster_centers_[labels_[j]]) for j in range(0,len(labels_))] \n",
    "\n",
    "        distances_ = [np.linalg.norm(data[labels_ == j] - np.array(center_array_)[labels_ == j]) for j in range(0,max(labels_)+1)]\n",
    "\n",
    "        avg_dist[k-1] = np.mean(distances_)\n",
    "\n",
    "    fig = plt.figure()\n",
    "    plt.plot(np.array(range(1,k_max+1)), avg_dist, marker = 'x', color = 'r')\n",
    "    plt.xlabel('Number of clusters')\n",
    "    plt.ylabel('Avg. distance to nearest cluster centre')\n",
    "    plt.xticks(ticks=[i for i in range(1,k_max+1)])\n",
    "    plt.title('Finding K: Kmeans Elbow Method');"
   ]
  },
  {
   "cell_type": "code",
   "execution_count": 94,
   "metadata": {},
   "outputs": [
    {
     "name": "stdout",
     "output_type": "stream",
     "text": [
      "k = 1\n",
      "k = 2\n",
      "k = 3\n",
      "k = 4\n",
      "k = 5\n",
      "k = 6\n",
      "k = 7\n",
      "k = 8\n",
      "k = 9\n",
      "k = 10\n",
      "k = 11\n",
      "k = 12\n",
      "k = 13\n",
      "k = 14\n",
      "k = 15\n",
      "CPU times: user 26min 47s, sys: 2min 17s, total: 29min 4s\n",
      "Wall time: 23min 57s\n"
     ]
    },
    {
     "data": {
      "image/png": "[encoded data removed]",
      "text/plain": [
       "<Figure size 432x288 with 1 Axes>"
      ]
     },
     "metadata": {
      "needs_background": "light"
     },
     "output_type": "display_data"
    }
   ],
   "source": [
    "%%time\n",
    "plot_elbow(df_demog_30)"
   ]
  },
  {
   "cell_type": "code",
   "execution_count": null,
   "metadata": {},
   "outputs": [],
   "source": [
    "### Fit chosen number of clusters"
   ]
  },
  {
   "cell_type": "code",
   "execution_count": 96,
   "metadata": {},
   "outputs": [
    {
     "name": "stdout",
     "output_type": "stream",
     "text": [
      "CPU times: user 53.5 s, sys: 4.71 s, total: 58.2 s\n",
      "Wall time: 48.3 s\n"
     ]
    }
   ],
   "source": [
    "%%time\n",
    "kmeans_ = KMeans(n_clusters = 5)\n",
    "model_  = kmeans_.fit(df_demog_30)\n",
    "labels_popula = model_.predict(df_demog_30)"
   ]
  },
  {
   "cell_type": "markdown",
   "metadata": {},
   "source": [
    "### Discussion 3.1: Apply Clustering to General Population\n",
    "\n",
    " - Plot shows in terms of average distance to cluster centres, we can see 'elbow' kink at k = 5 (whilst also another smaller kink at k = 3).\n",
    " - We select k = 5 although other methods could be used to further validate choice (such as silouhete method)"
   ]
  },
  {
   "cell_type": "markdown",
   "metadata": {},
   "source": [
    "### Step 3.2: Apply All Steps to the Customer Data\n",
    "\n",
    "Now that you have clusters and cluster centers for the general population, it's time to see how the customer data maps on to those clusters. Take care to not confuse this for re-fitting all of the models to the customer data. Instead, you're going to use the fits from the general population to clean, transform, and cluster the customer data. In the last step of the project, you will interpret how the general population fits apply to the customer data.\n",
    "\n",
    "- Don't forget when loading in the customers data, that it is semicolon (`;`) delimited.\n",
    "- Apply the same feature wrangling, selection, and engineering steps to the customer demographics using the `clean_data()` function you created earlier. (You can assume that the customer demographics data has similar meaning behind missing data patterns as the general demographics data.)\n",
    "- Use the sklearn objects from the general demographics data, and apply their transformations to the customers data. That is, you should not be using a `.fit()` or `.fit_transform()` method to re-fit the old objects, nor should you be creating new sklearn objects! Carry the data through the feature scaling, PCA, and clustering steps, obtaining cluster assignments for all of the data in the customer demographics data."
   ]
  },
  {
   "cell_type": "code",
   "execution_count": 97,
   "metadata": {},
   "outputs": [],
   "source": [
    "### Load in customer data\n",
    "custom = pd.read_csv(dir + 'Udacity_CUSTOMERS_Subset.csv',delimiter = ';')"
   ]
  },
  {
   "cell_type": "code",
   "execution_count": 99,
   "metadata": {
    "scrolled": true
   },
   "outputs": [
    {
     "name": "stdout",
     "output_type": "stream",
     "text": [
      "Step1: Encoding missing values as NaN\n",
      "Step2: Removing rows when more than 30% of their values are NaN\n",
      "Step3: Summarising treatment of categoric variables that is needed\n",
      "Step4: Re-encoding categoric variables\n",
      "Step5: Engineering mixed-type variables\n",
      "CPU times: user 2.84 s, sys: 1.02 s, total: 3.86 s\n",
      "Wall time: 3.86 s\n"
     ]
    }
   ],
   "source": [
    "%%time \n",
    "### Clean the customer data\n",
    "df_cust_1 = clean_data(df_input = custom)"
   ]
  },
  {
   "cell_type": "code",
   "execution_count": 101,
   "metadata": {},
   "outputs": [
    {
     "name": "stdout",
     "output_type": "stream",
     "text": [
      "Number of columns before: 194\n",
      "Number of columns after:  230\n",
      "CPU times: user 27.8 s, sys: 23 s, total: 50.8 s\n",
      "Wall time: 51.1 s\n"
     ]
    }
   ],
   "source": [
    "%%time\n",
    "### Impute NaNs and record imputation as new features\n",
    "df_cust_2 = nan_flagging_and_mean_encoding(df_cust_1)"
   ]
  },
  {
   "cell_type": "code",
   "execution_count": null,
   "metadata": {},
   "outputs": [],
   "source": [
    "### Add features and reorder/drop columns to exactly match demographics dataframe"
   ]
  },
  {
   "cell_type": "code",
   "execution_count": 102,
   "metadata": {},
   "outputs": [],
   "source": [
    "dummy_cols = [col for col in df_azdi_3.columns if col not in df_cust_2.columns]\n",
    "for i in dummy_cols:\n",
    "    df_cust_2[dummy_cols] = 0\n",
    "df_cust_2 = df_cust_2[df_azdi_3.columns]"
   ]
  },
  {
   "cell_type": "code",
   "execution_count": 103,
   "metadata": {},
   "outputs": [
    {
     "name": "stdout",
     "output_type": "stream",
     "text": [
      "CPU times: user 564 ms, sys: 372 ms, total: 936 ms\n",
      "Wall time: 935 ms\n"
     ]
    }
   ],
   "source": [
    "%%time\n",
    "### Standardise\n",
    "df_cust_3 = pd.DataFrame(ss.transform(np.array(df_cust_2.dropna())), columns=df_cust_2.columns)"
   ]
  },
  {
   "cell_type": "code",
   "execution_count": 105,
   "metadata": {},
   "outputs": [
    {
     "name": "stdout",
     "output_type": "stream",
     "text": [
      "CPU times: user 597 ms, sys: 114 ms, total: 711 ms\n",
      "Wall time: 311 ms\n"
     ]
    }
   ],
   "source": [
    "%%time\n",
    "df_custo_30 = pd.DataFrame(pca_30.transform(df_cust_3),\n",
    "                           columns=['pca_'+str(i).zfill(2) for i in range(0,30)])"
   ]
  },
  {
   "cell_type": "code",
   "execution_count": 106,
   "metadata": {},
   "outputs": [
    {
     "data": {
      "text/plain": [
       "(141690, 30)"
      ]
     },
     "execution_count": 106,
     "metadata": {},
     "output_type": "execute_result"
    }
   ],
   "source": [
    "### Check shape before predicting cluster labels on customer data.\n",
    "df_custo_30.shape"
   ]
  },
  {
   "cell_type": "code",
   "execution_count": 107,
   "metadata": {},
   "outputs": [
    {
     "name": "stdout",
     "output_type": "stream",
     "text": [
      "CPU times: user 121 ms, sys: 38.3 ms, total: 159 ms\n",
      "Wall time: 51 ms\n"
     ]
    }
   ],
   "source": [
    "%%time\n",
    "labels_custom = model_.predict(df_custo_30)"
   ]
  },
  {
   "cell_type": "markdown",
   "metadata": {},
   "source": [
    "### Step 3.3: Compare Customer Data to Demographics Data\n",
    "\n",
    "At this point, you have clustered data based on demographics of the general population of Germany, and seen how the customer data for a mail-order sales company maps onto those demographic clusters. In this final substep, you will compare the two cluster distributions to see where the strongest customer base for the company is.\n",
    "\n",
    "Consider the proportion of persons in each cluster for the general population, and the proportions for the customers. If we think the company's customer base to be universal, then the cluster assignment proportions should be fairly similar between the two. If there are only particular segments of the population that are interested in the company's products, then we should see a mismatch from one to the other. If there is a higher proportion of persons in a cluster for the customer data compared to the general population (e.g. 5% of persons are assigned to a cluster for the general population, but 15% of the customer data is closest to that cluster's centroid) then that suggests the people in that cluster to be a target audience for the company. On the other hand, the proportion of the data in a cluster being larger in the general population than the customer data (e.g. only 2% of customers closest to a population centroid that captures 6% of the data) suggests that group of persons to be outside of the target demographics.\n",
    "\n",
    "Take a look at the following points in this step:\n",
    "\n",
    "- Compute the proportion of data points in each cluster for the general population and the customer data. Visualizations will be useful here: both for the individual dataset proportions, but also to visualize the ratios in cluster representation between groups. Seaborn's [`countplot()`](https://seaborn.pydata.org/generated/seaborn.countplot.html) or [`barplot()`](https://seaborn.pydata.org/generated/seaborn.barplot.html) function could be handy.\n",
    "  - Recall the analysis you performed in step 1.1.3 of the project, where you separated out certain data points from the dataset if they had more than a specified threshold of missing values. If you found that this group was qualitatively different from the main bulk of the data, you should treat this as an additional data cluster in this analysis. Make sure that you account for the number of data points in this subset, for both the general population and customer datasets, when making your computations!\n",
    "- Which cluster or clusters are overrepresented in the customer dataset compared to the general population? Select at least one such cluster and infer what kind of people might be represented by that cluster. Use the principal component interpretations from step 2.3 or look at additional components to help you make this inference. Alternatively, you can use the `.inverse_transform()` method of the PCA and StandardScaler objects to transform centroids back to the original data space and interpret the retrieved values directly.\n",
    "- Perform a similar investigation for the underrepresented clusters. Which cluster or clusters are underrepresented in the customer dataset compared to the general population, and what kinds of people are typified by these clusters?"
   ]
  },
  {
   "cell_type": "code",
   "execution_count": 108,
   "metadata": {},
   "outputs": [],
   "source": [
    "### Calculate number of excluded records (adjusting for sampling used)\n",
    "excluded_demog = len(azdias)-len(df_demog_30)\n",
    "excluded_custo = len(custom)-len(df_custo_30)"
   ]
  },
  {
   "cell_type": "code",
   "execution_count": 109,
   "metadata": {},
   "outputs": [],
   "source": [
    "### Summarise customers by cluster in each of the datasets\n",
    "df_clus_demog = pd.concat([pd.DataFrame(data = {'labels_popula':labels_popula}).groupby(labels_popula).count()\\\n",
    "                            .reset_index().rename(columns={'index':'cluster'}),\n",
    "                           pd.DataFrame(data = {'cluster'      :'excluded',\n",
    "                                                'labels_popula':excluded_demog},\n",
    "                                        index = [7])],\n",
    "                           axis = 0)\n",
    "\n",
    "df_clus_custo = pd.concat([pd.DataFrame(data = {'labels_custom':labels_custom}).groupby(labels_custom).count()\\\n",
    "                            .reset_index().rename(columns={'index':'cluster'}),\n",
    "                           pd.DataFrame(data = {'cluster'      :'excluded',\n",
    "                                                'labels_custom':excluded_custo},\n",
    "                                        index = [7])],\n",
    "                           axis = 0)"
   ]
  },
  {
   "cell_type": "code",
   "execution_count": 110,
   "metadata": {},
   "outputs": [],
   "source": [
    "### Combine customers and demographic populations together, and add features.\n",
    "df_clus = pd.merge(df_clus_demog,df_clus_custo,how='left',on='cluster')\n",
    "df_clus['labels_popula_perc' ] = df_clus['labels_popula'] / sum(df_clus['labels_popula'])\n",
    "df_clus['labels_custom_perc' ] = df_clus['labels_custom'] / sum(df_clus['labels_custom'])\n",
    "df_clus['custom_popula_ratio'] = df_clus['labels_custom_perc' ] / df_clus['labels_popula_perc' ] -1"
   ]
  },
  {
   "cell_type": "code",
   "execution_count": 111,
   "metadata": {},
   "outputs": [
    {
     "data": {
      "text/html": [
       "<div>\n",
       "<style scoped>\n",
       "    .dataframe tbody tr th:only-of-type {\n",
       "        vertical-align: middle;\n",
       "    }\n",
       "\n",
       "    .dataframe tbody tr th {\n",
       "        vertical-align: top;\n",
       "    }\n",
       "\n",
       "    .dataframe thead th {\n",
       "        text-align: right;\n",
       "    }\n",
       "</style>\n",
       "<table border=\"1\" class=\"dataframe\">\n",
       "  <thead>\n",
       "    <tr style=\"text-align: right;\">\n",
       "      <th></th>\n",
       "      <th>cluster</th>\n",
       "      <th>labels_popula</th>\n",
       "      <th>labels_custom</th>\n",
       "      <th>labels_popula_perc</th>\n",
       "      <th>labels_custom_perc</th>\n",
       "      <th>custom_popula_ratio</th>\n",
       "    </tr>\n",
       "  </thead>\n",
       "  <tbody>\n",
       "    <tr>\n",
       "      <th>0</th>\n",
       "      <td>0</td>\n",
       "      <td>302782</td>\n",
       "      <td>92934</td>\n",
       "      <td>0.339738</td>\n",
       "      <td>0.484910</td>\n",
       "      <td>0.427304</td>\n",
       "    </tr>\n",
       "    <tr>\n",
       "      <th>1</th>\n",
       "      <td>1</td>\n",
       "      <td>219581</td>\n",
       "      <td>3506</td>\n",
       "      <td>0.246382</td>\n",
       "      <td>0.018294</td>\n",
       "      <td>-0.925751</td>\n",
       "    </tr>\n",
       "    <tr>\n",
       "      <th>2</th>\n",
       "      <td>2</td>\n",
       "      <td>48962</td>\n",
       "      <td>6832</td>\n",
       "      <td>0.054938</td>\n",
       "      <td>0.035648</td>\n",
       "      <td>-0.351125</td>\n",
       "    </tr>\n",
       "    <tr>\n",
       "      <th>3</th>\n",
       "      <td>3</td>\n",
       "      <td>4666</td>\n",
       "      <td>3107</td>\n",
       "      <td>0.005236</td>\n",
       "      <td>0.016212</td>\n",
       "      <td>2.096482</td>\n",
       "    </tr>\n",
       "    <tr>\n",
       "      <th>4</th>\n",
       "      <td>4</td>\n",
       "      <td>221846</td>\n",
       "      <td>35311</td>\n",
       "      <td>0.248924</td>\n",
       "      <td>0.184245</td>\n",
       "      <td>-0.259832</td>\n",
       "    </tr>\n",
       "    <tr>\n",
       "      <th>5</th>\n",
       "      <td>excluded</td>\n",
       "      <td>93384</td>\n",
       "      <td>49962</td>\n",
       "      <td>0.104782</td>\n",
       "      <td>0.260691</td>\n",
       "      <td>1.487937</td>\n",
       "    </tr>\n",
       "  </tbody>\n",
       "</table>\n",
       "</div>"
      ],
      "text/plain": [
       "    cluster  labels_popula  labels_custom  labels_popula_perc  \\\n",
       "0         0         302782          92934            0.339738   \n",
       "1         1         219581           3506            0.246382   \n",
       "2         2          48962           6832            0.054938   \n",
       "3         3           4666           3107            0.005236   \n",
       "4         4         221846          35311            0.248924   \n",
       "5  excluded          93384          49962            0.104782   \n",
       "\n",
       "   labels_custom_perc  custom_popula_ratio  \n",
       "0            0.484910             0.427304  \n",
       "1            0.018294            -0.925751  \n",
       "2            0.035648            -0.351125  \n",
       "3            0.016212             2.096482  \n",
       "4            0.184245            -0.259832  \n",
       "5            0.260691             1.487937  "
      ]
     },
     "execution_count": 111,
     "metadata": {},
     "output_type": "execute_result"
    }
   ],
   "source": [
    "df_clus"
   ]
  },
  {
   "cell_type": "code",
   "execution_count": 112,
   "metadata": {},
   "outputs": [
    {
     "data": {
      "image/png": "[encoded data removed]",
      "text/plain": [
       "<Figure size 1080x360 with 2 Axes>"
      ]
     },
     "metadata": {
      "needs_background": "light"
     },
     "output_type": "display_data"
    }
   ],
   "source": [
    "fig = plt.figure(figsize=(15,5))\n",
    "gs = gridspec.GridSpec(1,2)\n",
    "fig.suptitle('Customers vs Population',size = 18)\n",
    "\n",
    "### Plot 1\n",
    "ax1 = plt.subplot(gs[0,0])\n",
    "ax1.bar(df_clus.index-0.15, df_clus['labels_popula_perc'], color = 'b', width = 0.3, label = 'Population')\n",
    "ax1.bar(df_clus.index+0.15, df_clus['labels_custom_perc'], color = 'r', width = 0.3, label = 'Customers')\n",
    "ax1.set_xticks(df_clus.index)\n",
    "ax1.set_xticklabels(df_clus['cluster'].astype('str'))\n",
    "plt.xlabel('cluster label');\n",
    "plt.ylabel('Percentage of total');\n",
    "plt.legend()\n",
    "plt.title('Proportion of people in each cluster')\n",
    "\n",
    "### Plot 2\n",
    "ax2 = plt.subplot(gs[0,1])\n",
    "ax2.bar(df_clus['cluster'].astype('str'), df_clus['custom_popula_ratio'], color = 'g', width = 0.25, label = 'Customers / Population Ratio')\n",
    "plt.plot([-0.5, 5.5],[0, 0] , 'k-', lw=1,color = 'grey')\n",
    "plt.xlabel('cluster label');\n",
    "plt.ylabel('Percentage difference');\n",
    "plt.legend();\n",
    "plt.title('Percentage difference: Customers vs Population');"
   ]
  },
  {
   "cell_type": "markdown",
   "metadata": {},
   "source": [
    "**Here we observe:**    \n",
    " - Cluster label 0 is over-represented in the customer population.  \n",
    " - Cluster label 1 is under-represented in the customer population.  \n",
    " - Cluster lable 3 is also over-represented, however volume of population & customers may be sensitive (i.e. not statistically significant."
   ]
  },
  {
   "cell_type": "code",
   "execution_count": 261,
   "metadata": {},
   "outputs": [
    {
     "data": {
      "text/plain": [
       "(5, 30)"
      ]
     },
     "execution_count": 261,
     "metadata": {},
     "output_type": "execute_result"
    }
   ],
   "source": [
    "model_.cluster_centers_.shape"
   ]
  },
  {
   "cell_type": "code",
   "execution_count": 113,
   "metadata": {},
   "outputs": [],
   "source": [
    "clus_weights_c0 = model_.cluster_centers_[0,:]\n",
    "clus_weights_c1 = model_.cluster_centers_[1,:]"
   ]
  },
  {
   "cell_type": "code",
   "execution_count": 115,
   "metadata": {},
   "outputs": [],
   "source": [
    "dv_interested = pd.DataFrame(data = \n",
    "                    {'var'                 : df_azdi_3.columns,\n",
    "                     'value_interested_raw': ss.inverse_transform(pca_30.inverse_transform(clus_weights_c0)),\n",
    "                     'value_interested_std':                      pca_30.inverse_transform(clus_weights_c0)})\n",
    "dv_nointerest = pd.DataFrame(data = \n",
    "                    {'var'                 : df_azdi_3.columns,\n",
    "                     'value_nointerest_raw': ss.inverse_transform(pca_30.inverse_transform(clus_weights_c1)),\n",
    "                     'value_nointerest_std':                      pca_30.inverse_transform(clus_weights_c1)})\n",
    "dv_both       = pd.merge(dv_interested,dv_nointerest,how='left',on='var')"
   ]
  },
  {
   "cell_type": "code",
   "execution_count": 116,
   "metadata": {},
   "outputs": [],
   "source": [
    "dv_both_interested = pd.concat([dv_both.sort_values('value_interested_std').head(5),\n",
    "                                dv_both.sort_values('value_interested_std').tail(5)],axis = 0).reset_index()\n",
    "dv_both_nointerest = pd.concat([dv_both.sort_values('value_nointerest_std').head(5),\n",
    "                                dv_both.sort_values('value_nointerest_std').tail(5)],axis = 0).reset_index()\n",
    "                                "
   ]
  },
  {
   "cell_type": "code",
   "execution_count": 119,
   "metadata": {},
   "outputs": [
    {
     "data": {
      "image/png": "[encoded data removed]",
      "text/plain": [
       "<Figure size 1080x360 with 1 Axes>"
      ]
     },
     "metadata": {
      "needs_background": "light"
     },
     "output_type": "display_data"
    }
   ],
   "source": [
    "fig = plt.figure(figsize=(15,5))\n",
    "gs = gridspec.GridSpec(1,2)\n",
    "# fig.suptitle('Customers vs Population',size = 18)\n",
    "\n",
    "### Plot 1\n",
    "ax1 = plt.subplot(gs[0,0])\n",
    "ax1.barh(dv_both_interested.index+0.15, dv_both_interested['value_interested_std'], color = 'g', height = 0.3, label = 'Cluster 4:  Over-represented')\n",
    "ax1.barh(dv_both_interested.index-0.15, dv_both_interested['value_nointerest_std'], color = 'r', height = 0.3, label = 'Cluster 3: Under-represented')\n",
    "ax1.set_yticks(dv_both_interested.index)\n",
    "ax1.set_yticklabels(dv_both_interested['var'])\n",
    "plt.xlabel('Standardised value');\n",
    "plt.legend()\n",
    "plt.title('Variables significant to INTERESTED group (Cluster 0)',size = 14);\n",
    "\n",
    "### Plot 2\n",
    "# ax2 = plt.subplot(gs[0,1])\n",
    "# ax2.barh(dv_both_nointerest.index+0.15, dv_both_nointerest['value_interested_std'], color = 'g', height = 0.3, label = 'Cluster 4:  Over-represented')\n",
    "# ax2.barh(dv_both_nointerest.index-0.15, dv_both_nointerest['value_nointerest_std'], color = 'r', height = 0.3, label = 'Cluster 3: Under-represented')\n",
    "# ax2.set_yticks(dv_both_nointerest.index)\n",
    "# ax2.set_yticklabels(dv_both_nointerest['var'])\n",
    "# plt.xlabel('Standardised value');\n",
    "# plt.legend()\n",
    "# plt.title('Variables significant to INTERESTED group (Cluster 3)');"
   ]
  },
  {
   "cell_type": "code",
   "execution_count": 118,
   "metadata": {},
   "outputs": [
    {
     "data": {
      "text/html": [
       "<div>\n",
       "<style scoped>\n",
       "    .dataframe tbody tr th:only-of-type {\n",
       "        vertical-align: middle;\n",
       "    }\n",
       "\n",
       "    .dataframe tbody tr th {\n",
       "        vertical-align: top;\n",
       "    }\n",
       "\n",
       "    .dataframe thead th {\n",
       "        text-align: right;\n",
       "    }\n",
       "</style>\n",
       "<table border=\"1\" class=\"dataframe\">\n",
       "  <thead>\n",
       "    <tr style=\"text-align: right;\">\n",
       "      <th></th>\n",
       "      <th>var</th>\n",
       "      <th>value_interested_std</th>\n",
       "      <th>value_nointerest_std</th>\n",
       "      <th>value_interested_raw</th>\n",
       "      <th>value_nointerest_raw</th>\n",
       "    </tr>\n",
       "  </thead>\n",
       "  <tbody>\n",
       "    <tr>\n",
       "      <th>0</th>\n",
       "      <td>PLZ8_ANTG3</td>\n",
       "      <td>-0.757929</td>\n",
       "      <td>0.433845</td>\n",
       "      <td>0.858475</td>\n",
       "      <td>2.017267</td>\n",
       "    </tr>\n",
       "    <tr>\n",
       "      <th>1</th>\n",
       "      <td>CAMEO_INTL_2015_Wealth</td>\n",
       "      <td>-0.751765</td>\n",
       "      <td>0.474230</td>\n",
       "      <td>2.165455</td>\n",
       "      <td>3.954082</td>\n",
       "    </tr>\n",
       "    <tr>\n",
       "      <th>2</th>\n",
       "      <td>HH_EINKOMMEN_SCORE</td>\n",
       "      <td>-0.723769</td>\n",
       "      <td>0.568326</td>\n",
       "      <td>3.295558</td>\n",
       "      <td>5.292059</td>\n",
       "    </tr>\n",
       "    <tr>\n",
       "      <th>3</th>\n",
       "      <td>PLZ8_ANTG4</td>\n",
       "      <td>-0.693972</td>\n",
       "      <td>0.399196</td>\n",
       "      <td>0.201923</td>\n",
       "      <td>0.985198</td>\n",
       "    </tr>\n",
       "    <tr>\n",
       "      <th>4</th>\n",
       "      <td>PLZ8_BAUMAX</td>\n",
       "      <td>-0.661365</td>\n",
       "      <td>0.375266</td>\n",
       "      <td>0.992648</td>\n",
       "      <td>2.483673</td>\n",
       "    </tr>\n",
       "    <tr>\n",
       "      <th>5</th>\n",
       "      <td>FINANZ_MINIMALIST</td>\n",
       "      <td>0.747446</td>\n",
       "      <td>-1.035198</td>\n",
       "      <td>4.088509</td>\n",
       "      <td>1.632817</td>\n",
       "    </tr>\n",
       "    <tr>\n",
       "      <th>6</th>\n",
       "      <td>PLZ8_ANTG1</td>\n",
       "      <td>0.753275</td>\n",
       "      <td>-0.418739</td>\n",
       "      <td>2.974825</td>\n",
       "      <td>1.852255</td>\n",
       "    </tr>\n",
       "    <tr>\n",
       "      <th>7</th>\n",
       "      <td>KBA05_GBZ</td>\n",
       "      <td>0.767166</td>\n",
       "      <td>-0.430139</td>\n",
       "      <td>4.152697</td>\n",
       "      <td>2.601193</td>\n",
       "    </tr>\n",
       "    <tr>\n",
       "      <th>8</th>\n",
       "      <td>KBA05_ANTG1</td>\n",
       "      <td>0.833900</td>\n",
       "      <td>-0.477709</td>\n",
       "      <td>2.635358</td>\n",
       "      <td>0.840595</td>\n",
       "    </tr>\n",
       "    <tr>\n",
       "      <th>9</th>\n",
       "      <td>MOBI_REGIO</td>\n",
       "      <td>0.867800</td>\n",
       "      <td>-0.503415</td>\n",
       "      <td>4.172087</td>\n",
       "      <td>2.262455</td>\n",
       "    </tr>\n",
       "  </tbody>\n",
       "</table>\n",
       "</div>"
      ],
      "text/plain": [
       "                      var  value_interested_std  value_nointerest_std  \\\n",
       "0              PLZ8_ANTG3             -0.757929              0.433845   \n",
       "1  CAMEO_INTL_2015_Wealth             -0.751765              0.474230   \n",
       "2      HH_EINKOMMEN_SCORE             -0.723769              0.568326   \n",
       "3              PLZ8_ANTG4             -0.693972              0.399196   \n",
       "4             PLZ8_BAUMAX             -0.661365              0.375266   \n",
       "5       FINANZ_MINIMALIST              0.747446             -1.035198   \n",
       "6              PLZ8_ANTG1              0.753275             -0.418739   \n",
       "7               KBA05_GBZ              0.767166             -0.430139   \n",
       "8             KBA05_ANTG1              0.833900             -0.477709   \n",
       "9              MOBI_REGIO              0.867800             -0.503415   \n",
       "\n",
       "   value_interested_raw  value_nointerest_raw  \n",
       "0              0.858475              2.017267  \n",
       "1              2.165455              3.954082  \n",
       "2              3.295558              5.292059  \n",
       "3              0.201923              0.985198  \n",
       "4              0.992648              2.483673  \n",
       "5              4.088509              1.632817  \n",
       "6              2.974825              1.852255  \n",
       "7              4.152697              2.601193  \n",
       "8              2.635358              0.840595  \n",
       "9              4.172087              2.262455  "
      ]
     },
     "execution_count": 118,
     "metadata": {},
     "output_type": "execute_result"
    }
   ],
   "source": [
    "dv_both_interested[['var','value_interested_std','value_nointerest_std','value_interested_raw','value_nointerest_raw']]"
   ]
  },
  {
   "cell_type": "markdown",
   "metadata": {},
   "source": [
    "### Discussion 3.3: Compare Customer Data to Demographics Data\n",
    "\n",
    "Analysing variables important to **over-represented** customer cluster (**cluster 0****):  \n",
    " -   MOBI_REGIO has the heighest significance (deviation from mean), the over-represented cluster centre signifies customers have 'lower movement' than aveage and the under-represented cluster.  \n",
    " -   KBA05_ANTG1 has 2nd heighest significance (deviation from mean), the over-represented cluster centre has fewer families per household than average and the under-represented cluster.  \n",
    "     - PLZ8_ANTG3 result denotes similarly (so not discussed again).\n",
    " -   CAMEO_INTL_2015_Wealth indicates the over-represented cluster centre is younger and wealthier than average and the under-represented cluster. The typical famaily is 'Wealthy Households - Young Couples With Children'.  \n",
    " -   HH_EINKOMMEN_SCORE indicates the over-represented cluster centre has higher household net income than average or the under-represented cluster.  \n",
    " \n",
    "The **under-represented** customer cluster (**cluster 1**) is oppositely ranked in all the above metrics, so qualatitively we expect under-represented cluster to resemble:\n",
    " - low income\n",
    " - High number of families in a single households\n",
    " - 'higher movement'"
   ]
  },
  {
   "cell_type": "markdown",
   "metadata": {},
   "source": [
    "> Congratulations on making it this far in the project! Before you finish, make sure to check through the entire notebook from top to bottom to make sure that your analysis follows a logical flow and all of your findings are documented in **Discussion** cells. Once you've checked over all of your work, you should export the notebook as an HTML document to submit for evaluation. You can do this from the menu, navigating to **File -> Download as -> HTML (.html)**. You will submit both that document and this notebook for your project submission."
   ]
  },
  {
   "cell_type": "code",
   "execution_count": null,
   "metadata": {},
   "outputs": [],
   "source": []
  }
 ],
 "metadata": {
  "kernelspec": {
   "display_name": "Python 3",
   "language": "python",
   "name": "python3"
  },
  "language_info": {
   "codemirror_mode": {
    "name": "ipython",
    "version": 3
   },
   "file_extension": ".py",
   "mimetype": "text/x-python",
   "name": "python",
   "nbconvert_exporter": "python",
   "pygments_lexer": "ipython3",
   "version": "3.7.6"
  },
  "varInspector": {
   "cols": {
    "lenName": 16,
    "lenType": 16,
    "lenVar": 40
   },
   "kernels_config": {
    "python": {
     "delete_cmd_postfix": "",
     "delete_cmd_prefix": "del ",
     "library": "var_list.py",
     "varRefreshCmd": "print(var_dic_list())"
    },
    "r": {
     "delete_cmd_postfix": ") ",
     "delete_cmd_prefix": "rm(",
     "library": "var_list.r",
     "varRefreshCmd": "cat(var_dic_list()) "
    }
   },
   "position": {
    "height": "545px",
    "left": "1342px",
    "right": "20px",
    "top": "76px",
    "width": "363px"
   },
   "types_to_exclude": [
    "module",
    "function",
    "builtin_function_or_method",
    "instance",
    "_Feature"
   ],
   "window_display": true
  }
 },
 "nbformat": 4,
 "nbformat_minor": 2
}
