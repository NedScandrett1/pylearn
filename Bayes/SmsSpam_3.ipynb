{
 "cells": [
  {
   "cell_type": "markdown",
   "metadata": {},
   "source": [
    "## GOAL & OVERVIEW"
   ]
  },
  {
   "cell_type": "markdown",
   "metadata": {},
   "source": [
    " - Text message spam detection filter: \n",
    "   - Predict **which messages are spam** (not \"ham\"!)\n",
    " - Example has corollaries with general insurance\n",
    " - Naive Bayes is easy to fit and has fast convergence with wide/short datasets!"
   ]
  },
  {
   "cell_type": "markdown",
   "metadata": {},
   "source": [
    "## Intro on Naive Bayes Assumption"
   ]
  },
  {
   "cell_type": "markdown",
   "metadata": {},
   "source": [
    "Regular **Bayes** Theorem:"
   ]
  },
  {
   "cell_type": "markdown",
   "metadata": {},
   "source": [
    "\\begin{align}\n",
    "P(B|\\underline{A}) &= \\frac{P(\\underline{A} \\cap B)}{P(\\underline{A})} \\\\\n",
    "&= \\frac{P(\\underline{A}|B)P(B)}{P(\\underline{A})} \\\\\n",
    "&= \\frac{P(A_1,A_2..A_n|B)P(B)}{P(\\underline{A})} \\\\\n",
    "&\\propto P(A_1,A_2..A_n|B)\n",
    "\\end{align}"
   ]
  },
  {
   "cell_type": "markdown",
   "metadata": {},
   "source": [
    "#### Will I swim today?  "
   ]
  },
  {
   "cell_type": "markdown",
   "metadata": {},
   "source": [
    "Set: $B = Swim$ and $\\underline{A} = WeatherConditions$"
   ]
  },
  {
   "cell_type": "markdown",
   "metadata": {},
   "source": [
    "**Naive Bayes** Assumption of Independence:"
   ]
  },
  {
   "cell_type": "markdown",
   "metadata": {},
   "source": [
    "\\begin{align}\n",
    "P(Swim|WeatherCond) &\\propto P(WeatherCond|Swim) \\\\\n",
    "&= P(Sunny,LightSwell,NoSharkSightings|Swim) \\\\\n",
    "\\textbf{naive assumption:} &=P(Sunny|Swim)P(LightSwell|Swim)P(NoSharkSightings|Swim)\n",
    "\\end{align}"
   ]
  },
  {
   "cell_type": "markdown",
   "metadata": {},
   "source": [
    "Each of these probabilities can be easily calculated.. e.g. $P(Sunny|Swim)$ is 99.99% !!"
   ]
  },
  {
   "cell_type": "markdown",
   "metadata": {},
   "source": [
    "## About the data"
   ]
  },
  {
   "cell_type": "markdown",
   "metadata": {},
   "source": [
    "#### Data source:\n",
    "Compilation of text messages from various sources, including Singaporeans mostly students attending the University  \n",
    "Source: [UCI](https://archive.ics.uci.edu/ml/datasets/SMS+Spam+Collection)."
   ]
  },
  {
   "cell_type": "markdown",
   "metadata": {},
   "source": [
    "## Setup"
   ]
  },
  {
   "cell_type": "code",
   "execution_count": 652,
   "metadata": {},
   "outputs": [],
   "source": [
    "import pandas as pd\n",
    "import numpy as np\n",
    "import random as random  # For randomly sampling from lists\n",
    "import re as re          # regrex package for string splitting\n",
    "import matplotlib.pyplot as plt\n",
    "from sklearn.model_selection         import train_test_split\n",
    "from sklearn.feature_extraction.text import CountVectorizer\n",
    "from sklearn.naive_bayes             import MultinomialNB\n",
    "from sklearn.linear_model            import SGDClassifier\n",
    "from sklearn.metrics                 import accuracy_score, precision_score, recall_score, f1_score"
   ]
  },
  {
   "cell_type": "markdown",
   "metadata": {},
   "source": []
  },
  {
   "cell_type": "code",
   "execution_count": 655,
   "metadata": {},
   "outputs": [],
   "source": [
    "###  --- Read in data  --- \n",
    "data_in = pd.read_table('/Users/Administrator/Documents/Work/pylearn/Bayes/smsspamcollection/SMSSpamCollection',\n",
    "                        sep='\\t',\n",
    "                        names = ['label','sms_message'])\n",
    "data_in['label'] = data_in.label.map({'ham': 0, 'spam': 1})"
   ]
  },
  {
   "cell_type": "markdown",
   "metadata": {},
   "source": [
    "## Quick Summary Results"
   ]
  },
  {
   "cell_type": "code",
   "execution_count": 641,
   "metadata": {},
   "outputs": [
    {
     "data": {
      "text/html": [
       "<div>\n",
       "<style scoped>\n",
       "    .dataframe tbody tr th:only-of-type {\n",
       "        vertical-align: middle;\n",
       "    }\n",
       "\n",
       "    .dataframe tbody tr th {\n",
       "        vertical-align: top;\n",
       "    }\n",
       "\n",
       "    .dataframe thead th {\n",
       "        text-align: right;\n",
       "    }\n",
       "</style>\n",
       "<table border=\"1\" class=\"dataframe\">\n",
       "  <thead>\n",
       "    <tr style=\"text-align: right;\">\n",
       "      <th></th>\n",
       "      <th>label</th>\n",
       "      <th>sms_message</th>\n",
       "    </tr>\n",
       "  </thead>\n",
       "  <tbody>\n",
       "    <tr>\n",
       "      <th>0</th>\n",
       "      <td>0</td>\n",
       "      <td>Go until jurong point, crazy.. Available only in bugis n great world la e bu...</td>\n",
       "    </tr>\n",
       "    <tr>\n",
       "      <th>1</th>\n",
       "      <td>0</td>\n",
       "      <td>Ok lar... Joking wif u oni...</td>\n",
       "    </tr>\n",
       "    <tr>\n",
       "      <th>2</th>\n",
       "      <td>1</td>\n",
       "      <td>Free entry in 2 a wkly comp to win FA Cup final tkts 21st May 2005. Text FA ...</td>\n",
       "    </tr>\n",
       "    <tr>\n",
       "      <th>3</th>\n",
       "      <td>0</td>\n",
       "      <td>U dun say so early hor... U c already then say...</td>\n",
       "    </tr>\n",
       "    <tr>\n",
       "      <th>4</th>\n",
       "      <td>0</td>\n",
       "      <td>Nah I don't think he goes to usf, he lives around here though</td>\n",
       "    </tr>\n",
       "    <tr>\n",
       "      <th>...</th>\n",
       "      <td>...</td>\n",
       "      <td>...</td>\n",
       "    </tr>\n",
       "    <tr>\n",
       "      <th>5567</th>\n",
       "      <td>1</td>\n",
       "      <td>This is the 2nd time we have tried 2 contact u. U have won the £750 Pound pr...</td>\n",
       "    </tr>\n",
       "    <tr>\n",
       "      <th>5568</th>\n",
       "      <td>0</td>\n",
       "      <td>Will ü b going to esplanade fr home?</td>\n",
       "    </tr>\n",
       "    <tr>\n",
       "      <th>5569</th>\n",
       "      <td>0</td>\n",
       "      <td>Pity, * was in mood for that. So...any other suggestions?</td>\n",
       "    </tr>\n",
       "    <tr>\n",
       "      <th>5570</th>\n",
       "      <td>0</td>\n",
       "      <td>The guy did some bitching but I acted like i'd be interested in buying somet...</td>\n",
       "    </tr>\n",
       "    <tr>\n",
       "      <th>5571</th>\n",
       "      <td>0</td>\n",
       "      <td>Rofl. Its true to its name</td>\n",
       "    </tr>\n",
       "  </tbody>\n",
       "</table>\n",
       "<p>5572 rows × 2 columns</p>\n",
       "</div>"
      ],
      "text/plain": [
       "      label  \\\n",
       "0         0   \n",
       "1         0   \n",
       "2         1   \n",
       "3         0   \n",
       "4         0   \n",
       "...     ...   \n",
       "5567      1   \n",
       "5568      0   \n",
       "5569      0   \n",
       "5570      0   \n",
       "5571      0   \n",
       "\n",
       "                                                                          sms_message  \n",
       "0     Go until jurong point, crazy.. Available only in bugis n great world la e bu...  \n",
       "1                                                       Ok lar... Joking wif u oni...  \n",
       "2     Free entry in 2 a wkly comp to win FA Cup final tkts 21st May 2005. Text FA ...  \n",
       "3                                   U dun say so early hor... U c already then say...  \n",
       "4                       Nah I don't think he goes to usf, he lives around here though  \n",
       "...                                                                               ...  \n",
       "5567  This is the 2nd time we have tried 2 contact u. U have won the £750 Pound pr...  \n",
       "5568                                             Will ü b going to esplanade fr home?  \n",
       "5569                        Pity, * was in mood for that. So...any other suggestions?  \n",
       "5570  The guy did some bitching but I acted like i'd be interested in buying somet...  \n",
       "5571                                                       Rofl. Its true to its name  \n",
       "\n",
       "[5572 rows x 2 columns]"
      ]
     },
     "execution_count": 641,
     "metadata": {},
     "output_type": "execute_result"
    }
   ],
   "source": [
    "### --- View Data --- \n",
    "pd.set_option('display.max_colwidth', 80)\n",
    "data_mod = data_in\n",
    "data_mod"
   ]
  },
  {
   "cell_type": "code",
   "execution_count": 642,
   "metadata": {},
   "outputs": [],
   "source": [
    "### --- Derive quick-view results ---\n",
    "quick_summary = data_in.groupby([\"label\"]).count()\n",
    "spam_frac     = np.array(quick_summary)[1][0] / (np.array(quick_summary)[1][0] + np.array(quick_summary)[0][0])"
   ]
  },
  {
   "cell_type": "code",
   "execution_count": 643,
   "metadata": {
    "scrolled": true
   },
   "outputs": [
    {
     "name": "stdout",
     "output_type": "stream",
     "text": [
      "       sms_message\n",
      "label             \n",
      "0             4825\n",
      "1              747\n",
      "Spam fraction is :  13.41 %\n"
     ]
    }
   ],
   "source": [
    "### --- PRINT quick-view results ---\n",
    "print(quick_summary)\n",
    "print('Spam fraction is : ',format(spam_frac*100,\".2f\"),\"%\")"
   ]
  },
  {
   "cell_type": "markdown",
   "metadata": {},
   "source": [
    "## Subset data into train/test and predictors/response"
   ]
  },
  {
   "cell_type": "code",
   "execution_count": 645,
   "metadata": {
    "scrolled": true
   },
   "outputs": [
    {
     "name": "stdout",
     "output_type": "stream",
     "text": [
      "Number of rows in the train set: 4179\n",
      "Number of rows in the test  set: 1393\n"
     ]
    }
   ],
   "source": [
    "X_train_raw, X_test, y_train_raw, y_test = train_test_split(data_mod['sms_message'], \n",
    "                                                            data_mod['label'], \n",
    "                                                            random_state=1)\n",
    "\n",
    "X_train = X_train_raw\n",
    "y_train = y_train_raw\n",
    "\n",
    "print('Number of rows in the train set: {}'.format(X_train.shape[0]))\n",
    "print('Number of rows in the test  set: {}'.format(X_test.shape[0]))\n"
   ]
  },
  {
   "cell_type": "markdown",
   "metadata": {},
   "source": [
    "## Apply Sci-Kit Learn's 'string tokeniser'\n",
    "#### This will convert a string into a list of tokens using different strategies ([visual example](https://www.educative.io/edpresso/countvectorizer-in-python))"
   ]
  },
  {
   "cell_type": "code",
   "execution_count": 646,
   "metadata": {},
   "outputs": [
    {
     "name": "stdout",
     "output_type": "stream",
     "text": [
      "Sample of names from 'dat_train_names'  is: \n",
      " ['1500', 'chinese', 'cutter', 'er', 'opener', 'persons', 'petey', 'replacement', 'role', 'vijay']\n"
     ]
    }
   ],
   "source": [
    "count_vector  = CountVectorizer()\n",
    "dat_train_names = count_vector.fit(X_train).get_feature_names()\n",
    "print('Sample of names from \\'dat_train_names\\'  is: \\n',sorted(random.sample(dat_train_names,10)))"
   ]
  },
  {
   "cell_type": "markdown",
   "metadata": {},
   "source": [
    "## Simple initial run (full dataset)"
   ]
  },
  {
   "cell_type": "code",
   "execution_count": 647,
   "metadata": {},
   "outputs": [],
   "source": [
    "count_vector  = CountVectorizer()\n",
    "training_data = count_vector.fit_transform(X_train)\n",
    "# print(training_data)"
   ]
  },
  {
   "cell_type": "code",
   "execution_count": 567,
   "metadata": {},
   "outputs": [],
   "source": [
    "testing_data = count_vector.transform(X_test)\n",
    "# print(testing_data)"
   ]
  },
  {
   "cell_type": "code",
   "execution_count": 568,
   "metadata": {},
   "outputs": [],
   "source": [
    "naive_bayes = MultinomialNB()\n",
    "naive_bayes.fit(training_data,y_train);"
   ]
  },
  {
   "cell_type": "code",
   "execution_count": 569,
   "metadata": {},
   "outputs": [],
   "source": [
    "naive_pred = naive_bayes.predict(testing_data)\n",
    "# naive_pred"
   ]
  },
  {
   "cell_type": "code",
   "execution_count": 570,
   "metadata": {},
   "outputs": [
    {
     "name": "stdout",
     "output_type": "stream",
     "text": [
      "Accuracy score:   0.9885\n",
      "F1 score:         0.9560\n"
     ]
    }
   ],
   "source": [
    "print('Accuracy score:  ', format( accuracy_score(y_test,naive_pred),\".4f\"))\n",
    "# print('Precision score: ', format(precision_score(y_test,naive_pred),\".4f\"))\n",
    "# print('Recall score:    ', format(   recall_score(y_test,naive_pred),\".4f\"))\n",
    "print('F1 score:        ', format(       f1_score(y_test,naive_pred),\".4f\"))"
   ]
  },
  {
   "cell_type": "markdown",
   "metadata": {},
   "source": [
    "## Examine most important words (Naive Bayes)"
   ]
  },
  {
   "cell_type": "code",
   "execution_count": 571,
   "metadata": {},
   "outputs": [],
   "source": [
    "def show_most_informative_features(vectorizer, clf, n=20):\n",
    "    feature_names = vectorizer.get_feature_names()\n",
    "    coefs_with_fns = sorted(zip(clf.coef_[0], feature_names))\n",
    "    top = zip(coefs_with_fns[:n], coefs_with_fns[:-(n + 1):-1])\n",
    "    for (coef_1, fn_1), (coef_2, fn_2) in top:\n",
    "        print(\"\\t%.4f\\t%-15s\\t\\t%.4f\\t%-15s\" % (coef_1, fn_1, coef_2, fn_2))"
   ]
  },
  {
   "cell_type": "code",
   "execution_count": 572,
   "metadata": {},
   "outputs": [
    {
     "name": "stdout",
     "output_type": "stream",
     "text": [
      "\t-9.9328\t0125698789     \t\t-3.6984\tto             \n",
      "\t-9.9328\t1030           \t\t-4.3270\tcall           \n",
      "\t-9.9328\t1120           \t\t-4.5437\tyou            \n",
      "\t-9.9328\t116            \t\t-4.6395\tyour           \n",
      "\t-9.9328\t1205           \t\t-4.8639\tfree           \n",
      "\t-9.9328\t128            \t\t-4.8639\tfor            \n",
      "\t-9.9328\t130            \t\t-4.8702\tthe            \n",
      "\t-9.9328\t140            \t\t-4.9700\tnow            \n",
      "\t-9.9328\t1405           \t\t-4.9770\tor             \n",
      "\t-9.9328\t15             \t\t-5.1879\ttxt            \n",
      "\t-9.9328\t15pm           \t\t-5.2143\tis             \n",
      "\t-9.9328\t1680           \t\t-5.2981\ton             \n",
      "\t-9.9328\t180            \t\t-5.3078\tur             \n",
      "\t-9.9328\t1843           \t\t-5.3078\thave           \n",
      "\t-9.9328\t1apple         \t\t-5.3177\tfrom           \n",
      "\t-9.9328\t1cup           \t\t-5.3276\ttext           \n",
      "\t-9.9328\t1hr            \t\t-5.3478\tstop           \n",
      "\t-9.9328\t1im            \t\t-5.3789\tand            \n",
      "\t-9.9328\t1lemon         \t\t-5.4219\tmobile         \n",
      "\t-9.9328\t1mega          \t\t-5.4442\twith           \n"
     ]
    }
   ],
   "source": [
    "show_most_informative_features(count_vector,naive_bayes, 20)"
   ]
  },
  {
   "cell_type": "markdown",
   "metadata": {},
   "source": [
    "## Vary sample size to analyse convergence rates"
   ]
  },
  {
   "cell_type": "markdown",
   "metadata": {},
   "source": [
    "#### Useful definitions we will refer back to:\n",
    "**Precision:** What proportion of positive identifications was actually correct?  \n",
    "**Precision:** TP / (TP + FP)\n",
    "    --> simple optimisation: reduce volume of positive predictions\n",
    "    \n",
    "**Recall:** What proportion of actual positives was identified correctly?  \n",
    "**Recall:** TP / (TP + FN)\n",
    "    --> simple optimisation: increase volume of positive predictions\n",
    "    \n",
    "**f1-score:** Harmonic mean of Precision and Recall  \n",
    "**f1_score:** (Precision * Recall) / ((1/2) * (Precision + Recall))\n",
    "\n",
    "**Accuracy:** What proportion of all predictions are correct  \n",
    "**Accuracy:** (TP + TN) / #\\_Pred"
   ]
  },
  {
   "cell_type": "code",
   "execution_count": 573,
   "metadata": {},
   "outputs": [],
   "source": [
    "Set samples to analyse ---\n",
    "sample_sizes = [\n",
    "    10,20,30,40,50,75,100,125,150,\n",
    "    200,250,300,500,700,1000,1120,\n",
    "    1500,2000,3000,4179\n",
    "     ]\n",
    "# sample_sizes"
   ]
  },
  {
   "cell_type": "code",
   "execution_count": 580,
   "metadata": {
    "scrolled": true
   },
   "outputs": [],
   "source": [
    "### --- Fit, predict and save scores for each sample Size ---\n",
    "random.seed(2)\n",
    "Results = []\n",
    "row = 0\n",
    "for i in zip(sample_sizes):\n",
    "    \n",
    "    sampled = pd.DataFrame({\"y_train_raw\": y_train_raw,\n",
    "                            \"X_train_raw\": X_train_raw}\n",
    "                          ).sample(n = i[0])\n",
    "    \n",
    "    X_train = sampled[\"X_train_raw\"]\n",
    "    y_train = sampled[\"y_train_raw\"]\n",
    "    \n",
    "    count_vector  = CountVectorizer()\n",
    "    training_data = count_vector.fit_transform(X_train)\n",
    "    testing_data  = count_vector.transform(X_test)\n",
    "   \n",
    "    ### NAIVE BAYES\n",
    "    ### Instantiate and fit model \n",
    "    naive_bayes = MultinomialNB()\n",
    "    naive_bayes.fit(training_data,y_train)\n",
    "    \n",
    "    ### Predict Model\n",
    "    naive_pred = naive_bayes.predict(testing_data)\n",
    "    \n",
    "    ### LINEAR MODEL\n",
    "    ### Instantiate and fit model \n",
    "    lm_model = SGDClassifier()\n",
    "    lm_model.fit(training_data , y_train)\n",
    "    \n",
    "    ### Predict Model\n",
    "    lm_model_pred = lm_model.predict(testing_data)\n",
    "\n",
    "    Results.append(\n",
    "                    {\n",
    "                        'Sample_Size'  : i[0],\n",
    "                        'Feature_set'  : training_data.shape[1],\n",
    "                        \n",
    "                        'NB_train_f1'  : f1_score(       y_train,naive_bayes.predict(training_data)),\n",
    "                        'NB_test_f1'   : f1_score(       y_test ,naive_bayes.predict(testing_data)),\n",
    "                        \n",
    "                        'LM_train_f1'  : f1_score(       y_train,   lm_model.predict(training_data)),\n",
    "                        'LM_test_f1'   : f1_score(       y_test ,   lm_model.predict(testing_data)),\n",
    "                        \n",
    "                        \n",
    "#                         'NB_train_acc' : accuracy_score( y_train,naive_bayes.predict(training_data)),\n",
    "                        'NB_test_acc'  : accuracy_score( y_test ,naive_bayes.predict(testing_data)),\n",
    "                        \n",
    "#                         'LM_train_acc' : accuracy_score( y_train,   lm_model.predict(training_data)),\n",
    "                        'LM_test_acc'  : accuracy_score( y_test ,   lm_model.predict(testing_data)),\n",
    "                        \n",
    "                        \n",
    "#                         'NB_train_prec': precision_score(y_train,naive_bayes.predict(training_data)),\n",
    "                        'NB_test_prec' : precision_score(y_test ,naive_bayes.predict(testing_data)),\n",
    "                        \n",
    "#                         'LM_train_prec': precision_score(y_train,   lm_model.predict(training_data)),\n",
    "                        'LM_test_prec' : precision_score(y_test ,   lm_model.predict(testing_data)),\n",
    "                        \n",
    "                        \n",
    "#                         'NB_train_rec' : recall_score(   y_train,naive_bayes.predict(training_data)),\n",
    "                        'NB_test_rec'  : recall_score(   y_test ,naive_bayes.predict(testing_data)),\n",
    "                        \n",
    "#                         'LM_train_rec' : recall_score(   y_train,   lm_model.predict(training_data)),\n",
    "                        'LM_test_rec'  : recall_score(   y_test ,   lm_model.predict(testing_data)),\n",
    "                        \n",
    "                    })\n",
    "    \n",
    "    row = row + 1\n",
    "    \n",
    "Results = pd.DataFrame(Results)"
   ]
  },
  {
   "cell_type": "markdown",
   "metadata": {},
   "source": [
    "## View results"
   ]
  },
  {
   "cell_type": "code",
   "execution_count": 649,
   "metadata": {
    "scrolled": true
   },
   "outputs": [
    {
     "data": {
      "image/png": "[encoded data removed]",
      "text/plain": [
       "<Figure size 432x288 with 1 Axes>"
      ]
     },
     "metadata": {
      "needs_background": "light"
     },
     "output_type": "display_data"
    }
   ],
   "source": [
    "### --- f-score ---\n",
    "%matplotlib inline\n",
    "plot_dat = Results\n",
    "plot_dat = Results[(Results[\"Sample_Size\"] > 20) & (Results[\"Sample_Size\"] <= 1000)]\n",
    "my_plot  = plt.plot(plot_dat[\"Sample_Size\"],plot_dat.filter(regex = 'test_f1') )\n",
    "plt.legend(iter(my_plot), ('Naive', 'Linear'))\n",
    "plt.xlabel('Sample_Size')\n",
    "plt.ylabel('f-score')\n",
    "plt.title('Naive vs Linear Models: f-score');\n"
   ]
  },
  {
   "cell_type": "code",
   "execution_count": 650,
   "metadata": {
    "scrolled": true
   },
   "outputs": [
    {
     "data": {
      "image/png": "[encoded data removed]",
      "text/plain": [
       "<Figure size 432x288 with 1 Axes>"
      ]
     },
     "metadata": {
      "needs_background": "light"
     },
     "output_type": "display_data"
    }
   ],
   "source": [
    "### --- Accuracy ---\n",
    "%matplotlib inline\n",
    "plot_dat = Results\n",
    "plot_dat = Results[(Results[\"Sample_Size\"] > 20) & (Results[\"Sample_Size\"] <= 1000)]\n",
    "my_plot  = plt.plot(plot_dat[\"Sample_Size\"],plot_dat.filter(regex = 'test_acc') )\n",
    "plt.legend(iter(my_plot), ('Naive', 'Linear'))\n",
    "plt.xlabel('Sample_Size')\n",
    "plt.ylabel('Accuracy')\n",
    "plt.title('Naive vs Linear Models: Accuracy');\n"
   ]
  },
  {
   "cell_type": "code",
   "execution_count": 660,
   "metadata": {},
   "outputs": [
    {
     "data": {
      "image/png": "[encoded data removed]",
      "text/plain": [
       "<Figure size 432x288 with 1 Axes>"
      ]
     },
     "metadata": {
      "needs_background": "light"
     },
     "output_type": "display_data"
    }
   ],
   "source": [
    "### --- Accuracy ---\n",
    "%matplotlib inline\n",
    "plot_dat = Results\n",
    "plot_dat = Results[(Results[\"Sample_Size\"] > 20) & (Results[\"Sample_Size\"] <= 1000)]\n",
    "my_plot  = plt.plot(plot_dat[\"Sample_Size\"],plot_dat.filter(regex = 'test_prec') )\n",
    "plt.legend(iter(my_plot), ('Naive', 'Linear'))\n",
    "plt.xlabel('Sample_Size')\n",
    "plt.ylabel('Precision')\n",
    "plt.title('Naive vs Linear Models: Precision');\n"
   ]
  },
  {
   "cell_type": "code",
   "execution_count": 658,
   "metadata": {},
   "outputs": [],
   "source": [
    "###  --- Print table of results (CUT DOWN) --- \n",
    "# pd.DataFrame(Results)\n",
    "# pd.DataFrame(Results.filter(regex = 'Sample|set|test_f1'))"
   ]
  },
  {
   "cell_type": "code",
   "execution_count": 659,
   "metadata": {},
   "outputs": [
    {
     "data": {
      "text/html": [
       "<div>\n",
       "<style scoped>\n",
       "    .dataframe tbody tr th:only-of-type {\n",
       "        vertical-align: middle;\n",
       "    }\n",
       "\n",
       "    .dataframe tbody tr th {\n",
       "        vertical-align: top;\n",
       "    }\n",
       "\n",
       "    .dataframe thead th {\n",
       "        text-align: right;\n",
       "    }\n",
       "</style>\n",
       "<table border=\"1\" class=\"dataframe\">\n",
       "  <thead>\n",
       "    <tr style=\"text-align: right;\">\n",
       "      <th></th>\n",
       "      <th>Sample_Size</th>\n",
       "      <th>Feature_set</th>\n",
       "      <th>NB_test_f1</th>\n",
       "      <th>LM_test_f1</th>\n",
       "      <th>NB_test_acc</th>\n",
       "      <th>LM_test_acc</th>\n",
       "      <th>NB_test_prec</th>\n",
       "      <th>LM_test_prec</th>\n",
       "      <th>NB_test_rec</th>\n",
       "      <th>LM_test_rec</th>\n",
       "    </tr>\n",
       "  </thead>\n",
       "  <tbody>\n",
       "    <tr>\n",
       "      <th>0</th>\n",
       "      <td>10</td>\n",
       "      <td>110</td>\n",
       "      <td>0.461538</td>\n",
       "      <td>0.385827</td>\n",
       "      <td>0.854271</td>\n",
       "      <td>0.776023</td>\n",
       "      <td>0.453125</td>\n",
       "      <td>0.303406</td>\n",
       "      <td>0.470270</td>\n",
       "      <td>0.529730</td>\n",
       "    </tr>\n",
       "    <tr>\n",
       "      <th>1</th>\n",
       "      <td>20</td>\n",
       "      <td>218</td>\n",
       "      <td>0.415385</td>\n",
       "      <td>0.280374</td>\n",
       "      <td>0.890883</td>\n",
       "      <td>0.834171</td>\n",
       "      <td>0.720000</td>\n",
       "      <td>0.330882</td>\n",
       "      <td>0.291892</td>\n",
       "      <td>0.243243</td>\n",
       "    </tr>\n",
       "    <tr>\n",
       "      <th>2</th>\n",
       "      <td>30</td>\n",
       "      <td>252</td>\n",
       "      <td>0.573379</td>\n",
       "      <td>0.332180</td>\n",
       "      <td>0.910266</td>\n",
       "      <td>0.861450</td>\n",
       "      <td>0.777778</td>\n",
       "      <td>0.461538</td>\n",
       "      <td>0.454054</td>\n",
       "      <td>0.259459</td>\n",
       "    </tr>\n",
       "    <tr>\n",
       "      <th>3</th>\n",
       "      <td>40</td>\n",
       "      <td>367</td>\n",
       "      <td>0.377193</td>\n",
       "      <td>0.489796</td>\n",
       "      <td>0.898062</td>\n",
       "      <td>0.892319</td>\n",
       "      <td>1.000000</td>\n",
       "      <td>0.660550</td>\n",
       "      <td>0.232432</td>\n",
       "      <td>0.389189</td>\n",
       "    </tr>\n",
       "    <tr>\n",
       "      <th>4</th>\n",
       "      <td>50</td>\n",
       "      <td>393</td>\n",
       "      <td>0.764890</td>\n",
       "      <td>0.624079</td>\n",
       "      <td>0.946159</td>\n",
       "      <td>0.890165</td>\n",
       "      <td>0.910448</td>\n",
       "      <td>0.572072</td>\n",
       "      <td>0.659459</td>\n",
       "      <td>0.686486</td>\n",
       "    </tr>\n",
       "    <tr>\n",
       "      <th>5</th>\n",
       "      <td>75</td>\n",
       "      <td>648</td>\n",
       "      <td>0.780186</td>\n",
       "      <td>0.530892</td>\n",
       "      <td>0.949031</td>\n",
       "      <td>0.852836</td>\n",
       "      <td>0.913043</td>\n",
       "      <td>0.460317</td>\n",
       "      <td>0.681081</td>\n",
       "      <td>0.627027</td>\n",
       "    </tr>\n",
       "    <tr>\n",
       "      <th>6</th>\n",
       "      <td>100</td>\n",
       "      <td>712</td>\n",
       "      <td>0.819572</td>\n",
       "      <td>0.666667</td>\n",
       "      <td>0.957645</td>\n",
       "      <td>0.903087</td>\n",
       "      <td>0.943662</td>\n",
       "      <td>0.613636</td>\n",
       "      <td>0.724324</td>\n",
       "      <td>0.729730</td>\n",
       "    </tr>\n",
       "    <tr>\n",
       "      <th>7</th>\n",
       "      <td>125</td>\n",
       "      <td>820</td>\n",
       "      <td>0.807692</td>\n",
       "      <td>0.642336</td>\n",
       "      <td>0.956927</td>\n",
       "      <td>0.894472</td>\n",
       "      <td>0.992126</td>\n",
       "      <td>0.584071</td>\n",
       "      <td>0.681081</td>\n",
       "      <td>0.713514</td>\n",
       "    </tr>\n",
       "    <tr>\n",
       "      <th>8</th>\n",
       "      <td>150</td>\n",
       "      <td>943</td>\n",
       "      <td>0.888889</td>\n",
       "      <td>0.713615</td>\n",
       "      <td>0.972003</td>\n",
       "      <td>0.912419</td>\n",
       "      <td>0.939759</td>\n",
       "      <td>0.630705</td>\n",
       "      <td>0.843243</td>\n",
       "      <td>0.821622</td>\n",
       "    </tr>\n",
       "    <tr>\n",
       "      <th>9</th>\n",
       "      <td>200</td>\n",
       "      <td>1220</td>\n",
       "      <td>0.890805</td>\n",
       "      <td>0.756264</td>\n",
       "      <td>0.972721</td>\n",
       "      <td>0.923187</td>\n",
       "      <td>0.950920</td>\n",
       "      <td>0.653543</td>\n",
       "      <td>0.837838</td>\n",
       "      <td>0.897297</td>\n",
       "    </tr>\n",
       "    <tr>\n",
       "      <th>10</th>\n",
       "      <td>250</td>\n",
       "      <td>1462</td>\n",
       "      <td>0.915730</td>\n",
       "      <td>0.809877</td>\n",
       "      <td>0.978464</td>\n",
       "      <td>0.944724</td>\n",
       "      <td>0.953216</td>\n",
       "      <td>0.745455</td>\n",
       "      <td>0.881081</td>\n",
       "      <td>0.886486</td>\n",
       "    </tr>\n",
       "    <tr>\n",
       "      <th>11</th>\n",
       "      <td>300</td>\n",
       "      <td>1579</td>\n",
       "      <td>0.902655</td>\n",
       "      <td>0.830287</td>\n",
       "      <td>0.976310</td>\n",
       "      <td>0.953338</td>\n",
       "      <td>0.993506</td>\n",
       "      <td>0.803030</td>\n",
       "      <td>0.827027</td>\n",
       "      <td>0.859459</td>\n",
       "    </tr>\n",
       "    <tr>\n",
       "      <th>12</th>\n",
       "      <td>500</td>\n",
       "      <td>2143</td>\n",
       "      <td>0.905444</td>\n",
       "      <td>0.827586</td>\n",
       "      <td>0.976310</td>\n",
       "      <td>0.956927</td>\n",
       "      <td>0.963415</td>\n",
       "      <td>0.883436</td>\n",
       "      <td>0.854054</td>\n",
       "      <td>0.778378</td>\n",
       "    </tr>\n",
       "    <tr>\n",
       "      <th>13</th>\n",
       "      <td>700</td>\n",
       "      <td>2681</td>\n",
       "      <td>0.904348</td>\n",
       "      <td>0.885057</td>\n",
       "      <td>0.976310</td>\n",
       "      <td>0.971285</td>\n",
       "      <td>0.975000</td>\n",
       "      <td>0.944785</td>\n",
       "      <td>0.843243</td>\n",
       "      <td>0.832432</td>\n",
       "    </tr>\n",
       "    <tr>\n",
       "      <th>14</th>\n",
       "      <td>1000</td>\n",
       "      <td>3349</td>\n",
       "      <td>0.917379</td>\n",
       "      <td>0.891247</td>\n",
       "      <td>0.979182</td>\n",
       "      <td>0.970567</td>\n",
       "      <td>0.969880</td>\n",
       "      <td>0.875000</td>\n",
       "      <td>0.870270</td>\n",
       "      <td>0.908108</td>\n",
       "    </tr>\n",
       "    <tr>\n",
       "      <th>15</th>\n",
       "      <td>1120</td>\n",
       "      <td>3652</td>\n",
       "      <td>0.938547</td>\n",
       "      <td>0.901408</td>\n",
       "      <td>0.984207</td>\n",
       "      <td>0.974874</td>\n",
       "      <td>0.971098</td>\n",
       "      <td>0.941176</td>\n",
       "      <td>0.908108</td>\n",
       "      <td>0.864865</td>\n",
       "    </tr>\n",
       "    <tr>\n",
       "      <th>16</th>\n",
       "      <td>1500</td>\n",
       "      <td>4227</td>\n",
       "      <td>0.940845</td>\n",
       "      <td>0.922252</td>\n",
       "      <td>0.984925</td>\n",
       "      <td>0.979182</td>\n",
       "      <td>0.982353</td>\n",
       "      <td>0.914894</td>\n",
       "      <td>0.902703</td>\n",
       "      <td>0.929730</td>\n",
       "    </tr>\n",
       "    <tr>\n",
       "      <th>17</th>\n",
       "      <td>2000</td>\n",
       "      <td>4970</td>\n",
       "      <td>0.950000</td>\n",
       "      <td>0.944134</td>\n",
       "      <td>0.987078</td>\n",
       "      <td>0.985642</td>\n",
       "      <td>0.977143</td>\n",
       "      <td>0.976879</td>\n",
       "      <td>0.924324</td>\n",
       "      <td>0.913514</td>\n",
       "    </tr>\n",
       "    <tr>\n",
       "      <th>18</th>\n",
       "      <td>3000</td>\n",
       "      <td>6249</td>\n",
       "      <td>0.950000</td>\n",
       "      <td>0.934473</td>\n",
       "      <td>0.987078</td>\n",
       "      <td>0.983489</td>\n",
       "      <td>0.977143</td>\n",
       "      <td>0.987952</td>\n",
       "      <td>0.924324</td>\n",
       "      <td>0.886486</td>\n",
       "    </tr>\n",
       "    <tr>\n",
       "      <th>19</th>\n",
       "      <td>4179</td>\n",
       "      <td>7456</td>\n",
       "      <td>0.956044</td>\n",
       "      <td>0.946479</td>\n",
       "      <td>0.988514</td>\n",
       "      <td>0.986360</td>\n",
       "      <td>0.972067</td>\n",
       "      <td>0.988235</td>\n",
       "      <td>0.940541</td>\n",
       "      <td>0.908108</td>\n",
       "    </tr>\n",
       "  </tbody>\n",
       "</table>\n",
       "</div>"
      ],
      "text/plain": [
       "    Sample_Size  Feature_set  NB_test_f1  LM_test_f1  NB_test_acc  \\\n",
       "0            10          110    0.461538    0.385827     0.854271   \n",
       "1            20          218    0.415385    0.280374     0.890883   \n",
       "2            30          252    0.573379    0.332180     0.910266   \n",
       "3            40          367    0.377193    0.489796     0.898062   \n",
       "4            50          393    0.764890    0.624079     0.946159   \n",
       "5            75          648    0.780186    0.530892     0.949031   \n",
       "6           100          712    0.819572    0.666667     0.957645   \n",
       "7           125          820    0.807692    0.642336     0.956927   \n",
       "8           150          943    0.888889    0.713615     0.972003   \n",
       "9           200         1220    0.890805    0.756264     0.972721   \n",
       "10          250         1462    0.915730    0.809877     0.978464   \n",
       "11          300         1579    0.902655    0.830287     0.976310   \n",
       "12          500         2143    0.905444    0.827586     0.976310   \n",
       "13          700         2681    0.904348    0.885057     0.976310   \n",
       "14         1000         3349    0.917379    0.891247     0.979182   \n",
       "15         1120         3652    0.938547    0.901408     0.984207   \n",
       "16         1500         4227    0.940845    0.922252     0.984925   \n",
       "17         2000         4970    0.950000    0.944134     0.987078   \n",
       "18         3000         6249    0.950000    0.934473     0.987078   \n",
       "19         4179         7456    0.956044    0.946479     0.988514   \n",
       "\n",
       "    LM_test_acc  NB_test_prec  LM_test_prec  NB_test_rec  LM_test_rec  \n",
       "0      0.776023      0.453125      0.303406     0.470270     0.529730  \n",
       "1      0.834171      0.720000      0.330882     0.291892     0.243243  \n",
       "2      0.861450      0.777778      0.461538     0.454054     0.259459  \n",
       "3      0.892319      1.000000      0.660550     0.232432     0.389189  \n",
       "4      0.890165      0.910448      0.572072     0.659459     0.686486  \n",
       "5      0.852836      0.913043      0.460317     0.681081     0.627027  \n",
       "6      0.903087      0.943662      0.613636     0.724324     0.729730  \n",
       "7      0.894472      0.992126      0.584071     0.681081     0.713514  \n",
       "8      0.912419      0.939759      0.630705     0.843243     0.821622  \n",
       "9      0.923187      0.950920      0.653543     0.837838     0.897297  \n",
       "10     0.944724      0.953216      0.745455     0.881081     0.886486  \n",
       "11     0.953338      0.993506      0.803030     0.827027     0.859459  \n",
       "12     0.956927      0.963415      0.883436     0.854054     0.778378  \n",
       "13     0.971285      0.975000      0.944785     0.843243     0.832432  \n",
       "14     0.970567      0.969880      0.875000     0.870270     0.908108  \n",
       "15     0.974874      0.971098      0.941176     0.908108     0.864865  \n",
       "16     0.979182      0.982353      0.914894     0.902703     0.929730  \n",
       "17     0.985642      0.977143      0.976879     0.924324     0.913514  \n",
       "18     0.983489      0.977143      0.987952     0.924324     0.886486  \n",
       "19     0.986360      0.972067      0.988235     0.940541     0.908108  "
      ]
     },
     "execution_count": 659,
     "metadata": {},
     "output_type": "execute_result"
    }
   ],
   "source": [
    "###  --- Print table of results (FULL) --- \n",
    "pd.DataFrame(Results)\n",
    "pd.DataFrame(Results.filter(regex = 'Sample|set|test'))"
   ]
  },
  {
   "cell_type": "code",
   "execution_count": null,
   "metadata": {},
   "outputs": [],
   "source": []
  }
 ],
 "metadata": {
  "kernelspec": {
   "display_name": "Python 3",
   "language": "python",
   "name": "python3"
  },
  "language_info": {
   "codemirror_mode": {
    "name": "ipython",
    "version": 3
   },
   "file_extension": ".py",
   "mimetype": "text/x-python",
   "name": "python",
   "nbconvert_exporter": "python",
   "pygments_lexer": "ipython3",
   "version": "3.7.6"
  },
  "varInspector": {
   "cols": {
    "lenName": 16,
    "lenType": 16,
    "lenVar": 40
   },
   "kernels_config": {
    "python": {
     "delete_cmd_postfix": "",
     "delete_cmd_prefix": "del ",
     "library": "var_list.py",
     "varRefreshCmd": "print(var_dic_list())"
    },
    "r": {
     "delete_cmd_postfix": ") ",
     "delete_cmd_prefix": "rm(",
     "library": "var_list.r",
     "varRefreshCmd": "cat(var_dic_list()) "
    }
   },
   "position": {
    "height": "222px",
    "left": "1267px",
    "right": "20px",
    "top": "86px",
    "width": "354px"
   },
   "types_to_exclude": [
    "module",
    "function",
    "builtin_function_or_method",
    "instance",
    "_Feature"
   ],
   "window_display": true
  }
 },
 "nbformat": 4,
 "nbformat_minor": 4
}
